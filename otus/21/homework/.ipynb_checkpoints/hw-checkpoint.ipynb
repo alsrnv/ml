{
 "cells": [
  {
   "cell_type": "code",
   "execution_count": 1,
   "metadata": {},
   "outputs": [],
   "source": [
    "import pandas as pd\n",
    "%matplotlib inline\n",
    "import seaborn as sns\n",
    "import matplotlib.pyplot as plt\n",
    "import os\n",
    "import warnings\n",
    "warnings.filterwarnings('ignore')"
   ]
  },
  {
   "cell_type": "markdown",
   "metadata": {},
   "source": [
    "**Загрузим данные**"
   ]
  },
  {
   "cell_type": "code",
   "execution_count": 2,
   "metadata": {},
   "outputs": [],
   "source": [
    "unames = ['user_id', 'gender', 'age', 'occupation', 'zip']\n",
    "users = pd.read_table('data/ml-1m/users.dat', sep='::',\n",
    "                            header=None, names=unames)\n",
    "rnames = ['user_id', 'movie_id', 'rating', 'timestamp']\n",
    "ratings = pd.read_table('data/ml-1m/ratings.dat', sep='::',\n",
    "                            header=None, names=rnames)\n",
    "mnames = ['movie_id', 'title', 'genres']\n",
    "movies = pd.read_table('data/ml-1m/movies.dat', sep='::',\n",
    "                            header=None, names=mnames)"
   ]
  },
  {
   "cell_type": "markdown",
   "metadata": {},
   "source": [
    "**1.Оценить количество фильмов, пользователей и оценок**"
   ]
  },
  {
   "cell_type": "code",
   "execution_count": 3,
   "metadata": {},
   "outputs": [
    {
     "data": {
      "text/plain": [
       "(3883, 6040, 1000209)"
      ]
     },
     "execution_count": 3,
     "metadata": {},
     "output_type": "execute_result"
    }
   ],
   "source": [
    "movies['movie_id'].nunique(), users['user_id'].nunique(), ratings.shape[0]"
   ]
  },
  {
   "cell_type": "markdown",
   "metadata": {},
   "source": [
    "**2.Оценить распределения (предлагается построить распределения количества оценок по <br>фильмам и пользователям и увидеть т.н. \"длинные хвосты\" в распределениях)**"
   ]
  },
  {
   "cell_type": "code",
   "execution_count": 4,
   "metadata": {},
   "outputs": [
    {
     "data": {
      "image/png": "[encoded data removed]",
      "text/plain": [
       "<Figure size 1080x360 with 2 Axes>"
      ]
     },
     "metadata": {
      "needs_background": "light"
     },
     "output_type": "display_data"
    }
   ],
   "source": [
    "#Распределение количества оценок по пользователям\n",
    "plt.figure(figsize = (15, 5))\n",
    "users_review = pd.merge(users,\n",
    "                        ratings.groupby('user_id')['movie_id'].count().reset_index().\\\n",
    "                            rename(columns = {'movie_id':'cnt_reviews'}),\n",
    "                        how = 'left', on = 'user_id').fillna(0)\n",
    "plt.subplot(1, 2, 1)\n",
    "sns.distplot(users_review['cnt_reviews'])\n",
    "plt.title('Распределение количества оценок по пользователям') \n",
    "plt.xlabel('Количество оценок');\n",
    "\n",
    "#Распределение количества оценок по фильмам\n",
    "movie_review = pd.merge(movies, \n",
    "                        ratings.groupby('movie_id')['user_id'].count().reset_index().\\\n",
    "                                 rename(columns = {'user_id':'cnt_reviews'}),\n",
    "                        how = 'left', on = 'movie_id').fillna(0)\n",
    "plt.subplot(1, 2, 2)\n",
    "sns.distplot(movie_review['cnt_reviews'])\n",
    "plt.title('Распределение количества оценок по фильмам') \n",
    "plt.xlabel('Количество оценок');"
   ]
  },
  {
   "cell_type": "markdown",
   "metadata": {},
   "source": [
    "**3.Оценить средние оценки по фильмам и по пользователям**"
   ]
  },
  {
   "cell_type": "code",
   "execution_count": 5,
   "metadata": {},
   "outputs": [
    {
     "data": {
      "text/html": [
       "<div>\n",
       "<style scoped>\n",
       "    .dataframe tbody tr th:only-of-type {\n",
       "        vertical-align: middle;\n",
       "    }\n",
       "\n",
       "    .dataframe tbody tr th {\n",
       "        vertical-align: top;\n",
       "    }\n",
       "\n",
       "    .dataframe thead th {\n",
       "        text-align: right;\n",
       "    }\n",
       "</style>\n",
       "<table border=\"1\" class=\"dataframe\">\n",
       "  <thead>\n",
       "    <tr style=\"text-align: right;\">\n",
       "      <th></th>\n",
       "      <th>user_id</th>\n",
       "      <th>movie_id</th>\n",
       "      <th>rating</th>\n",
       "      <th>timestamp</th>\n",
       "      <th>gender</th>\n",
       "      <th>age</th>\n",
       "      <th>occupation</th>\n",
       "      <th>zip</th>\n",
       "      <th>title</th>\n",
       "      <th>genres</th>\n",
       "    </tr>\n",
       "  </thead>\n",
       "  <tbody>\n",
       "    <tr>\n",
       "      <th>0</th>\n",
       "      <td>1</td>\n",
       "      <td>1193</td>\n",
       "      <td>5</td>\n",
       "      <td>978300760</td>\n",
       "      <td>F</td>\n",
       "      <td>1</td>\n",
       "      <td>10</td>\n",
       "      <td>48067</td>\n",
       "      <td>One Flew Over the Cuckoo's Nest (1975)</td>\n",
       "      <td>Drama</td>\n",
       "    </tr>\n",
       "    <tr>\n",
       "      <th>1</th>\n",
       "      <td>2</td>\n",
       "      <td>1193</td>\n",
       "      <td>5</td>\n",
       "      <td>978298413</td>\n",
       "      <td>M</td>\n",
       "      <td>56</td>\n",
       "      <td>16</td>\n",
       "      <td>70072</td>\n",
       "      <td>One Flew Over the Cuckoo's Nest (1975)</td>\n",
       "      <td>Drama</td>\n",
       "    </tr>\n",
       "    <tr>\n",
       "      <th>2</th>\n",
       "      <td>12</td>\n",
       "      <td>1193</td>\n",
       "      <td>4</td>\n",
       "      <td>978220179</td>\n",
       "      <td>M</td>\n",
       "      <td>25</td>\n",
       "      <td>12</td>\n",
       "      <td>32793</td>\n",
       "      <td>One Flew Over the Cuckoo's Nest (1975)</td>\n",
       "      <td>Drama</td>\n",
       "    </tr>\n",
       "    <tr>\n",
       "      <th>3</th>\n",
       "      <td>15</td>\n",
       "      <td>1193</td>\n",
       "      <td>4</td>\n",
       "      <td>978199279</td>\n",
       "      <td>M</td>\n",
       "      <td>25</td>\n",
       "      <td>7</td>\n",
       "      <td>22903</td>\n",
       "      <td>One Flew Over the Cuckoo's Nest (1975)</td>\n",
       "      <td>Drama</td>\n",
       "    </tr>\n",
       "    <tr>\n",
       "      <th>4</th>\n",
       "      <td>17</td>\n",
       "      <td>1193</td>\n",
       "      <td>5</td>\n",
       "      <td>978158471</td>\n",
       "      <td>M</td>\n",
       "      <td>50</td>\n",
       "      <td>1</td>\n",
       "      <td>95350</td>\n",
       "      <td>One Flew Over the Cuckoo's Nest (1975)</td>\n",
       "      <td>Drama</td>\n",
       "    </tr>\n",
       "  </tbody>\n",
       "</table>\n",
       "</div>"
      ],
      "text/plain": [
       "   user_id  movie_id  rating  timestamp gender  age  occupation    zip  \\\n",
       "0        1      1193       5  978300760      F    1          10  48067   \n",
       "1        2      1193       5  978298413      M   56          16  70072   \n",
       "2       12      1193       4  978220179      M   25          12  32793   \n",
       "3       15      1193       4  978199279      M   25           7  22903   \n",
       "4       17      1193       5  978158471      M   50           1  95350   \n",
       "\n",
       "                                    title genres  \n",
       "0  One Flew Over the Cuckoo's Nest (1975)  Drama  \n",
       "1  One Flew Over the Cuckoo's Nest (1975)  Drama  \n",
       "2  One Flew Over the Cuckoo's Nest (1975)  Drama  \n",
       "3  One Flew Over the Cuckoo's Nest (1975)  Drama  \n",
       "4  One Flew Over the Cuckoo's Nest (1975)  Drama  "
      ]
     },
     "execution_count": 5,
     "metadata": {},
     "output_type": "execute_result"
    }
   ],
   "source": [
    "data = pd.merge(pd.merge(ratings, users), movies)\n",
    "data.head()"
   ]
  },
  {
   "cell_type": "code",
   "execution_count": 6,
   "metadata": {},
   "outputs": [
    {
     "data": {
      "text/plain": [
       "3.238892177910887"
      ]
     },
     "execution_count": 6,
     "metadata": {},
     "output_type": "execute_result"
    }
   ],
   "source": [
    "#Средняя оценка фильму\n",
    "data.groupby('movie_id')['rating'].mean().reset_index()['rating'].mean()"
   ]
  },
  {
   "cell_type": "code",
   "execution_count": 7,
   "metadata": {},
   "outputs": [
    {
     "data": {
      "text/plain": [
       "3.7027048669997265"
      ]
     },
     "execution_count": 7,
     "metadata": {},
     "output_type": "execute_result"
    }
   ],
   "source": [
    "#Средняя оценка пользователя\n",
    "data.groupby('user_id')['rating'].mean().reset_index()['rating'].mean()"
   ]
  },
  {
   "cell_type": "markdown",
   "metadata": {},
   "source": [
    "**4.Выбрать критерий, показывающий, что фильм нравится всем, <br>или не нравится никому, и вывести топ фильмов из этих списков. <br>Знаете ли вы эти фильмы, согласны ли с оценками?**"
   ]
  },
  {
   "cell_type": "code",
   "execution_count": 8,
   "metadata": {},
   "outputs": [
    {
     "data": {
      "text/html": [
       "<div>\n",
       "<style scoped>\n",
       "    .dataframe tbody tr th:only-of-type {\n",
       "        vertical-align: middle;\n",
       "    }\n",
       "\n",
       "    .dataframe tbody tr th {\n",
       "        vertical-align: top;\n",
       "    }\n",
       "\n",
       "    .dataframe thead th {\n",
       "        text-align: right;\n",
       "    }\n",
       "</style>\n",
       "<table border=\"1\" class=\"dataframe\">\n",
       "  <thead>\n",
       "    <tr style=\"text-align: right;\">\n",
       "      <th></th>\n",
       "      <th>movie_id</th>\n",
       "      <th>title</th>\n",
       "      <th>mean_rating</th>\n",
       "      <th>cnt_users</th>\n",
       "    </tr>\n",
       "  </thead>\n",
       "  <tbody>\n",
       "    <tr>\n",
       "      <th>0</th>\n",
       "      <td>1</td>\n",
       "      <td>Toy Story (1995)</td>\n",
       "      <td>4.146846</td>\n",
       "      <td>2077</td>\n",
       "    </tr>\n",
       "    <tr>\n",
       "      <th>10</th>\n",
       "      <td>11</td>\n",
       "      <td>American President, The (1995)</td>\n",
       "      <td>3.793804</td>\n",
       "      <td>1033</td>\n",
       "    </tr>\n",
       "    <tr>\n",
       "      <th>20</th>\n",
       "      <td>21</td>\n",
       "      <td>Get Shorty (1995)</td>\n",
       "      <td>3.623894</td>\n",
       "      <td>1356</td>\n",
       "    </tr>\n",
       "    <tr>\n",
       "      <th>31</th>\n",
       "      <td>32</td>\n",
       "      <td>Twelve Monkeys (1995)</td>\n",
       "      <td>3.945731</td>\n",
       "      <td>1511</td>\n",
       "    </tr>\n",
       "    <tr>\n",
       "      <th>33</th>\n",
       "      <td>34</td>\n",
       "      <td>Babe (1995)</td>\n",
       "      <td>3.891491</td>\n",
       "      <td>1751</td>\n",
       "    </tr>\n",
       "  </tbody>\n",
       "</table>\n",
       "</div>"
      ],
      "text/plain": [
       "    movie_id                           title  mean_rating  cnt_users\n",
       "0          1                Toy Story (1995)     4.146846       2077\n",
       "10        11  American President, The (1995)     3.793804       1033\n",
       "20        21               Get Shorty (1995)     3.623894       1356\n",
       "31        32           Twelve Monkeys (1995)     3.945731       1511\n",
       "33        34                     Babe (1995)     3.891491       1751"
      ]
     },
     "execution_count": 8,
     "metadata": {},
     "output_type": "execute_result"
    }
   ],
   "source": [
    "# Для каждого фильма выведем среднюю оценку и количество оценок\n",
    "m4 = data.groupby(['movie_id', 'title']).agg({'rating':'mean', 'user_id':'count'}).reset_index().\\\n",
    "                                    rename(columns = {'rating':'mean_rating', 'user_id':'cnt_users'})\n",
    "\n",
    "#Чтобы оценка более робастной сделаем фильтр более 1000 оценок\n",
    "m4 = m4.query(\"\"\"cnt_users > 1000\"\"\")\n",
    "m4.head()"
   ]
  },
  {
   "cell_type": "code",
   "execution_count": 9,
   "metadata": {},
   "outputs": [
    {
     "data": {
      "text/html": [
       "<div>\n",
       "<style scoped>\n",
       "    .dataframe tbody tr th:only-of-type {\n",
       "        vertical-align: middle;\n",
       "    }\n",
       "\n",
       "    .dataframe tbody tr th {\n",
       "        vertical-align: top;\n",
       "    }\n",
       "\n",
       "    .dataframe thead th {\n",
       "        text-align: right;\n",
       "    }\n",
       "</style>\n",
       "<table border=\"1\" class=\"dataframe\">\n",
       "  <thead>\n",
       "    <tr style=\"text-align: right;\">\n",
       "      <th></th>\n",
       "      <th>movie_id</th>\n",
       "      <th>title</th>\n",
       "      <th>mean_rating</th>\n",
       "      <th>cnt_users</th>\n",
       "    </tr>\n",
       "  </thead>\n",
       "  <tbody>\n",
       "    <tr>\n",
       "      <th>309</th>\n",
       "      <td>318</td>\n",
       "      <td>Shawshank Redemption, The (1994)</td>\n",
       "      <td>4.554558</td>\n",
       "      <td>2227</td>\n",
       "    </tr>\n",
       "    <tr>\n",
       "      <th>802</th>\n",
       "      <td>858</td>\n",
       "      <td>Godfather, The (1972)</td>\n",
       "      <td>4.524966</td>\n",
       "      <td>2223</td>\n",
       "    </tr>\n",
       "    <tr>\n",
       "      <th>49</th>\n",
       "      <td>50</td>\n",
       "      <td>Usual Suspects, The (1995)</td>\n",
       "      <td>4.517106</td>\n",
       "      <td>1783</td>\n",
       "    </tr>\n",
       "    <tr>\n",
       "      <th>513</th>\n",
       "      <td>527</td>\n",
       "      <td>Schindler's List (1993)</td>\n",
       "      <td>4.510417</td>\n",
       "      <td>2304</td>\n",
       "    </tr>\n",
       "    <tr>\n",
       "      <th>1108</th>\n",
       "      <td>1198</td>\n",
       "      <td>Raiders of the Lost Ark (1981)</td>\n",
       "      <td>4.477725</td>\n",
       "      <td>2514</td>\n",
       "    </tr>\n",
       "  </tbody>\n",
       "</table>\n",
       "</div>"
      ],
      "text/plain": [
       "      movie_id                             title  mean_rating  cnt_users\n",
       "309        318  Shawshank Redemption, The (1994)     4.554558       2227\n",
       "802        858             Godfather, The (1972)     4.524966       2223\n",
       "49          50        Usual Suspects, The (1995)     4.517106       1783\n",
       "513        527           Schindler's List (1993)     4.510417       2304\n",
       "1108      1198    Raiders of the Lost Ark (1981)     4.477725       2514"
      ]
     },
     "execution_count": 9,
     "metadata": {},
     "output_type": "execute_result"
    }
   ],
   "source": [
    "#топ 5 фильмов которые всем нравятся \n",
    "m4.sort_values('mean_rating', ascending = False).head(5)"
   ]
  },
  {
   "cell_type": "code",
   "execution_count": 10,
   "metadata": {},
   "outputs": [
    {
     "data": {
      "text/html": [
       "<div>\n",
       "<style scoped>\n",
       "    .dataframe tbody tr th:only-of-type {\n",
       "        vertical-align: middle;\n",
       "    }\n",
       "\n",
       "    .dataframe tbody tr th {\n",
       "        vertical-align: top;\n",
       "    }\n",
       "\n",
       "    .dataframe thead th {\n",
       "        text-align: right;\n",
       "    }\n",
       "</style>\n",
       "<table border=\"1\" class=\"dataframe\">\n",
       "  <thead>\n",
       "    <tr style=\"text-align: right;\">\n",
       "      <th></th>\n",
       "      <th>movie_id</th>\n",
       "      <th>title</th>\n",
       "      <th>mean_rating</th>\n",
       "      <th>cnt_users</th>\n",
       "    </tr>\n",
       "  </thead>\n",
       "  <tbody>\n",
       "    <tr>\n",
       "      <th>1292</th>\n",
       "      <td>1391</td>\n",
       "      <td>Mars Attacks! (1996)</td>\n",
       "      <td>2.900372</td>\n",
       "      <td>1074</td>\n",
       "    </tr>\n",
       "    <tr>\n",
       "      <th>1873</th>\n",
       "      <td>2054</td>\n",
       "      <td>Honey, I Shrunk the Kids (1989)</td>\n",
       "      <td>2.933014</td>\n",
       "      <td>1045</td>\n",
       "    </tr>\n",
       "    <tr>\n",
       "      <th>1278</th>\n",
       "      <td>1377</td>\n",
       "      <td>Batman Returns (1992)</td>\n",
       "      <td>2.976722</td>\n",
       "      <td>1031</td>\n",
       "    </tr>\n",
       "    <tr>\n",
       "      <th>2494</th>\n",
       "      <td>2699</td>\n",
       "      <td>Arachnophobia (1990)</td>\n",
       "      <td>3.002926</td>\n",
       "      <td>1367</td>\n",
       "    </tr>\n",
       "    <tr>\n",
       "      <th>2505</th>\n",
       "      <td>2710</td>\n",
       "      <td>Blair Witch Project, The (1999)</td>\n",
       "      <td>3.031528</td>\n",
       "      <td>1237</td>\n",
       "    </tr>\n",
       "  </tbody>\n",
       "</table>\n",
       "</div>"
      ],
      "text/plain": [
       "      movie_id                            title  mean_rating  cnt_users\n",
       "1292      1391             Mars Attacks! (1996)     2.900372       1074\n",
       "1873      2054  Honey, I Shrunk the Kids (1989)     2.933014       1045\n",
       "1278      1377            Batman Returns (1992)     2.976722       1031\n",
       "2494      2699             Arachnophobia (1990)     3.002926       1367\n",
       "2505      2710  Blair Witch Project, The (1999)     3.031528       1237"
      ]
     },
     "execution_count": 10,
     "metadata": {},
     "output_type": "execute_result"
    }
   ],
   "source": [
    "#топ 5 фильмов которые никому не нравятся \n",
    "m4.sort_values('mean_rating', ascending = True).head(5)"
   ]
  },
  {
   "cell_type": "markdown",
   "metadata": {},
   "source": [
    "**5. Выбрать лучшие фильмы** <br>\n",
    "\n",
    "<br>\n",
    "Здесь можно воспользоваться подходом из 4 задания"
   ]
  },
  {
   "cell_type": "code",
   "execution_count": 11,
   "metadata": {},
   "outputs": [
    {
     "data": {
      "text/plain": [
       "array(['Shawshank Redemption, The (1994)', 'Godfather, The (1972)',\n",
       "       'Usual Suspects, The (1995)', \"Schindler's List (1993)\",\n",
       "       'Raiders of the Lost Ark (1981)'], dtype=object)"
      ]
     },
     "execution_count": 11,
     "metadata": {},
     "output_type": "execute_result"
    }
   ],
   "source": [
    "m4.sort_values('mean_rating', ascending = False).head(5)['title'].values"
   ]
  },
  {
   "cell_type": "markdown",
   "metadata": {},
   "source": [
    "**6. Посмотреть на смещение оценок, увидеть сколько пользователей занижают оценки и завышают оценки.**"
   ]
  },
  {
   "cell_type": "code",
   "execution_count": 12,
   "metadata": {},
   "outputs": [
    {
     "name": "stdout",
     "output_type": "stream",
     "text": [
      "movie_rating_mean =  3.331546012467065\n"
     ]
    }
   ],
   "source": [
    "#отберем пользователей у которых есть по крайней мере 10 оценок\n",
    "users_with_ = ratings.groupby('user_id')['rating'].count().reset_index().query(\"\"\"rating > 10\"\"\")\n",
    "\n",
    "#Средняя оценка которую ставить пользователь\n",
    "users_rating_mean = pd.merge(ratings, users_with_[['user_id']], on = 'user_id').\\\n",
    "                    groupby('user_id')['rating'].mean().reset_index()\n",
    "\n",
    "#Теперь найдем среднюю оценку для фильма\n",
    "movie_rating_mean = ratings.groupby('movie_id')['rating'].mean().reset_index()['rating'].median()\n",
    "print('movie_rating_mean = ', movie_rating_mean)"
   ]
  },
  {
   "cell_type": "code",
   "execution_count": 13,
   "metadata": {},
   "outputs": [
    {
     "data": {
      "text/plain": [
       "4979"
      ]
     },
     "execution_count": 13,
     "metadata": {},
     "output_type": "execute_result"
    }
   ],
   "source": [
    "#Сколько пользователей завышают оценки\n",
    "users_rating_mean.loc[users_rating_mean['rating'] >= movie_rating_mean]['user_id'].nunique()"
   ]
  },
  {
   "cell_type": "code",
   "execution_count": 14,
   "metadata": {},
   "outputs": [
    {
     "data": {
      "text/plain": [
       "1061"
      ]
     },
     "execution_count": 14,
     "metadata": {},
     "output_type": "execute_result"
    }
   ],
   "source": [
    "#Сколько пользователей занижают оценки\n",
    "users_rating_mean.loc[users_rating_mean['rating'] < movie_rating_mean]['user_id'].nunique()"
   ]
  },
  {
   "cell_type": "markdown",
   "metadata": {},
   "source": [
    "**7. Построить рекомендательную систему с помощью библиотеки surprise (или другой, по желанию). <br>\n",
    "Применить подбор параметров модели на сетке, оценить качество полученной модели по выбранной вами метрике.**"
   ]
  },
  {
   "cell_type": "code",
   "execution_count": 15,
   "metadata": {},
   "outputs": [],
   "source": [
    "from surprise.model_selection import cross_validate, GridSearchCV\n",
    "from surprise import Reader, Dataset, evaluate\n",
    "\n",
    "from surprise import NormalPredictor, KNNBasic, KNNWithMeans, KNNWithZScore, KNNBaseline\n",
    "from surprise import SVD, BaselineOnly, SVDpp, NMF, SlopeOne, CoClustering\n",
    "from surprise.accuracy import rmse\n",
    "from surprise import accuracy\n",
    "from surprise.model_selection import train_test_split"
   ]
  },
  {
   "cell_type": "code",
   "execution_count": 16,
   "metadata": {},
   "outputs": [],
   "source": [
    "#Dataset.load_builtin('ml-100k')\n",
    "data_train = Dataset.load_from_file(os.path.expanduser('~') + '/.surprise_data/ml-100k/ml-100k/ua.base', \n",
    "                                    reader=Reader(sep='\\t'))\n",
    "data_test = Dataset.load_from_file(os.path.expanduser('~') + '/.surprise_data/ml-100k/ml-100k/ua.test', \n",
    "                                   reader=Reader(sep='\\t'))"
   ]
  },
  {
   "cell_type": "code",
   "execution_count": 17,
   "metadata": {},
   "outputs": [
    {
     "data": {
      "text/html": [
       "<div>\n",
       "<style scoped>\n",
       "    .dataframe tbody tr th:only-of-type {\n",
       "        vertical-align: middle;\n",
       "    }\n",
       "\n",
       "    .dataframe tbody tr th {\n",
       "        vertical-align: top;\n",
       "    }\n",
       "\n",
       "    .dataframe thead th {\n",
       "        text-align: right;\n",
       "    }\n",
       "</style>\n",
       "<table border=\"1\" class=\"dataframe\">\n",
       "  <thead>\n",
       "    <tr style=\"text-align: right;\">\n",
       "      <th></th>\n",
       "      <th>test_rmse</th>\n",
       "      <th>fit_time</th>\n",
       "      <th>test_time</th>\n",
       "    </tr>\n",
       "    <tr>\n",
       "      <th>Algorithm</th>\n",
       "      <th></th>\n",
       "      <th></th>\n",
       "      <th></th>\n",
       "    </tr>\n",
       "  </thead>\n",
       "  <tbody>\n",
       "    <tr>\n",
       "      <th>SVD</th>\n",
       "      <td>0.947281</td>\n",
       "      <td>5.206959</td>\n",
       "      <td>0.592683</td>\n",
       "    </tr>\n",
       "  </tbody>\n",
       "</table>\n",
       "</div>"
      ],
      "text/plain": [
       "           test_rmse  fit_time  test_time\n",
       "Algorithm                                \n",
       "SVD         0.947281  5.206959   0.592683"
      ]
     },
     "execution_count": 17,
     "metadata": {},
     "output_type": "execute_result"
    }
   ],
   "source": [
    "#Попробуем несколько алгоритмов\n",
    "benchmark = []\n",
    "# Iterate over all algorithms\n",
    "# for algorithm in [SVD(), SVDpp(), SlopeOne(), NMF(), NormalPredictor(), \n",
    "#                   KNNBaseline(), KNNBasic(), KNNWithMeans(), KNNWithZScore(), \n",
    "#                   BaselineOnly(), CoClustering()]:\n",
    "for algorithm in [SVD()]:\n",
    "    # Perform cross validation\n",
    "    results = cross_validate(algorithm, data_train, measures=['RMSE'], cv=3, verbose=False)\n",
    "    \n",
    "    #Get results & append algorithm name\n",
    "    tmp = pd.DataFrame.from_dict(results).mean(axis=0)\n",
    "    tmp = tmp.append(pd.Series([str(algorithm).split(' ')[0].split('.')[-1]], index=['Algorithm']))\n",
    "    benchmark.append(tmp)\n",
    "    \n",
    "pd.DataFrame(benchmark).set_index('Algorithm').sort_values('test_rmse')"
   ]
  },
  {
   "cell_type": "code",
   "execution_count": 18,
   "metadata": {},
   "outputs": [
    {
     "name": "stdout",
     "output_type": "stream",
     "text": [
      "RMSE: 0.9521\n"
     ]
    },
    {
     "data": {
      "text/plain": [
       "0.9520883472391"
      ]
     },
     "execution_count": 18,
     "metadata": {},
     "output_type": "execute_result"
    }
   ],
   "source": [
    "train_set = data_train.build_full_trainset()\n",
    "test_set = data_test.build_full_trainset().build_testset()\n",
    "\n",
    "algo = SVD()\n",
    "predictions = algo.fit(train_set).test(test_set)\n",
    "accuracy.rmse(predictions)"
   ]
  },
  {
   "cell_type": "code",
   "execution_count": 20,
   "metadata": {},
   "outputs": [
    {
     "data": {
      "text/html": [
       "<div>\n",
       "<style scoped>\n",
       "    .dataframe tbody tr th:only-of-type {\n",
       "        vertical-align: middle;\n",
       "    }\n",
       "\n",
       "    .dataframe tbody tr th {\n",
       "        vertical-align: top;\n",
       "    }\n",
       "\n",
       "    .dataframe thead th {\n",
       "        text-align: right;\n",
       "    }\n",
       "</style>\n",
       "<table border=\"1\" class=\"dataframe\">\n",
       "  <thead>\n",
       "    <tr style=\"text-align: right;\">\n",
       "      <th></th>\n",
       "      <th>uid</th>\n",
       "      <th>iid</th>\n",
       "      <th>rui</th>\n",
       "      <th>est</th>\n",
       "      <th>details</th>\n",
       "      <th>Iu</th>\n",
       "      <th>Ui</th>\n",
       "      <th>err</th>\n",
       "    </tr>\n",
       "  </thead>\n",
       "  <tbody>\n",
       "    <tr>\n",
       "      <th>0</th>\n",
       "      <td>1</td>\n",
       "      <td>20</td>\n",
       "      <td>4.0</td>\n",
       "      <td>3.978295</td>\n",
       "      <td>{'was_impossible': False}</td>\n",
       "      <td>262</td>\n",
       "      <td>61</td>\n",
       "      <td>0.021705</td>\n",
       "    </tr>\n",
       "    <tr>\n",
       "      <th>1</th>\n",
       "      <td>1</td>\n",
       "      <td>33</td>\n",
       "      <td>4.0</td>\n",
       "      <td>3.666940</td>\n",
       "      <td>{'was_impossible': False}</td>\n",
       "      <td>262</td>\n",
       "      <td>89</td>\n",
       "      <td>0.333060</td>\n",
       "    </tr>\n",
       "    <tr>\n",
       "      <th>2</th>\n",
       "      <td>1</td>\n",
       "      <td>61</td>\n",
       "      <td>4.0</td>\n",
       "      <td>3.808902</td>\n",
       "      <td>{'was_impossible': False}</td>\n",
       "      <td>262</td>\n",
       "      <td>56</td>\n",
       "      <td>0.191098</td>\n",
       "    </tr>\n",
       "    <tr>\n",
       "      <th>3</th>\n",
       "      <td>1</td>\n",
       "      <td>117</td>\n",
       "      <td>3.0</td>\n",
       "      <td>3.512864</td>\n",
       "      <td>{'was_impossible': False}</td>\n",
       "      <td>262</td>\n",
       "      <td>320</td>\n",
       "      <td>0.512864</td>\n",
       "    </tr>\n",
       "    <tr>\n",
       "      <th>4</th>\n",
       "      <td>1</td>\n",
       "      <td>155</td>\n",
       "      <td>2.0</td>\n",
       "      <td>1.967197</td>\n",
       "      <td>{'was_impossible': False}</td>\n",
       "      <td>262</td>\n",
       "      <td>96</td>\n",
       "      <td>0.032803</td>\n",
       "    </tr>\n",
       "  </tbody>\n",
       "</table>\n",
       "</div>"
      ],
      "text/plain": [
       "  uid  iid  rui       est                    details   Iu   Ui       err\n",
       "0   1   20  4.0  3.978295  {'was_impossible': False}  262   61  0.021705\n",
       "1   1   33  4.0  3.666940  {'was_impossible': False}  262   89  0.333060\n",
       "2   1   61  4.0  3.808902  {'was_impossible': False}  262   56  0.191098\n",
       "3   1  117  3.0  3.512864  {'was_impossible': False}  262  320  0.512864\n",
       "4   1  155  2.0  1.967197  {'was_impossible': False}  262   96  0.032803"
      ]
     },
     "execution_count": 20,
     "metadata": {},
     "output_type": "execute_result"
    }
   ],
   "source": [
    "def get_Iu(uid):\n",
    "    \"\"\" return the number of items rated by given user\n",
    "    args: \n",
    "      uid: the id of the user\n",
    "    returns: \n",
    "      the number of items rated by the user\n",
    "    \"\"\"\n",
    "    try:\n",
    "        return len(train_set.ur[train_set.to_inner_uid(uid)])\n",
    "    except ValueError: # user was not part of the trainset\n",
    "        return 0\n",
    "    \n",
    "def get_Ui(iid):\n",
    "    \"\"\" return number of users that have rated given item\n",
    "    args:\n",
    "      iid: the raw id of the item\n",
    "    returns:\n",
    "      the number of users that have rated the item.\n",
    "    \"\"\"\n",
    "    try: \n",
    "        return len(train_set.ir[train_set.to_inner_iid(iid)])\n",
    "    except ValueError:\n",
    "        return 0\n",
    "    \n",
    "df = pd.DataFrame(predictions, columns=['uid', 'iid', 'rui', 'est', 'details'])\n",
    "df['Iu'] = df.uid.apply(get_Iu)\n",
    "df['Ui'] = df.iid.apply(get_Ui)\n",
    "df['err'] = abs(df.est - df.rui)\n",
    "df.head()"
   ]
  },
  {
   "cell_type": "markdown",
   "metadata": {},
   "source": [
    "**8. Получить рекомендации для нового пользователя, совпадают ли они с лучшими фильмами?**"
   ]
  },
  {
   "cell_type": "code",
   "execution_count": 21,
   "metadata": {},
   "outputs": [
    {
     "data": {
      "text/html": [
       "<div>\n",
       "<style scoped>\n",
       "    .dataframe tbody tr th:only-of-type {\n",
       "        vertical-align: middle;\n",
       "    }\n",
       "\n",
       "    .dataframe tbody tr th {\n",
       "        vertical-align: top;\n",
       "    }\n",
       "\n",
       "    .dataframe thead th {\n",
       "        text-align: right;\n",
       "    }\n",
       "</style>\n",
       "<table border=\"1\" class=\"dataframe\">\n",
       "  <thead>\n",
       "    <tr style=\"text-align: right;\">\n",
       "      <th></th>\n",
       "      <th>movie_id</th>\n",
       "      <th>title</th>\n",
       "      <th>genres</th>\n",
       "      <th>rating</th>\n",
       "    </tr>\n",
       "  </thead>\n",
       "  <tbody>\n",
       "    <tr>\n",
       "      <th>404</th>\n",
       "      <td>408</td>\n",
       "      <td>8 Seconds (1994)</td>\n",
       "      <td>Drama</td>\n",
       "      <td>4.573366</td>\n",
       "    </tr>\n",
       "    <tr>\n",
       "      <th>315</th>\n",
       "      <td>318</td>\n",
       "      <td>Shawshank Redemption, The (1994)</td>\n",
       "      <td>Drama</td>\n",
       "      <td>4.573289</td>\n",
       "    </tr>\n",
       "    <tr>\n",
       "      <th>167</th>\n",
       "      <td>169</td>\n",
       "      <td>Free Willy 2: The Adventure Home (1995)</td>\n",
       "      <td>Adventure|Children's|Drama</td>\n",
       "      <td>4.567694</td>\n",
       "    </tr>\n",
       "    <tr>\n",
       "      <th>112</th>\n",
       "      <td>114</td>\n",
       "      <td>Margaret's Museum (1995)</td>\n",
       "      <td>Drama</td>\n",
       "      <td>4.563124</td>\n",
       "    </tr>\n",
       "    <tr>\n",
       "      <th>63</th>\n",
       "      <td>64</td>\n",
       "      <td>Two if by Sea (1996)</td>\n",
       "      <td>Comedy|Romance</td>\n",
       "      <td>4.536723</td>\n",
       "    </tr>\n",
       "    <tr>\n",
       "      <th>479</th>\n",
       "      <td>483</td>\n",
       "      <td>King of the Hill (1993)</td>\n",
       "      <td>Drama</td>\n",
       "      <td>4.520731</td>\n",
       "    </tr>\n",
       "    <tr>\n",
       "      <th>11</th>\n",
       "      <td>12</td>\n",
       "      <td>Dracula: Dead and Loving It (1995)</td>\n",
       "      <td>Comedy|Horror</td>\n",
       "      <td>4.468544</td>\n",
       "    </tr>\n",
       "    <tr>\n",
       "      <th>599</th>\n",
       "      <td>603</td>\n",
       "      <td>Bye Bye, Love (1995)</td>\n",
       "      <td>Comedy</td>\n",
       "      <td>4.455756</td>\n",
       "    </tr>\n",
       "    <tr>\n",
       "      <th>176</th>\n",
       "      <td>178</td>\n",
       "      <td>Love &amp; Human Remains (1993)</td>\n",
       "      <td>Comedy</td>\n",
       "      <td>4.439315</td>\n",
       "    </tr>\n",
       "    <tr>\n",
       "      <th>49</th>\n",
       "      <td>50</td>\n",
       "      <td>Usual Suspects, The (1995)</td>\n",
       "      <td>Crime|Thriller</td>\n",
       "      <td>4.433438</td>\n",
       "    </tr>\n",
       "    <tr>\n",
       "      <th>476</th>\n",
       "      <td>480</td>\n",
       "      <td>Jurassic Park (1993)</td>\n",
       "      <td>Action|Adventure|Sci-Fi</td>\n",
       "      <td>4.421563</td>\n",
       "    </tr>\n",
       "    <tr>\n",
       "      <th>423</th>\n",
       "      <td>427</td>\n",
       "      <td>Boxing Helena (1993)</td>\n",
       "      <td>Mystery|Romance|Thriller</td>\n",
       "      <td>4.410140</td>\n",
       "    </tr>\n",
       "    <tr>\n",
       "      <th>509</th>\n",
       "      <td>513</td>\n",
       "      <td>Radioland Murders (1994)</td>\n",
       "      <td>Comedy|Mystery|Romance</td>\n",
       "      <td>4.397154</td>\n",
       "    </tr>\n",
       "    <tr>\n",
       "      <th>353</th>\n",
       "      <td>357</td>\n",
       "      <td>Four Weddings and a Funeral (1994)</td>\n",
       "      <td>Comedy|Romance</td>\n",
       "      <td>4.391038</td>\n",
       "    </tr>\n",
       "    <tr>\n",
       "      <th>651</th>\n",
       "      <td>657</td>\n",
       "      <td>Yankee Zulu (1994)</td>\n",
       "      <td>Comedy|Drama</td>\n",
       "      <td>4.381467</td>\n",
       "    </tr>\n",
       "    <tr>\n",
       "      <th>475</th>\n",
       "      <td>479</td>\n",
       "      <td>Judgment Night (1993)</td>\n",
       "      <td>Action</td>\n",
       "      <td>4.378118</td>\n",
       "    </tr>\n",
       "    <tr>\n",
       "      <th>269</th>\n",
       "      <td>272</td>\n",
       "      <td>Madness of King George, The (1994)</td>\n",
       "      <td>Drama</td>\n",
       "      <td>4.368738</td>\n",
       "    </tr>\n",
       "    <tr>\n",
       "      <th>96</th>\n",
       "      <td>98</td>\n",
       "      <td>Shopping (1994)</td>\n",
       "      <td>Action|Thriller</td>\n",
       "      <td>4.368424</td>\n",
       "    </tr>\n",
       "    <tr>\n",
       "      <th>132</th>\n",
       "      <td>134</td>\n",
       "      <td>Sonic Outlaws (1995)</td>\n",
       "      <td>Documentary</td>\n",
       "      <td>4.367799</td>\n",
       "    </tr>\n",
       "    <tr>\n",
       "      <th>172</th>\n",
       "      <td>174</td>\n",
       "      <td>Jury Duty (1995)</td>\n",
       "      <td>Comedy</td>\n",
       "      <td>4.360940</td>\n",
       "    </tr>\n",
       "  </tbody>\n",
       "</table>\n",
       "</div>"
      ],
      "text/plain": [
       "     movie_id                                    title  \\\n",
       "404       408                         8 Seconds (1994)   \n",
       "315       318         Shawshank Redemption, The (1994)   \n",
       "167       169  Free Willy 2: The Adventure Home (1995)   \n",
       "112       114                 Margaret's Museum (1995)   \n",
       "63         64                     Two if by Sea (1996)   \n",
       "479       483                  King of the Hill (1993)   \n",
       "11         12       Dracula: Dead and Loving It (1995)   \n",
       "599       603                     Bye Bye, Love (1995)   \n",
       "176       178              Love & Human Remains (1993)   \n",
       "49         50               Usual Suspects, The (1995)   \n",
       "476       480                     Jurassic Park (1993)   \n",
       "423       427                     Boxing Helena (1993)   \n",
       "509       513                 Radioland Murders (1994)   \n",
       "353       357       Four Weddings and a Funeral (1994)   \n",
       "651       657                       Yankee Zulu (1994)   \n",
       "475       479                    Judgment Night (1993)   \n",
       "269       272       Madness of King George, The (1994)   \n",
       "96         98                          Shopping (1994)   \n",
       "132       134                     Sonic Outlaws (1995)   \n",
       "172       174                         Jury Duty (1995)   \n",
       "\n",
       "                         genres    rating  \n",
       "404                       Drama  4.573366  \n",
       "315                       Drama  4.573289  \n",
       "167  Adventure|Children's|Drama  4.567694  \n",
       "112                       Drama  4.563124  \n",
       "63               Comedy|Romance  4.536723  \n",
       "479                       Drama  4.520731  \n",
       "11                Comedy|Horror  4.468544  \n",
       "599                      Comedy  4.455756  \n",
       "176                      Comedy  4.439315  \n",
       "49               Crime|Thriller  4.433438  \n",
       "476     Action|Adventure|Sci-Fi  4.421563  \n",
       "423    Mystery|Romance|Thriller  4.410140  \n",
       "509      Comedy|Mystery|Romance  4.397154  \n",
       "353              Comedy|Romance  4.391038  \n",
       "651                Comedy|Drama  4.381467  \n",
       "475                      Action  4.378118  \n",
       "269                       Drama  4.368738  \n",
       "96              Action|Thriller  4.368424  \n",
       "132                 Documentary  4.367799  \n",
       "172                      Comedy  4.360940  "
      ]
     },
     "execution_count": 21,
     "metadata": {},
     "output_type": "execute_result"
    }
   ],
   "source": [
    "#Получим рекомендации для нового пользователя (-999)\n",
    "new_user_recommend = movies.copy()\n",
    "new_user_recommend['rating'] = new_user_recommend['movie_id'].apply(lambda x: algo.predict('-999', str(x))[3])\n",
    "\n",
    "#топ 20 фильмов для нового пользователя\n",
    "top20_new_user = set(new_user_recommend.sort_values('rating', ascending = False).head(n = 20)['movie_id'])\n",
    "new_user_recommend.sort_values('rating', ascending = False).head(n = 20)"
   ]
  },
  {
   "cell_type": "code",
   "execution_count": 22,
   "metadata": {},
   "outputs": [
    {
     "data": {
      "text/html": [
       "<div>\n",
       "<style scoped>\n",
       "    .dataframe tbody tr th:only-of-type {\n",
       "        vertical-align: middle;\n",
       "    }\n",
       "\n",
       "    .dataframe tbody tr th {\n",
       "        vertical-align: top;\n",
       "    }\n",
       "\n",
       "    .dataframe thead th {\n",
       "        text-align: right;\n",
       "    }\n",
       "</style>\n",
       "<table border=\"1\" class=\"dataframe\">\n",
       "  <thead>\n",
       "    <tr style=\"text-align: right;\">\n",
       "      <th></th>\n",
       "      <th>movie_id</th>\n",
       "      <th>title</th>\n",
       "      <th>mean_rating</th>\n",
       "      <th>cnt_users</th>\n",
       "    </tr>\n",
       "  </thead>\n",
       "  <tbody>\n",
       "    <tr>\n",
       "      <th>309</th>\n",
       "      <td>318</td>\n",
       "      <td>Shawshank Redemption, The (1994)</td>\n",
       "      <td>4.554558</td>\n",
       "      <td>2227</td>\n",
       "    </tr>\n",
       "    <tr>\n",
       "      <th>802</th>\n",
       "      <td>858</td>\n",
       "      <td>Godfather, The (1972)</td>\n",
       "      <td>4.524966</td>\n",
       "      <td>2223</td>\n",
       "    </tr>\n",
       "    <tr>\n",
       "      <th>49</th>\n",
       "      <td>50</td>\n",
       "      <td>Usual Suspects, The (1995)</td>\n",
       "      <td>4.517106</td>\n",
       "      <td>1783</td>\n",
       "    </tr>\n",
       "    <tr>\n",
       "      <th>513</th>\n",
       "      <td>527</td>\n",
       "      <td>Schindler's List (1993)</td>\n",
       "      <td>4.510417</td>\n",
       "      <td>2304</td>\n",
       "    </tr>\n",
       "    <tr>\n",
       "      <th>1108</th>\n",
       "      <td>1198</td>\n",
       "      <td>Raiders of the Lost Ark (1981)</td>\n",
       "      <td>4.477725</td>\n",
       "      <td>2514</td>\n",
       "    </tr>\n",
       "    <tr>\n",
       "      <th>843</th>\n",
       "      <td>904</td>\n",
       "      <td>Rear Window (1954)</td>\n",
       "      <td>4.476190</td>\n",
       "      <td>1050</td>\n",
       "    </tr>\n",
       "    <tr>\n",
       "      <th>253</th>\n",
       "      <td>260</td>\n",
       "      <td>Star Wars: Episode IV - A New Hope (1977)</td>\n",
       "      <td>4.453694</td>\n",
       "      <td>2991</td>\n",
       "    </tr>\n",
       "    <tr>\n",
       "      <th>713</th>\n",
       "      <td>750</td>\n",
       "      <td>Dr. Strangelove or: How I Learned to Stop Worr...</td>\n",
       "      <td>4.449890</td>\n",
       "      <td>1367</td>\n",
       "    </tr>\n",
       "    <tr>\n",
       "      <th>851</th>\n",
       "      <td>912</td>\n",
       "      <td>Casablanca (1942)</td>\n",
       "      <td>4.412822</td>\n",
       "      <td>1669</td>\n",
       "    </tr>\n",
       "    <tr>\n",
       "      <th>2557</th>\n",
       "      <td>2762</td>\n",
       "      <td>Sixth Sense, The (1999)</td>\n",
       "      <td>4.406263</td>\n",
       "      <td>2459</td>\n",
       "    </tr>\n",
       "    <tr>\n",
       "      <th>852</th>\n",
       "      <td>913</td>\n",
       "      <td>Maltese Falcon, The (1941)</td>\n",
       "      <td>4.395973</td>\n",
       "      <td>1043</td>\n",
       "    </tr>\n",
       "    <tr>\n",
       "      <th>1104</th>\n",
       "      <td>1193</td>\n",
       "      <td>One Flew Over the Cuckoo's Nest (1975)</td>\n",
       "      <td>4.390725</td>\n",
       "      <td>1725</td>\n",
       "    </tr>\n",
       "    <tr>\n",
       "      <th>862</th>\n",
       "      <td>923</td>\n",
       "      <td>Citizen Kane (1941)</td>\n",
       "      <td>4.388889</td>\n",
       "      <td>1116</td>\n",
       "    </tr>\n",
       "    <tr>\n",
       "      <th>847</th>\n",
       "      <td>908</td>\n",
       "      <td>North by Northwest (1959)</td>\n",
       "      <td>4.384030</td>\n",
       "      <td>1315</td>\n",
       "    </tr>\n",
       "    <tr>\n",
       "      <th>1131</th>\n",
       "      <td>1221</td>\n",
       "      <td>Godfather: Part II, The (1974)</td>\n",
       "      <td>4.357565</td>\n",
       "      <td>1692</td>\n",
       "    </tr>\n",
       "    <tr>\n",
       "      <th>579</th>\n",
       "      <td>593</td>\n",
       "      <td>Silence of the Lambs, The (1991)</td>\n",
       "      <td>4.351823</td>\n",
       "      <td>2578</td>\n",
       "    </tr>\n",
       "    <tr>\n",
       "      <th>1160</th>\n",
       "      <td>1252</td>\n",
       "      <td>Chinatown (1974)</td>\n",
       "      <td>4.339241</td>\n",
       "      <td>1185</td>\n",
       "    </tr>\n",
       "    <tr>\n",
       "      <th>1848</th>\n",
       "      <td>2028</td>\n",
       "      <td>Saving Private Ryan (1998)</td>\n",
       "      <td>4.337354</td>\n",
       "      <td>2653</td>\n",
       "    </tr>\n",
       "    <tr>\n",
       "      <th>1059</th>\n",
       "      <td>1136</td>\n",
       "      <td>Monty Python and the Holy Grail (1974)</td>\n",
       "      <td>4.335210</td>\n",
       "      <td>1599</td>\n",
       "    </tr>\n",
       "    <tr>\n",
       "      <th>2131</th>\n",
       "      <td>2324</td>\n",
       "      <td>Life Is Beautiful (La Vita � bella) (1997)</td>\n",
       "      <td>4.329861</td>\n",
       "      <td>1152</td>\n",
       "    </tr>\n",
       "  </tbody>\n",
       "</table>\n",
       "</div>"
      ],
      "text/plain": [
       "      movie_id                                              title  \\\n",
       "309        318                   Shawshank Redemption, The (1994)   \n",
       "802        858                              Godfather, The (1972)   \n",
       "49          50                         Usual Suspects, The (1995)   \n",
       "513        527                            Schindler's List (1993)   \n",
       "1108      1198                     Raiders of the Lost Ark (1981)   \n",
       "843        904                                 Rear Window (1954)   \n",
       "253        260          Star Wars: Episode IV - A New Hope (1977)   \n",
       "713        750  Dr. Strangelove or: How I Learned to Stop Worr...   \n",
       "851        912                                  Casablanca (1942)   \n",
       "2557      2762                            Sixth Sense, The (1999)   \n",
       "852        913                         Maltese Falcon, The (1941)   \n",
       "1104      1193             One Flew Over the Cuckoo's Nest (1975)   \n",
       "862        923                                Citizen Kane (1941)   \n",
       "847        908                          North by Northwest (1959)   \n",
       "1131      1221                     Godfather: Part II, The (1974)   \n",
       "579        593                   Silence of the Lambs, The (1991)   \n",
       "1160      1252                                   Chinatown (1974)   \n",
       "1848      2028                         Saving Private Ryan (1998)   \n",
       "1059      1136             Monty Python and the Holy Grail (1974)   \n",
       "2131      2324         Life Is Beautiful (La Vita � bella) (1997)   \n",
       "\n",
       "      mean_rating  cnt_users  \n",
       "309      4.554558       2227  \n",
       "802      4.524966       2223  \n",
       "49       4.517106       1783  \n",
       "513      4.510417       2304  \n",
       "1108     4.477725       2514  \n",
       "843      4.476190       1050  \n",
       "253      4.453694       2991  \n",
       "713      4.449890       1367  \n",
       "851      4.412822       1669  \n",
       "2557     4.406263       2459  \n",
       "852      4.395973       1043  \n",
       "1104     4.390725       1725  \n",
       "862      4.388889       1116  \n",
       "847      4.384030       1315  \n",
       "1131     4.357565       1692  \n",
       "579      4.351823       2578  \n",
       "1160     4.339241       1185  \n",
       "1848     4.337354       2653  \n",
       "1059     4.335210       1599  \n",
       "2131     4.329861       1152  "
      ]
     },
     "execution_count": 22,
     "metadata": {},
     "output_type": "execute_result"
    }
   ],
   "source": [
    "# Лучшие топ 20 фильмов по среднему рейтингу\n",
    "top20_movies_id = set(m4.sort_values('mean_rating', ascending = False).head(n = 20)['movie_id'])\n",
    "m4.sort_values('mean_rating', ascending = False).head(n = 20)"
   ]
  },
  {
   "cell_type": "code",
   "execution_count": 23,
   "metadata": {},
   "outputs": [
    {
     "data": {
      "text/plain": [
       "{50, 318}"
      ]
     },
     "execution_count": 23,
     "metadata": {},
     "output_type": "execute_result"
    }
   ],
   "source": [
    "# Посчитаем пересечение двух множеств\n",
    "top20_new_user.intersection(top20_movies_id)"
   ]
  },
  {
   "cell_type": "markdown",
   "metadata": {},
   "source": [
    "**В итоге только 2 фильма были рекомендованы из топ 20**"
   ]
  },
  {
   "cell_type": "markdown",
   "metadata": {},
   "source": [
    "**9. Поставьте оценку какому-нибудь фильму (который вы знаете и можете поставить оценку) и получите рекомендации, насколько они качественные по вашим ощущениям? Сделайте это для фильма с негативной оценкой и для фильма с позитивной оценкой.**"
   ]
  },
  {
   "cell_type": "code",
   "execution_count": 24,
   "metadata": {},
   "outputs": [
    {
     "name": "stdout",
     "output_type": "stream",
     "text": [
      "user: -999       item: 1          r_ui = 5.00   est = 3.93   {'was_impossible': False}\n"
     ]
    }
   ],
   "source": [
    "#Позитивная оценка\n",
    "userid = '-999'\n",
    "itemid = '1' #Toy Story (1995)\n",
    "actual_rating = 5\n",
    "print (algo.predict(userid, itemid, actual_rating))"
   ]
  },
  {
   "cell_type": "code",
   "execution_count": 26,
   "metadata": {},
   "outputs": [
    {
     "name": "stdout",
     "output_type": "stream",
     "text": [
      "user: -999       item: 3929       r_ui = 2.00   est = 3.52   {'was_impossible': False}\n"
     ]
    }
   ],
   "source": [
    "#Негативная оценка\n",
    "userid = '-999'\n",
    "itemid = '3929' #Bank Dick, The (1940)\n",
    "actual_rating = 2\n",
    "print (algo.predict(userid, itemid, actual_rating))"
   ]
  },
  {
   "cell_type": "code",
   "execution_count": null,
   "metadata": {},
   "outputs": [],
   "source": []
  }
 ],
 "metadata": {
  "kernelspec": {
   "display_name": "Python 3",
   "language": "python",
   "name": "python3"
  },
  "language_info": {
   "codemirror_mode": {
    "name": "ipython",
    "version": 3
   },
   "file_extension": ".py",
   "mimetype": "text/x-python",
   "name": "python",
   "nbconvert_exporter": "python",
   "pygments_lexer": "ipython3",
   "version": "3.7.1"
  }
 },
 "nbformat": 4,
 "nbformat_minor": 2
}
