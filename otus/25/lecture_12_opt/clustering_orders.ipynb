{
 "cells": [
  {
   "cell_type": "code",
   "execution_count": 42,
   "metadata": {},
   "outputs": [],
   "source": [
    "from __future__ import print_function\n",
    "from collections import defaultdict\n",
    "import pandas as pd\n",
    "import numpy as np\n",
    "import matplotlib\n",
    "import matplotlib.pyplot as plt\n",
    "import matplotlib.cm as cm\n",
    "import seaborn as sns\n",
    "%matplotlib inline\n",
    "plt.rcParams[\"figure.figsize\"] = (15, 8)\n",
    "pd.options.display.float_format = '{:.2f}'.format"
   ]
  },
  {
   "cell_type": "code",
   "execution_count": 43,
   "metadata": {},
   "outputs": [],
   "source": [
    "fp = '/media/d_500/repos/otus-dm/m2/lecture_11_dimred/orders.csv'\n",
    "df = pd.read_csv(fp, nrows=100000)\n",
    "df['date_insert'] = pd.to_datetime(df['date_insert'])"
   ]
  },
  {
   "cell_type": "code",
   "execution_count": 44,
   "metadata": {},
   "outputs": [
    {
     "name": "stdout",
     "output_type": "stream",
     "text": [
      "<class 'pandas.core.frame.DataFrame'>\n",
      "RangeIndex: 100000 entries, 0 to 99999\n",
      "Data columns (total 11 columns):\n",
      "DISCOUNT_VALUE        99764 non-null object\n",
      "NAME                  100000 non-null object\n",
      "PRICE                 100000 non-null float64\n",
      "QUANTITY              100000 non-null int64\n",
      "date_insert           100000 non-null datetime64[ns]\n",
      "discount              100000 non-null float64\n",
      "itemID                100000 non-null int64\n",
      "orderID               100000 non-null int64\n",
      "ordered_item_count    100000 non-null int64\n",
      "price                 100000 non-null float64\n",
      "user_id               100000 non-null int64\n",
      "dtypes: datetime64[ns](1), float64(3), int64(5), object(2)\n",
      "memory usage: 8.4+ MB\n"
     ]
    }
   ],
   "source": [
    "df.info()"
   ]
  },
  {
   "cell_type": "code",
   "execution_count": 45,
   "metadata": {},
   "outputs": [
    {
     "data": {
      "text/html": [
       "<div>\n",
       "<style scoped>\n",
       "    .dataframe tbody tr th:only-of-type {\n",
       "        vertical-align: middle;\n",
       "    }\n",
       "\n",
       "    .dataframe tbody tr th {\n",
       "        vertical-align: top;\n",
       "    }\n",
       "\n",
       "    .dataframe thead th {\n",
       "        text-align: right;\n",
       "    }\n",
       "</style>\n",
       "<table border=\"1\" class=\"dataframe\">\n",
       "  <thead>\n",
       "    <tr style=\"text-align: right;\">\n",
       "      <th></th>\n",
       "      <th>PRICE</th>\n",
       "      <th>QUANTITY</th>\n",
       "      <th>discount</th>\n",
       "      <th>ordered_item_count</th>\n",
       "      <th>price</th>\n",
       "    </tr>\n",
       "  </thead>\n",
       "  <tbody>\n",
       "    <tr>\n",
       "      <th>0</th>\n",
       "      <td>357.00</td>\n",
       "      <td>1</td>\n",
       "      <td>110.00</td>\n",
       "      <td>1</td>\n",
       "      <td>527.00</td>\n",
       "    </tr>\n",
       "    <tr>\n",
       "      <th>1</th>\n",
       "      <td>448.00</td>\n",
       "      <td>1</td>\n",
       "      <td>19.00</td>\n",
       "      <td>1</td>\n",
       "      <td>618.00</td>\n",
       "    </tr>\n",
       "    <tr>\n",
       "      <th>2</th>\n",
       "      <td>414.00</td>\n",
       "      <td>1</td>\n",
       "      <td>65.00</td>\n",
       "      <td>4</td>\n",
       "      <td>1503.00</td>\n",
       "    </tr>\n",
       "    <tr>\n",
       "      <th>3</th>\n",
       "      <td>253.00</td>\n",
       "      <td>1</td>\n",
       "      <td>65.00</td>\n",
       "      <td>4</td>\n",
       "      <td>1503.00</td>\n",
       "    </tr>\n",
       "    <tr>\n",
       "      <th>4</th>\n",
       "      <td>422.00</td>\n",
       "      <td>1</td>\n",
       "      <td>65.00</td>\n",
       "      <td>4</td>\n",
       "      <td>1503.00</td>\n",
       "    </tr>\n",
       "  </tbody>\n",
       "</table>\n",
       "</div>"
      ],
      "text/plain": [
       "   PRICE  QUANTITY  discount  ordered_item_count   price\n",
       "0 357.00         1    110.00                   1  527.00\n",
       "1 448.00         1     19.00                   1  618.00\n",
       "2 414.00         1     65.00                   4 1503.00\n",
       "3 253.00         1     65.00                   4 1503.00\n",
       "4 422.00         1     65.00                   4 1503.00"
      ]
     },
     "execution_count": 45,
     "metadata": {},
     "output_type": "execute_result"
    }
   ],
   "source": [
    "df[['PRICE', 'QUANTITY', 'discount', 'ordered_item_count', 'price']].head()"
   ]
  },
  {
   "cell_type": "code",
   "execution_count": 46,
   "metadata": {},
   "outputs": [
    {
     "data": {
      "text/html": [
       "<div>\n",
       "<style scoped>\n",
       "    .dataframe tbody tr th:only-of-type {\n",
       "        vertical-align: middle;\n",
       "    }\n",
       "\n",
       "    .dataframe tbody tr th {\n",
       "        vertical-align: top;\n",
       "    }\n",
       "\n",
       "    .dataframe thead th {\n",
       "        text-align: right;\n",
       "    }\n",
       "</style>\n",
       "<table border=\"1\" class=\"dataframe\">\n",
       "  <thead>\n",
       "    <tr style=\"text-align: right;\">\n",
       "      <th></th>\n",
       "      <th>DISCOUNT_VALUE</th>\n",
       "      <th>NAME</th>\n",
       "      <th>PRICE</th>\n",
       "      <th>QUANTITY</th>\n",
       "      <th>date_insert</th>\n",
       "      <th>discount</th>\n",
       "      <th>itemID</th>\n",
       "      <th>orderID</th>\n",
       "      <th>ordered_item_count</th>\n",
       "      <th>price</th>\n",
       "      <th>user_id</th>\n",
       "    </tr>\n",
       "  </thead>\n",
       "  <tbody>\n",
       "    <tr>\n",
       "      <th>0</th>\n",
       "      <td>23.55%</td>\n",
       "      <td>Хроники Амбера. Том 2</td>\n",
       "      <td>357.00</td>\n",
       "      <td>1</td>\n",
       "      <td>2017-03-19 22:25:20</td>\n",
       "      <td>110.00</td>\n",
       "      <td>169108</td>\n",
       "      <td>602051</td>\n",
       "      <td>1</td>\n",
       "      <td>527.00</td>\n",
       "      <td>911531</td>\n",
       "    </tr>\n",
       "    <tr>\n",
       "      <th>1</th>\n",
       "      <td>4.07%</td>\n",
       "      <td>Хроники Амбера. Том 1</td>\n",
       "      <td>448.00</td>\n",
       "      <td>1</td>\n",
       "      <td>2017-03-19 22:19:58</td>\n",
       "      <td>19.00</td>\n",
       "      <td>1394744</td>\n",
       "      <td>602047</td>\n",
       "      <td>1</td>\n",
       "      <td>618.00</td>\n",
       "      <td>911531</td>\n",
       "    </tr>\n",
       "    <tr>\n",
       "      <th>2</th>\n",
       "      <td>4.17%</td>\n",
       "      <td>Пищеводитель</td>\n",
       "      <td>414.00</td>\n",
       "      <td>1</td>\n",
       "      <td>2017-03-19 20:58:00</td>\n",
       "      <td>65.00</td>\n",
       "      <td>191276</td>\n",
       "      <td>602017</td>\n",
       "      <td>4</td>\n",
       "      <td>1503.00</td>\n",
       "      <td>911587</td>\n",
       "    </tr>\n",
       "    <tr>\n",
       "      <th>3</th>\n",
       "      <td>4.17%</td>\n",
       "      <td>Аудиокн. Мясников. &amp;quot;Ржавчина&amp;quot;: что д...</td>\n",
       "      <td>253.00</td>\n",
       "      <td>1</td>\n",
       "      <td>2017-03-19 20:58:00</td>\n",
       "      <td>65.00</td>\n",
       "      <td>157945</td>\n",
       "      <td>602017</td>\n",
       "      <td>4</td>\n",
       "      <td>1503.00</td>\n",
       "      <td>911587</td>\n",
       "    </tr>\n",
       "    <tr>\n",
       "      <th>4</th>\n",
       "      <td>4.09%</td>\n",
       "      <td>Инфекции. Как защитить себя и своего ребенка</td>\n",
       "      <td>422.00</td>\n",
       "      <td>1</td>\n",
       "      <td>2017-03-19 20:58:00</td>\n",
       "      <td>65.00</td>\n",
       "      <td>205173</td>\n",
       "      <td>602017</td>\n",
       "      <td>4</td>\n",
       "      <td>1503.00</td>\n",
       "      <td>911587</td>\n",
       "    </tr>\n",
       "  </tbody>\n",
       "</table>\n",
       "</div>"
      ],
      "text/plain": [
       "  DISCOUNT_VALUE                                               NAME  PRICE  \\\n",
       "0         23.55%                              Хроники Амбера. Том 2 357.00   \n",
       "1          4.07%                              Хроники Амбера. Том 1 448.00   \n",
       "2          4.17%                                       Пищеводитель 414.00   \n",
       "3          4.17%  Аудиокн. Мясников. &quot;Ржавчина&quot;: что д... 253.00   \n",
       "4          4.09%       Инфекции. Как защитить себя и своего ребенка 422.00   \n",
       "\n",
       "   QUANTITY         date_insert  discount   itemID  orderID  \\\n",
       "0         1 2017-03-19 22:25:20    110.00   169108   602051   \n",
       "1         1 2017-03-19 22:19:58     19.00  1394744   602047   \n",
       "2         1 2017-03-19 20:58:00     65.00   191276   602017   \n",
       "3         1 2017-03-19 20:58:00     65.00   157945   602017   \n",
       "4         1 2017-03-19 20:58:00     65.00   205173   602017   \n",
       "\n",
       "   ordered_item_count   price  user_id  \n",
       "0                   1  527.00   911531  \n",
       "1                   1  618.00   911531  \n",
       "2                   4 1503.00   911587  \n",
       "3                   4 1503.00   911587  \n",
       "4                   4 1503.00   911587  "
      ]
     },
     "execution_count": 46,
     "metadata": {},
     "output_type": "execute_result"
    }
   ],
   "source": [
    "df.head()"
   ]
  },
  {
   "cell_type": "code",
   "execution_count": 47,
   "metadata": {},
   "outputs": [
    {
     "data": {
      "text/plain": [
       "6"
      ]
     },
     "execution_count": 47,
     "metadata": {},
     "output_type": "execute_result"
    }
   ],
   "source": [
    "df.duplicated().sum()"
   ]
  },
  {
   "cell_type": "code",
   "execution_count": 48,
   "metadata": {},
   "outputs": [],
   "source": [
    "df.drop_duplicates(inplace = True)"
   ]
  },
  {
   "cell_type": "code",
   "execution_count": 49,
   "metadata": {},
   "outputs": [],
   "source": [
    "from collections import defaultdict\n",
    "from itertools import combinations"
   ]
  },
  {
   "cell_type": "code",
   "execution_count": 50,
   "metadata": {},
   "outputs": [],
   "source": [
    "def to_set(x):\n",
    "    return set(x)\n",
    "\n",
    "def to_set_len(x):\n",
    "    return len(set(x))\n",
    "\n",
    "product_orders = df[df['ordered_item_count'] > 1][['itemID', 'orderID']].groupby('itemID', as_index=False).agg([to_set, to_set_len]).reset_index()"
   ]
  },
  {
   "cell_type": "code",
   "execution_count": 51,
   "metadata": {},
   "outputs": [],
   "source": [
    "product_orders.columns = ['.'.join(filter(None, pair)) for pair in zip(product_orders.columns.get_level_values(0), product_orders.columns.get_level_values(1))]\n"
   ]
  },
  {
   "cell_type": "code",
   "execution_count": 52,
   "metadata": {},
   "outputs": [
    {
     "data": {
      "text/html": [
       "<div>\n",
       "<style scoped>\n",
       "    .dataframe tbody tr th:only-of-type {\n",
       "        vertical-align: middle;\n",
       "    }\n",
       "\n",
       "    .dataframe tbody tr th {\n",
       "        vertical-align: top;\n",
       "    }\n",
       "\n",
       "    .dataframe thead th {\n",
       "        text-align: right;\n",
       "    }\n",
       "</style>\n",
       "<table border=\"1\" class=\"dataframe\">\n",
       "  <thead>\n",
       "    <tr style=\"text-align: right;\">\n",
       "      <th></th>\n",
       "      <th>itemID</th>\n",
       "      <th>orderID.to_set</th>\n",
       "      <th>orderID.to_set_len</th>\n",
       "    </tr>\n",
       "  </thead>\n",
       "  <tbody>\n",
       "    <tr>\n",
       "      <th>0</th>\n",
       "      <td>131823</td>\n",
       "      <td>{603849, 612671}</td>\n",
       "      <td>2</td>\n",
       "    </tr>\n",
       "    <tr>\n",
       "      <th>1</th>\n",
       "      <td>132062</td>\n",
       "      <td>{615475, 617604}</td>\n",
       "      <td>2</td>\n",
       "    </tr>\n",
       "    <tr>\n",
       "      <th>2</th>\n",
       "      <td>132111</td>\n",
       "      <td>{601249}</td>\n",
       "      <td>1</td>\n",
       "    </tr>\n",
       "    <tr>\n",
       "      <th>3</th>\n",
       "      <td>132255</td>\n",
       "      <td>{614717}</td>\n",
       "      <td>1</td>\n",
       "    </tr>\n",
       "    <tr>\n",
       "      <th>4</th>\n",
       "      <td>132303</td>\n",
       "      <td>{607278}</td>\n",
       "      <td>1</td>\n",
       "    </tr>\n",
       "    <tr>\n",
       "      <th>5</th>\n",
       "      <td>132331</td>\n",
       "      <td>{599088}</td>\n",
       "      <td>1</td>\n",
       "    </tr>\n",
       "    <tr>\n",
       "      <th>6</th>\n",
       "      <td>132342</td>\n",
       "      <td>{620440, 618404, 620062}</td>\n",
       "      <td>3</td>\n",
       "    </tr>\n",
       "    <tr>\n",
       "      <th>7</th>\n",
       "      <td>132413</td>\n",
       "      <td>{613705}</td>\n",
       "      <td>1</td>\n",
       "    </tr>\n",
       "    <tr>\n",
       "      <th>8</th>\n",
       "      <td>132445</td>\n",
       "      <td>{615442, 603003, 606932, 614554, 607055}</td>\n",
       "      <td>5</td>\n",
       "    </tr>\n",
       "    <tr>\n",
       "      <th>9</th>\n",
       "      <td>132493</td>\n",
       "      <td>{610926}</td>\n",
       "      <td>1</td>\n",
       "    </tr>\n",
       "  </tbody>\n",
       "</table>\n",
       "</div>"
      ],
      "text/plain": [
       "   itemID                            orderID.to_set  orderID.to_set_len\n",
       "0  131823                          {603849, 612671}                   2\n",
       "1  132062                          {615475, 617604}                   2\n",
       "2  132111                                  {601249}                   1\n",
       "3  132255                                  {614717}                   1\n",
       "4  132303                                  {607278}                   1\n",
       "5  132331                                  {599088}                   1\n",
       "6  132342                  {620440, 618404, 620062}                   3\n",
       "7  132413                                  {613705}                   1\n",
       "8  132445  {615442, 603003, 606932, 614554, 607055}                   5\n",
       "9  132493                                  {610926}                   1"
      ]
     },
     "execution_count": 52,
     "metadata": {},
     "output_type": "execute_result"
    }
   ],
   "source": [
    "product_orders.head(10)"
   ]
  },
  {
   "cell_type": "code",
   "execution_count": 53,
   "metadata": {},
   "outputs": [
    {
     "data": {
      "text/plain": [
       "77421.0"
      ]
     },
     "execution_count": 53,
     "metadata": {},
     "output_type": "execute_result"
    }
   ],
   "source": [
    "l = len(product_orders[product_orders['orderID.to_set_len'] > 20])\n",
    "l*(l-1)/2."
   ]
  },
  {
   "cell_type": "code",
   "execution_count": 55,
   "metadata": {},
   "outputs": [
    {
     "data": {
      "text/html": [
       "<div>\n",
       "<style scoped>\n",
       "    .dataframe tbody tr th:only-of-type {\n",
       "        vertical-align: middle;\n",
       "    }\n",
       "\n",
       "    .dataframe tbody tr th {\n",
       "        vertical-align: top;\n",
       "    }\n",
       "\n",
       "    .dataframe thead th {\n",
       "        text-align: right;\n",
       "    }\n",
       "</style>\n",
       "<table border=\"1\" class=\"dataframe\">\n",
       "  <thead>\n",
       "    <tr style=\"text-align: right;\">\n",
       "      <th></th>\n",
       "      <th>itemID</th>\n",
       "      <th>orderID.to_set</th>\n",
       "      <th>orderID.to_set_len</th>\n",
       "    </tr>\n",
       "  </thead>\n",
       "  <tbody>\n",
       "    <tr>\n",
       "      <th>54</th>\n",
       "      <td>133565</td>\n",
       "      <td>{601477, 601992, 606606, 604944, 599057, 60200...</td>\n",
       "      <td>22</td>\n",
       "    </tr>\n",
       "    <tr>\n",
       "      <th>218</th>\n",
       "      <td>137437</td>\n",
       "      <td>{608646, 600712, 600077, 622096, 610458, 60740...</td>\n",
       "      <td>25</td>\n",
       "    </tr>\n",
       "    <tr>\n",
       "      <th>237</th>\n",
       "      <td>137742</td>\n",
       "      <td>{602786, 607458, 615068, 609444, 614917, 59834...</td>\n",
       "      <td>21</td>\n",
       "    </tr>\n",
       "    <tr>\n",
       "      <th>275</th>\n",
       "      <td>138302</td>\n",
       "      <td>{599554, 599428, 620576, 599432, 600457, 61441...</td>\n",
       "      <td>43</td>\n",
       "    </tr>\n",
       "    <tr>\n",
       "      <th>377</th>\n",
       "      <td>139636</td>\n",
       "      <td>{599172, 603910, 600200, 600457, 600336, 59880...</td>\n",
       "      <td>28</td>\n",
       "    </tr>\n",
       "  </tbody>\n",
       "</table>\n",
       "</div>"
      ],
      "text/plain": [
       "     itemID                                     orderID.to_set  \\\n",
       "54   133565  {601477, 601992, 606606, 604944, 599057, 60200...   \n",
       "218  137437  {608646, 600712, 600077, 622096, 610458, 60740...   \n",
       "237  137742  {602786, 607458, 615068, 609444, 614917, 59834...   \n",
       "275  138302  {599554, 599428, 620576, 599432, 600457, 61441...   \n",
       "377  139636  {599172, 603910, 600200, 600457, 600336, 59880...   \n",
       "\n",
       "     orderID.to_set_len  \n",
       "54                   22  \n",
       "218                  25  \n",
       "237                  21  \n",
       "275                  43  \n",
       "377                  28  "
      ]
     },
     "execution_count": 55,
     "metadata": {},
     "output_type": "execute_result"
    }
   ],
   "source": [
    "product_orders_top = product_orders[product_orders['orderID.to_set_len'] > 20]\n",
    "product_orders_top.head()"
   ]
  },
  {
   "cell_type": "code",
   "execution_count": 56,
   "metadata": {},
   "outputs": [],
   "source": [
    "product_orders_dict = dict(zip(product_orders_top.itemID, product_orders_top['orderID.to_set']))"
   ]
  },
  {
   "cell_type": "code",
   "execution_count": 57,
   "metadata": {},
   "outputs": [],
   "source": [
    "product_pairs = list(combinations(sorted(product_orders_dict.keys()), 2))"
   ]
  },
  {
   "cell_type": "code",
   "execution_count": 58,
   "metadata": {},
   "outputs": [
    {
     "data": {
      "text/plain": [
       "[(133565, 137437),\n",
       " (133565, 137742),\n",
       " (133565, 138302),\n",
       " (133565, 139636),\n",
       " (133565, 139768),\n",
       " (133565, 140821),\n",
       " (133565, 142253),\n",
       " (133565, 142263),\n",
       " (133565, 142398),\n",
       " (133565, 142514)]"
      ]
     },
     "execution_count": 58,
     "metadata": {},
     "output_type": "execute_result"
    }
   ],
   "source": [
    "product_pairs[:10]"
   ]
  },
  {
   "cell_type": "code",
   "execution_count": 59,
   "metadata": {},
   "outputs": [],
   "source": [
    "def jaccard(s1, s2):\n",
    "    return len(s1 & s2) * 1. / len(s1 | s2)"
   ]
  },
  {
   "cell_type": "code",
   "execution_count": 60,
   "metadata": {},
   "outputs": [],
   "source": [
    "similarities = []\n",
    "for i1, i2 in product_pairs:\n",
    "    similarities.append((i1, i2, jaccard(product_orders_dict[i1], product_orders_dict[i2])))"
   ]
  },
  {
   "cell_type": "code",
   "execution_count": 61,
   "metadata": {},
   "outputs": [
    {
     "data": {
      "text/plain": [
       "77421"
      ]
     },
     "execution_count": 61,
     "metadata": {},
     "output_type": "execute_result"
    }
   ],
   "source": [
    "len(similarities)"
   ]
  },
  {
   "cell_type": "code",
   "execution_count": 62,
   "metadata": {},
   "outputs": [
    {
     "data": {
      "text/plain": [
       "8045"
      ]
     },
     "execution_count": 62,
     "metadata": {},
     "output_type": "execute_result"
    }
   ],
   "source": [
    "len(filter(lambda x: x[2] > 0.001, similarities))"
   ]
  },
  {
   "cell_type": "code",
   "execution_count": 63,
   "metadata": {},
   "outputs": [],
   "source": [
    "similar = filter(lambda x: x[2] > 0.001, similarities)"
   ]
  },
  {
   "cell_type": "code",
   "execution_count": 64,
   "metadata": {},
   "outputs": [],
   "source": [
    "similar.sort(key=lambda x: x[2], reverse=True)"
   ]
  },
  {
   "cell_type": "code",
   "execution_count": 75,
   "metadata": {
    "scrolled": true
   },
   "outputs": [
    {
     "data": {
      "text/plain": [
       "[(238178, 1401635, 0.006289308176100629),\n",
       " (597726, 1401635, 0.006172839506172839),\n",
       " (1401635, 1440580, 0.006024096385542169),\n",
       " (1401635, 1446979, 0.006024096385542169),\n",
       " (1417661, 1423007, 0.005917159763313609),\n",
       " (724547, 1401635, 0.005780346820809248),\n",
       " (553103, 1401635, 0.005681818181818182),\n",
       " (713988, 1401635, 0.005649717514124294),\n",
       " (1392862, 1401635, 0.005555555555555556),\n",
       " (1401635, 1417661, 0.005154639175257732)]"
      ]
     },
     "execution_count": 75,
     "metadata": {},
     "output_type": "execute_result"
    }
   ],
   "source": [
    "similar[-10:]"
   ]
  },
  {
   "cell_type": "code",
   "execution_count": 29,
   "metadata": {},
   "outputs": [
    {
     "data": {
      "text/html": [
       "<div>\n",
       "<style scoped>\n",
       "    .dataframe tbody tr th:only-of-type {\n",
       "        vertical-align: middle;\n",
       "    }\n",
       "\n",
       "    .dataframe tbody tr th {\n",
       "        vertical-align: top;\n",
       "    }\n",
       "\n",
       "    .dataframe thead th {\n",
       "        text-align: right;\n",
       "    }\n",
       "</style>\n",
       "<table border=\"1\" class=\"dataframe\">\n",
       "  <thead>\n",
       "    <tr style=\"text-align: right;\">\n",
       "      <th></th>\n",
       "      <th>DISCOUNT_VALUE</th>\n",
       "      <th>NAME</th>\n",
       "      <th>PRICE</th>\n",
       "      <th>QUANTITY</th>\n",
       "      <th>date_insert</th>\n",
       "      <th>discount</th>\n",
       "      <th>itemID</th>\n",
       "      <th>orderID</th>\n",
       "      <th>ordered_item_count</th>\n",
       "      <th>price</th>\n",
       "      <th>user_id</th>\n",
       "    </tr>\n",
       "  </thead>\n",
       "  <tbody>\n",
       "    <tr>\n",
       "      <th>6234</th>\n",
       "      <td>4.43%</td>\n",
       "      <td>Математика. 2 класс. Рабочая тетрадь №1</td>\n",
       "      <td>194.00</td>\n",
       "      <td>1</td>\n",
       "      <td>2017-03-19 15:52:08</td>\n",
       "      <td>138.00</td>\n",
       "      <td>713147</td>\n",
       "      <td>601904</td>\n",
       "      <td>13</td>\n",
       "      <td>3070.00</td>\n",
       "      <td>911496</td>\n",
       "    </tr>\n",
       "  </tbody>\n",
       "</table>\n",
       "</div>"
      ],
      "text/plain": [
       "     DISCOUNT_VALUE                                     NAME  PRICE  QUANTITY  \\\n",
       "6234          4.43%  Математика. 2 класс. Рабочая тетрадь №1 194.00         1   \n",
       "\n",
       "             date_insert  discount  itemID  orderID  ordered_item_count  \\\n",
       "6234 2017-03-19 15:52:08    138.00  713147   601904                  13   \n",
       "\n",
       "       price  user_id  \n",
       "6234 3070.00   911496  "
      ]
     },
     "execution_count": 29,
     "metadata": {},
     "output_type": "execute_result"
    }
   ],
   "source": [
    "df[df['itemID'] == 713147][:1]"
   ]
  },
  {
   "cell_type": "code",
   "execution_count": 66,
   "metadata": {},
   "outputs": [
    {
     "data": {
      "text/html": [
       "<div>\n",
       "<style scoped>\n",
       "    .dataframe tbody tr th:only-of-type {\n",
       "        vertical-align: middle;\n",
       "    }\n",
       "\n",
       "    .dataframe tbody tr th {\n",
       "        vertical-align: top;\n",
       "    }\n",
       "\n",
       "    .dataframe thead th {\n",
       "        text-align: right;\n",
       "    }\n",
       "</style>\n",
       "<table border=\"1\" class=\"dataframe\">\n",
       "  <thead>\n",
       "    <tr style=\"text-align: right;\">\n",
       "      <th></th>\n",
       "      <th>DISCOUNT_VALUE</th>\n",
       "      <th>NAME</th>\n",
       "      <th>PRICE</th>\n",
       "      <th>QUANTITY</th>\n",
       "      <th>date_insert</th>\n",
       "      <th>discount</th>\n",
       "      <th>itemID</th>\n",
       "      <th>orderID</th>\n",
       "      <th>ordered_item_count</th>\n",
       "      <th>price</th>\n",
       "      <th>user_id</th>\n",
       "    </tr>\n",
       "  </thead>\n",
       "  <tbody>\n",
       "    <tr>\n",
       "      <th>6235</th>\n",
       "      <td>4.43%</td>\n",
       "      <td>Математика. 2 класс. Рабочая тетрадь №2</td>\n",
       "      <td>194.00</td>\n",
       "      <td>1</td>\n",
       "      <td>2017-03-19 15:52:08</td>\n",
       "      <td>138.00</td>\n",
       "      <td>713149</td>\n",
       "      <td>601904</td>\n",
       "      <td>13</td>\n",
       "      <td>3070.00</td>\n",
       "      <td>911496</td>\n",
       "    </tr>\n",
       "  </tbody>\n",
       "</table>\n",
       "</div>"
      ],
      "text/plain": [
       "     DISCOUNT_VALUE                                     NAME  PRICE  QUANTITY  \\\n",
       "6235          4.43%  Математика. 2 класс. Рабочая тетрадь №2 194.00         1   \n",
       "\n",
       "             date_insert  discount  itemID  orderID  ordered_item_count  \\\n",
       "6235 2017-03-19 15:52:08    138.00  713149   601904                  13   \n",
       "\n",
       "       price  user_id  \n",
       "6235 3070.00   911496  "
      ]
     },
     "execution_count": 66,
     "metadata": {},
     "output_type": "execute_result"
    }
   ],
   "source": [
    "df[df['itemID'] == 713149][:1]"
   ]
  },
  {
   "cell_type": "code",
   "execution_count": 67,
   "metadata": {},
   "outputs": [],
   "source": [
    "idx = sorted(df['itemID'])"
   ]
  },
  {
   "cell_type": "code",
   "execution_count": 68,
   "metadata": {},
   "outputs": [
    {
     "data": {
      "text/html": [
       "<div>\n",
       "<style scoped>\n",
       "    .dataframe tbody tr th:only-of-type {\n",
       "        vertical-align: middle;\n",
       "    }\n",
       "\n",
       "    .dataframe tbody tr th {\n",
       "        vertical-align: top;\n",
       "    }\n",
       "\n",
       "    .dataframe thead th {\n",
       "        text-align: right;\n",
       "    }\n",
       "</style>\n",
       "<table border=\"1\" class=\"dataframe\">\n",
       "  <thead>\n",
       "    <tr style=\"text-align: right;\">\n",
       "      <th></th>\n",
       "      <th>a</th>\n",
       "      <th>b</th>\n",
       "      <th>distance</th>\n",
       "    </tr>\n",
       "  </thead>\n",
       "  <tbody>\n",
       "    <tr>\n",
       "      <th>0</th>\n",
       "      <td>133565</td>\n",
       "      <td>137437</td>\n",
       "      <td>0.00</td>\n",
       "    </tr>\n",
       "    <tr>\n",
       "      <th>1</th>\n",
       "      <td>133565</td>\n",
       "      <td>137742</td>\n",
       "      <td>0.00</td>\n",
       "    </tr>\n",
       "    <tr>\n",
       "      <th>2</th>\n",
       "      <td>133565</td>\n",
       "      <td>138302</td>\n",
       "      <td>0.00</td>\n",
       "    </tr>\n",
       "    <tr>\n",
       "      <th>3</th>\n",
       "      <td>133565</td>\n",
       "      <td>139636</td>\n",
       "      <td>0.00</td>\n",
       "    </tr>\n",
       "    <tr>\n",
       "      <th>4</th>\n",
       "      <td>133565</td>\n",
       "      <td>139768</td>\n",
       "      <td>0.00</td>\n",
       "    </tr>\n",
       "  </tbody>\n",
       "</table>\n",
       "</div>"
      ],
      "text/plain": [
       "        a       b  distance\n",
       "0  133565  137437      0.00\n",
       "1  133565  137742      0.00\n",
       "2  133565  138302      0.00\n",
       "3  133565  139636      0.00\n",
       "4  133565  139768      0.00"
      ]
     },
     "execution_count": 68,
     "metadata": {},
     "output_type": "execute_result"
    }
   ],
   "source": [
    "sim_df = pd.DataFrame(similarities + [(i, i, 1) for i in idx], columns=['a', 'b', 'distance'])\n",
    "sim_df.head()"
   ]
  },
  {
   "cell_type": "code",
   "execution_count": 87,
   "metadata": {},
   "outputs": [
    {
     "data": {
      "text/plain": [
       "108039"
      ]
     },
     "execution_count": 87,
     "metadata": {},
     "output_type": "execute_result"
    }
   ],
   "source": [
    "pd.options.display.float_format = '{:f}'.format\n",
    "len(sim_df[sim_df['distance'] > 0])"
   ]
  },
  {
   "cell_type": "code",
   "execution_count": 69,
   "metadata": {},
   "outputs": [
    {
     "data": {
      "text/plain": [
       "177415"
      ]
     },
     "execution_count": 69,
     "metadata": {},
     "output_type": "execute_result"
    }
   ],
   "source": [
    "len(sim_df)"
   ]
  },
  {
   "cell_type": "code",
   "execution_count": 90,
   "metadata": {},
   "outputs": [],
   "source": [
    "sim_df[sim_df['distance'] > 0].to_csv('similarities.txt', header=False, index=False, sep='\\t')"
   ]
  },
  {
   "cell_type": "code",
   "execution_count": 91,
   "metadata": {},
   "outputs": [
    {
     "name": "stdout",
     "output_type": "stream",
     "text": [
      "133565\t153305\t0.0217391304348\r\n",
      "133565\t163395\t0.02\r\n",
      "133565\t172618\t0.0238095238095\r\n",
      "133565\t182854\t0.0625\r\n",
      "133565\t183024\t0.0181818181818\r\n",
      "133565\t206749\t0.0238095238095\r\n",
      "133565\t272364\t0.0138888888889\r\n",
      "133565\t594132\t0.0169491525424\r\n",
      "133565\t662946\t0.0217391304348\r\n",
      "133565\t712373\t0.0909090909091\r\n"
     ]
    }
   ],
   "source": [
    "!head similarities.txt"
   ]
  },
  {
   "cell_type": "code",
   "execution_count": 98,
   "metadata": {},
   "outputs": [
    {
     "name": "stdout",
     "output_type": "stream",
     "text": [
      "18840    Пенелопа и Одиссей. «Жди меня…» (вес: 250гр.)\n",
      "Name: NAME, dtype: object\n",
      "7728    Тельняшка Джек\n",
      "Name: NAME, dtype: object\n",
      "3354    История Власа - лентяя и лоботряса (вес: 50гр.)\n",
      "Name: NAME, dtype: object\n",
      "8192    Храбрая Дракоша. Как защитить свой леденец\n",
      "Name: NAME, dtype: object\n",
      "7088    Хорошо, что есть я! (вес: 468гр.)\n",
      "Name: NAME, dtype: object\n",
      "18280    Записки prostitutki Ket\n",
      "Name: NAME, dtype: object\n",
      "4910    Древнегреческие мифы. Подвиги Геракла\n",
      "Name: NAME, dtype: object\n",
      "6589    Заколдованная принцесса\n",
      "Name: NAME, dtype: object\n",
      "3656    Русская рыбалка\n",
      "Name: NAME, dtype: object\n",
      "7679    Происшествие на кладбище Пер-Лашез\n",
      "Name: NAME, dtype: object\n",
      "2603    Мой дедушка - памятник (с продолжением)\n",
      "Name: NAME, dtype: object\n",
      "6647    Басни (вес: 397гр.)\n",
      "Name: NAME, dtype: object\n",
      "6254    Огненный бог Марранов\n",
      "Name: NAME, dtype: object\n",
      "7145    Древнегреческие мифы. Троянская война (вес: 35...\n",
      "Name: NAME, dtype: object\n",
      "3353    Научные забавы и занимательные опыты (вес: 235...\n",
      "Name: NAME, dtype: object\n",
      "323    Развитие речи для малышей в рассказах и веселы...\n",
      "Name: NAME, dtype: object\n",
      "3628    Алиса в стране чудес\n",
      "Name: NAME, dtype: object\n",
      "457    Поделки из природных материалов\n",
      "Name: NAME, dtype: object\n",
      "935    Полная энциклопедия комнатных растений (вес: 5...\n",
      "Name: NAME, dtype: object\n",
      "1948    Разноцветные поделки [из бумаги, картона, каму...\n",
      "Name: NAME, dtype: object\n",
      "6256    Потерпевшие кораблекрушение\n",
      "Name: NAME, dtype: object\n",
      "8170    Косы и косички: все техники плетения. Самые ст...\n",
      "Name: NAME, dtype: object\n",
      "3631    Русские сказки\n",
      "Name: NAME, dtype: object\n",
      "7417    Хочу бодаться!\n",
      "Name: NAME, dtype: object\n",
      "1000    Постройки на участке. Новейшая энциклопедия ст...\n",
      "Name: NAME, dtype: object\n",
      "5570    Книга джунглей\n",
      "Name: NAME, dtype: object\n",
      "6042    Крылатый, мохнатый да масленый\n",
      "Name: NAME, dtype: object\n",
      "2470    В постели с врагом. Тайная война Коко Шанель\n",
      "Name: NAME, dtype: object\n",
      "6535    Матиас Шандор\n",
      "Name: NAME, dtype: object\n",
      "5028    Не все коту масленица\n",
      "Name: NAME, dtype: object\n",
      "1426    Нарисуй балерину\n",
      "Name: NAME, dtype: object\n",
      "846    Урфин Джюс и его деревянные солдаты\n",
      "Name: NAME, dtype: object\n",
      "2684    История костюма(мелов) (вес: 728гр.)\n",
      "Name: NAME, dtype: object\n",
      "3191    Развивающие игры и занятия\n",
      "Name: NAME, dtype: object\n",
      "9517    Пейте, дети, молоко - будете здоровы!\n",
      "Name: NAME, dtype: object\n",
      "1952    Игры дома и на улице\n",
      "Name: NAME, dtype: object\n",
      "3215    Моя книга домашних заготовок. Готовим сами: дж...\n",
      "Name: NAME, dtype: object\n",
      "6121    Аэробика для лица.Упражнения для кожи и мышц\n",
      "Name: NAME, dtype: object\n",
      "2532    Юный самурай. Путь воина\n",
      "Name: NAME, dtype: object\n",
      "2533    Кто есть кто во всемирной истории\n",
      "Name: NAME, dtype: object\n",
      "1949    Оригами. Новые идеи\n",
      "Name: NAME, dtype: object\n",
      "8204    Деревянный хлеб\n",
      "Name: NAME, dtype: object\n",
      "2849    Сказки про тигрёнка Бинки, поросёнка Икара, др...\n",
      "Name: NAME, dtype: object\n",
      "7057    Любимые истории в 6 лет\n",
      "Name: NAME, dtype: object\n",
      "5568    Оригами для детей. Как сделать кошку из бумаги\n",
      "Name: NAME, dtype: object\n",
      "3099    Рассказы для детей\n",
      "Name: NAME, dtype: object\n",
      "7090    Черничная девочка (вес: 440гр.)\n",
      "Name: NAME, dtype: object\n",
      "7730    Два поросенка\n",
      "Name: NAME, dtype: object\n",
      "3630    Самый дружелюбный пес на свете. Железный дым\n",
      "Name: NAME, dtype: object\n",
      "7149    Новые тысяча и одна ночь (вес: 390гр.)\n",
      "Name: NAME, dtype: object\n",
      "3100    Сирано де Бержерак\n",
      "Name: NAME, dtype: object\n",
      "5671    Мой сын - Иосиф Сталин\n",
      "Name: NAME, dtype: object\n",
      "1022    Вязание. Свитера и джемперы\n",
      "Name: NAME, dtype: object\n",
      "322    Главная книга о воспитании и развитии ребенка\n",
      "Name: NAME, dtype: object\n",
      "2602    Книга о лучшей в мире Ребекке. [Ребекка с ферм...\n",
      "Name: NAME, dtype: object\n",
      "8100    Мой дедушка - памятник. Сундучок, в котором чт...\n",
      "Name: NAME, dtype: object\n",
      "7818    Самый простой способ &quot;говорить&quot; с ре...\n",
      "Name: NAME, dtype: object\n",
      "208    Волшебная бумага. 100 лучших идей для девочек\n",
      "Name: NAME, dtype: object\n",
      "7729    Приключения Олимпионика\n",
      "Name: NAME, dtype: object\n",
      "1951    1000 новых идей с бусинами и бисером\n",
      "Name: NAME, dtype: object\n"
     ]
    }
   ],
   "source": [
    "cl='147766\t154793\t175575\t181786\t182620\t196952\t142398\t145798\t147361\t150152\t150538\t151493\t151619\t152063\t153011\t154814\t155606\t159205\t166707\t169853\t169931\t170330\t172828\t173746\t174204\t174571\t175137\t177154\t178553\t180965\t190051\t194789\t147587\t175772\t178406\t184593\t186111\t187439\t143388\t151819\t168995\t169292\t170909\t178625\t179832\t192371\t195635\t196154\t178589\t186216\t179648\t143487\t144105\t144288\t148016\t148947\t164568\t176089\t183067\t185840'\n",
    "items = map(int, cl.split('\\t'))\n",
    "for i in items:\n",
    "    print(df[df['itemID'] == i][:1].NAME)"
   ]
  },
  {
   "cell_type": "code",
   "execution_count": null,
   "metadata": {},
   "outputs": [],
   "source": []
  }
 ],
 "metadata": {
  "kernelspec": {
   "display_name": "Python 3",
   "language": "python",
   "name": "python3"
  },
  "language_info": {
   "codemirror_mode": {
    "name": "ipython",
    "version": 3
   },
   "file_extension": ".py",
   "mimetype": "text/x-python",
   "name": "python",
   "nbconvert_exporter": "python",
   "pygments_lexer": "ipython3",
   "version": "3.6.6"
  }
 },
 "nbformat": 4,
 "nbformat_minor": 2
}
