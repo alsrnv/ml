{
 "cells": [
  {
   "cell_type": "markdown",
   "metadata": {},
   "source": [
    "## Дерево решений"
   ]
  },
  {
   "cell_type": "markdown",
   "metadata": {},
   "source": [
    "Задание\n",
    "1. Там, где написано \"Ваш код\", нужно реализовать метод или часть метода\n",
    "2. Там, где написано \"Что делает этот блок кода?\", нужно разобраться в блоке кода и в комментарии написать, что он делает\n",
    "3. Добиться, чтобы в пункте \"Проверка скорости работы\" Ваша реализация работала чуть быстрее, чем у дерева из sklearn (это возможно, так как мы реализуем только малую часть функциональности)\n",
    "4. Добиться, чтобы в пункте \"Проверка качества работы\" Ваша реализация работала так же или качественнее, чем у дерева из sklearn\n",
    "5. Применить реализованное дерево решений для задачи Titanic на kaggle. Применить для той же задачи дерево решений из sklearn. Применить кросс-валидацию для подбора параметров. Сравнить с результатами предыдущих моделей. Если результат улучшился - сделать сабмит. Написать отчет о результатах."
   ]
  },
  {
   "cell_type": "code",
   "execution_count": 41,
   "metadata": {},
   "outputs": [],
   "source": [
    "from time import time\n",
    "\n",
    "import matplotlib.pyplot as plt\n",
    "import numpy as np\n",
    "import pandas as pd\n",
    "\n",
    "from scipy import optimize\n",
    "from sklearn.metrics import accuracy_score\n",
    "from sklearn.model_selection import KFold\n",
    "from sklearn.tree import DecisionTreeClassifier\n",
    "from sklearn.model_selection import train_test_split\n",
    "\n",
    "%matplotlib inline"
   ]
  },
  {
   "cell_type": "code",
   "execution_count": 2,
   "metadata": {},
   "outputs": [],
   "source": [
    "class MyDecisionTree:\n",
    "    def __init__(self, depth=0, max_depth=6, criterion = 'gini', min_impurity_split = 10**-7):\n",
    "        self.depth = depth\n",
    "        self.max_depth = max_depth\n",
    "        self.criterion = criterion\n",
    "        self.min_impurity_split = min_impurity_split\n",
    "        \n",
    "    def impurity_score(self, y):\n",
    "        if y is None or y.shape[0] == 0:\n",
    "            return 0\n",
    "        # вычисляем вероятности для всех уникальных классов\n",
    "        unique, counts = np.unique(y, return_counts=True)\n",
    "        probs = counts/len(y)\n",
    "        impurity = 0\n",
    "        if self.criterion == 'gini':\n",
    "            for val in probs:\n",
    "                impurity += val*(1-val)\n",
    "        elif self.criterion == 'entropy':\n",
    "            for val in probs:\n",
    "                impurity += -val*np.log2(val)\n",
    "        return impurity\n",
    "    \n",
    "    def information_gain(self, x, y, split):\n",
    "        y_left = y[x < split]\n",
    "        y_right = y[x >= split]\n",
    "        N = len(y)\n",
    "        return self.impurity_score(y) - ((len(y_left)/N) * self.impurity_score(y_left) + \\\n",
    "                                         (len(y_right)/N) * self.impurity_score(y_right)) \n",
    "\n",
    "    def find_split(self, data, col):\n",
    "        data = data.sort_values(col)\n",
    "        x_values = data[col].values\n",
    "        y_values = data[self.target].values\n",
    "        \n",
    "        #Находим индексты где значение значение различное от соседней. По ним будем проверять split\n",
    "        boundaries = np.nonzero(y_values[:-1] != y_values[1:])[0]\n",
    "        best_split = None\n",
    "        max_ig = 0\n",
    "        for b in boundaries:\n",
    "            split = (x_values[b] + x_values[b+1])/2\n",
    "            ig = self.information_gain(x_values, y_values, split)\n",
    "            if ig > max_ig:\n",
    "                max_ig = ig\n",
    "                best_split = split\n",
    "        return max_ig, best_split\n",
    "    \n",
    "\n",
    "\n",
    "    def fit(self, data, target):\n",
    "        self.target = target\n",
    "        if data.shape[0] == 1:\n",
    "            self.col = None\n",
    "            self.split = None\n",
    "            self.left = None\n",
    "            self.right = None\n",
    "            self.prediction = data[target].max()\n",
    "        else:\n",
    "            cols = [col for col in data.columns if col != self.target]\n",
    "            max_ig = 0\n",
    "            best_col = None\n",
    "            best_split = None\n",
    "            for col in cols:\n",
    "                ig, split = self.find_split(data, col)\n",
    "                if ig > max_ig:\n",
    "                    max_ig = ig\n",
    "                    best_col = col\n",
    "                    best_split = split\n",
    "\n",
    "            if max_ig <= self.min_impurity_split:\n",
    "                self.col = None\n",
    "                self.split = None\n",
    "                self.left = None\n",
    "                self.right = None\n",
    "                self.prediction = np.round(data[self.target].mean())\n",
    "            else:\n",
    "                self.col = best_col\n",
    "                self.split = best_split\n",
    "\n",
    "                if self.depth == self.max_depth:\n",
    "                    self.left = None\n",
    "                    self.right = None\n",
    "                    self.prediction = np.round(data[self.target].mean())\n",
    "\n",
    "                else:\n",
    "                    DataLeft = data.loc[data[best_col] < best_split]\n",
    "                    self.left = MyDecisionTree(self.depth + 1, self.max_depth)\n",
    "                    self.left.fit(DataLeft, self.target)\n",
    "\n",
    "                    DataRight = data.loc[data[best_col] >= best_split]\n",
    "                    self.right = MyDecisionTree(self.depth + 1, self.max_depth)\n",
    "                    self.right.fit(DataRight, self.target)\n",
    "\n",
    "    def predict_one(self, x):\n",
    "        if self.col is not None and self.split is not None:\n",
    "            feature = x[self.col]\n",
    "            if feature < self.split:\n",
    "                if self.left:\n",
    "                    p = self.left.predict_one(x)\n",
    "                else:\n",
    "                    p = self.prediction\n",
    "            else:\n",
    "                if self.right:\n",
    "                    p = self.right.predict_one(x)\n",
    "                else:\n",
    "                    p = self.prediction\n",
    "        else:\n",
    "            p = self.prediction\n",
    "        return p\n",
    "\n",
    "    def predict(self, X):\n",
    "        N = len(X)\n",
    "        P = np.zeros(N)\n",
    "        for idx, row in X.iterrows():\n",
    "            P[idx] = self.predict_one(row)\n",
    "        return P\n"
   ]
  },
  {
   "cell_type": "markdown",
   "metadata": {},
   "source": [
    "**Загрузим предобработанные данные Титаник**"
   ]
  },
  {
   "cell_type": "code",
   "execution_count": 13,
   "metadata": {},
   "outputs": [],
   "source": [
    "train_data = pd.read_csv('input/train_preprocessed.csv')\n",
    "test_data = pd.read_csv('input/test_preprocessed.csv')\n",
    "\n",
    "y_column = 'Survived'\n",
    "x_columns = [col for col in train_data.columns if col != 'Survived']"
   ]
  },
  {
   "cell_type": "markdown",
   "metadata": {},
   "source": [
    "## Проверка скорости работы"
   ]
  },
  {
   "cell_type": "code",
   "execution_count": 14,
   "metadata": {},
   "outputs": [],
   "source": [
    "my_clf = MyDecisionTree(max_depth = 3, criterion = 'gini')\n",
    "clf = DecisionTreeClassifier(max_depth=3, criterion = 'gini')"
   ]
  },
  {
   "cell_type": "code",
   "execution_count": 16,
   "metadata": {
    "scrolled": true
   },
   "outputs": [
    {
     "name": "stdout",
     "output_type": "stream",
     "text": [
      "5.814981937408447\n",
      "0.014863252639770508\n"
     ]
    }
   ],
   "source": [
    "t1 = time()\n",
    "my_clf.fit(train_data, target = 'Survived')\n",
    "t2 = time()\n",
    "print(t2 - t1)\n",
    "\n",
    "t1 = time()\n",
    "clf.fit(train_data[x_columns], train_data[y_column])\n",
    "t2 = time()\n",
    "print(t2 - t1)"
   ]
  },
  {
   "cell_type": "code",
   "execution_count": null,
   "metadata": {},
   "outputs": [],
   "source": []
  }
 ],
 "metadata": {
  "kernelspec": {
   "display_name": "Python 3",
   "language": "python",
   "name": "python3"
  },
  "language_info": {
   "codemirror_mode": {
    "name": "ipython",
    "version": 3
   },
   "file_extension": ".py",
   "mimetype": "text/x-python",
   "name": "python",
   "nbconvert_exporter": "python",
   "pygments_lexer": "ipython3",
   "version": "3.7.1"
  }
 },
 "nbformat": 4,
 "nbformat_minor": 2
}
