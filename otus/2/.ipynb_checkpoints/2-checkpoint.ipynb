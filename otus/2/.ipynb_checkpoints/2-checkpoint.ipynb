{
 "cells": [
  {
   "cell_type": "markdown",
   "metadata": {},
   "source": [
    "# Необходимые понятия из математического анализа и линейной алгебры"
   ]
  },
  {
   "cell_type": "code",
   "execution_count": 200,
   "metadata": {},
   "outputs": [],
   "source": [
    "%matplotlib notebook"
   ]
  },
  {
   "cell_type": "code",
   "execution_count": 11,
   "metadata": {
    "collapsed": true
   },
   "outputs": [],
   "source": [
    "import numpy as np\n",
    "import numpy.linalg as la"
   ]
  },
  {
   "cell_type": "markdown",
   "metadata": {},
   "source": [
    "## Линейная алгебра"
   ]
  },
  {
   "cell_type": "markdown",
   "metadata": {},
   "source": [
    "### Обозначения\n",
    "\n",
    "$A ∈ R^{m×n}$ матрица с m строками и n столбцами и действительными числами.\n",
    "are real numbers. $A_{ij}$ - элемент на i строке и j столбце\n",
    "\n",
    "$x ∈ R^{n}$ вектор с n элементами, здесь вектором будут обозначать вектор столбец, $x^T$ будем обозначать вектор строчку.\n",
    "$x_i$ - i элемент вектора x\n"
   ]
  },
  {
   "cell_type": "code",
   "execution_count": 8,
   "metadata": {
    "collapsed": true
   },
   "outputs": [],
   "source": [
    "x = np.ones(10).reshape(10, 1)\n",
    "A = np.ones(10).reshape(2, 5)"
   ]
  },
  {
   "cell_type": "code",
   "execution_count": 9,
   "metadata": {},
   "outputs": [
    {
     "data": {
      "text/plain": [
       "array([[1.],\n",
       "       [1.],\n",
       "       [1.],\n",
       "       [1.],\n",
       "       [1.],\n",
       "       [1.],\n",
       "       [1.],\n",
       "       [1.],\n",
       "       [1.],\n",
       "       [1.]])"
      ]
     },
     "execution_count": 9,
     "metadata": {},
     "output_type": "execute_result"
    }
   ],
   "source": [
    "x"
   ]
  },
  {
   "cell_type": "code",
   "execution_count": 10,
   "metadata": {},
   "outputs": [
    {
     "data": {
      "text/plain": [
       "array([[1., 1., 1., 1., 1.],\n",
       "       [1., 1., 1., 1., 1.]])"
      ]
     },
     "execution_count": 10,
     "metadata": {},
     "output_type": "execute_result"
    }
   ],
   "source": [
    "A"
   ]
  },
  {
   "cell_type": "markdown",
   "metadata": {},
   "source": [
    "Базовые операции с векторами"
   ]
  },
  {
   "cell_type": "code",
   "execution_count": 16,
   "metadata": {
    "collapsed": true
   },
   "outputs": [],
   "source": [
    "x = np.random.rand(3)\n",
    "y = np.random.rand(3)"
   ]
  },
  {
   "cell_type": "code",
   "execution_count": 19,
   "metadata": {},
   "outputs": [
    {
     "data": {
      "text/plain": [
       "(array([0.9800766 , 0.57613862, 0.43178602]),\n",
       " array([1.9800766 , 1.57613862, 1.43178602]),\n",
       " array([1.9601532 , 1.15227723, 0.86357205]),\n",
       " array([0.96055014, 0.33193571, 0.18643917]))"
      ]
     },
     "execution_count": 19,
     "metadata": {},
     "output_type": "execute_result"
    }
   ],
   "source": [
    "x, x + 1, x * 2, x**2"
   ]
  },
  {
   "cell_type": "code",
   "execution_count": 21,
   "metadata": {},
   "outputs": [
    {
     "data": {
      "text/plain": [
       "(array([0.9800766 , 0.57613862, 0.43178602]),\n",
       " array([0.70252636, 0.43411265, 0.04579168]),\n",
       " array([1.68260296, 1.01025126, 0.47757771]))"
      ]
     },
     "execution_count": 21,
     "metadata": {},
     "output_type": "execute_result"
    }
   ],
   "source": [
    "# сложение векторов\n",
    "x, y, x + y"
   ]
  },
  {
   "cell_type": "markdown",
   "metadata": {},
   "source": [
    "векторизация"
   ]
  },
  {
   "cell_type": "code",
   "execution_count": 51,
   "metadata": {},
   "outputs": [
    {
     "name": "stdout",
     "output_type": "stream",
     "text": [
      "CPU times: user 3.84 ms, sys: 0 ns, total: 3.84 ms\n",
      "Wall time: 3.85 ms\n",
      "CPU times: user 26 µs, sys: 2 µs, total: 28 µs\n",
      "Wall time: 31.5 µs\n"
     ]
    },
    {
     "data": {
      "text/plain": [
       "(True, True)"
      ]
     },
     "execution_count": 51,
     "metadata": {},
     "output_type": "execute_result"
    }
   ],
   "source": [
    "x = np.random.rand(10000)\n",
    "y = np.random.rand(10000)\n",
    "%time z = [xi+ yi for xi, yi in zip(x , y)]\n",
    "%time z2 = x + y\n",
    "np.array_equal(z, z2), np.allclose(z, z2)"
   ]
  },
  {
   "cell_type": "markdown",
   "metadata": {},
   "source": [
    "#  Скалярное произведение векторов"
   ]
  },
  {
   "cell_type": "markdown",
   "metadata": {},
   "source": [
    "$\\textbf{u} \\cdot \\textbf{v} = \\left \\Vert \\textbf{u} \\right \\| \\times \\left \\Vert \\textbf{v} \\right \\| \\times cos(\\theta)$  \n",
    "\n",
    "или\n",
    "\n",
    "$\\textbf{u} \\cdot \\textbf{v} = \\sum_i({\\textbf{u}_i \\times \\textbf{v}_i})$\n"
   ]
  },
  {
   "cell_type": "code",
   "execution_count": 52,
   "metadata": {},
   "outputs": [
    {
     "name": "stdout",
     "output_type": "stream",
     "text": [
      "CPU times: user 1.45 ms, sys: 133 µs, total: 1.59 ms\n",
      "Wall time: 1.59 ms\n",
      "CPU times: user 681 µs, sys: 0 ns, total: 681 µs\n",
      "Wall time: 181 µs\n",
      "CPU times: user 182 µs, sys: 0 ns, total: 182 µs\n",
      "Wall time: 42.4 µs\n",
      "CPU times: user 700 µs, sys: 64 µs, total: 764 µs\n",
      "Wall time: 182 µs\n",
      "2491.860186816321 2491.8601868163178 2491.8601868163178 2491.8601868163178\n"
     ]
    }
   ],
   "source": [
    "%time z1 = sum([ xi*yi for xi, yi in zip(x , y)])\n",
    "%time z2 = x.dot(y)\n",
    "%time z3 = np.dot(x, y)\n",
    "%time z4 = x @ y\n",
    "print(z1, z2, z3, z4)"
   ]
  },
  {
   "cell_type": "markdown",
   "metadata": {},
   "source": [
    "### Норма вектора"
   ]
  },
  {
   "cell_type": "markdown",
   "metadata": {},
   "source": [
    "Норма вектора - мера длины. Рассмотрим l-n норму.\n",
    "\n",
    "$\\left \\Vert \\textbf{u} \\right \\|_l = ({\\sum_{i}{\\textbf{u}_i}^l})^{1/l}$\n",
    "\n",
    "Например l2\n",
    "\n",
    "$\\left \\Vert \\textbf{u} \\right \\|_2 = \\sqrt{{\\textbf{u}_1}^2 + {\\textbf{u}_2}^2 + {\\textbf{u}_3}^2 + ...}$"
   ]
  },
  {
   "cell_type": "code",
   "execution_count": 54,
   "metadata": {},
   "outputs": [
    {
     "name": "stdout",
     "output_type": "stream",
     "text": [
      "CPU times: user 5.38 ms, sys: 116 µs, total: 5.49 ms\n",
      "Wall time: 5.46 ms\n",
      "CPU times: user 742 µs, sys: 0 ns, total: 742 µs\n",
      "Wall time: 208 µs\n",
      "CPU times: user 446 µs, sys: 39 µs, total: 485 µs\n",
      "Wall time: 114 µs\n",
      "CPU times: user 2.78 ms, sys: 242 µs, total: 3.02 ms\n",
      "Wall time: 868 µs\n",
      "57.79714283793897 57.797142837939 57.797142837939 57.797142837939\n"
     ]
    }
   ],
   "source": [
    "%time z1 = sum([ xi**2 for xi in x])**0.5\n",
    "%time z2 = la.norm(x)\n",
    "%time z3 = np.sqrt(np.sum(x**2))\n",
    "%time z4 = np.sqrt(np.dot(x, x))\n",
    "print(z1, z2, z3, z4)"
   ]
  },
  {
   "cell_type": "markdown",
   "metadata": {},
   "source": [
    "Вопросы: \n",
    "    - чему равна l1 норма?\n",
    "    - чему равна l-бесконечность норма?"
   ]
  },
  {
   "cell_type": "code",
   "execution_count": null,
   "metadata": {
    "collapsed": true
   },
   "outputs": [],
   "source": [
    "x = np.arange(3)\n",
    "la.norm(x, 1), la.norm(x, np.inf)"
   ]
  },
  {
   "cell_type": "markdown",
   "metadata": {},
   "source": [
    "### Умножение матрицы на вектор\n",
    "https://see.stanford.edu/materials/aimlcs229/cs229-linalg.pdf\n",
    "\n",
    "#### Умножение матрицы на вектор столбец.\n",
    "y = Ax\n",
    "\n",
    "$A ∈ R^{m×n}$, x ∈ $R^n$, y ∈ $R^m$\n",
    "\n",
    "$y_i = \\sum_{k=1}^n A_{ik} x_{k}$\n",
    "\n",
    "\n",
    "Интерпретация:\n",
    "1. Вектор со скалярными произведениями строчeк A и x\n",
    "2. Вектор который явзяется линейной комбинайцией столбцов A с коэффициентами x\n",
    "\n",
    "#### Умножение матрицы на вектор строчку.\n",
    "$y^T = x^TA$ - умножение вектор строчка на матрицу\n",
    "\n",
    "Интерпретация:\n",
    "1. Вектор со скалярными произведениями столбцов A и x\n",
    "2. Вектор который явзяется линейной комбинайцией строчек A с коэффициентами x"
   ]
  },
  {
   "cell_type": "code",
   "execution_count": 61,
   "metadata": {
    "collapsed": true
   },
   "outputs": [],
   "source": [
    "x = np.arange(1, 4).reshape(-1, 1)\n",
    "A = np.array([\n",
    "    [1, 4, 3],\n",
    "    [4, 1, 7],\n",
    "])"
   ]
  },
  {
   "cell_type": "code",
   "execution_count": 62,
   "metadata": {},
   "outputs": [
    {
     "data": {
      "text/plain": [
       "array([[1],\n",
       "       [2],\n",
       "       [3]])"
      ]
     },
     "execution_count": 62,
     "metadata": {},
     "output_type": "execute_result"
    }
   ],
   "source": [
    "x"
   ]
  },
  {
   "cell_type": "code",
   "execution_count": 63,
   "metadata": {},
   "outputs": [
    {
     "data": {
      "text/plain": [
       "array([[1, 4, 3],\n",
       "       [4, 1, 7]])"
      ]
     },
     "execution_count": 63,
     "metadata": {},
     "output_type": "execute_result"
    }
   ],
   "source": [
    "A"
   ]
  },
  {
   "cell_type": "code",
   "execution_count": 64,
   "metadata": {},
   "outputs": [
    {
     "data": {
      "text/plain": [
       "array([[18],\n",
       "       [27]])"
      ]
     },
     "execution_count": 64,
     "metadata": {},
     "output_type": "execute_result"
    }
   ],
   "source": [
    "A @ x"
   ]
  },
  {
   "cell_type": "code",
   "execution_count": 69,
   "metadata": {},
   "outputs": [
    {
     "name": "stdout",
     "output_type": "stream",
     "text": [
      "0-th element is [18]\n",
      "1-th element is [27]\n"
     ]
    }
   ],
   "source": [
    "# распишем произведение по определению\n",
    "m, n = A.shape\n",
    "for i in range(m):\n",
    "    val = 0\n",
    "    for k in range(n):\n",
    "        val += A[i, k] * x[k]\n",
    "    print(f'{i}-th element is {val}')"
   ]
  },
  {
   "cell_type": "code",
   "execution_count": 68,
   "metadata": {},
   "outputs": [
    {
     "name": "stdout",
     "output_type": "stream",
     "text": [
      "0-th element is [18]\n",
      "1-th element is [27]\n"
     ]
    }
   ],
   "source": [
    "# распишем произведение как скалярное произведение\n",
    "for i in range(m):\n",
    "    print(f'{i}-th element is {A[i].dot(x)}')"
   ]
  },
  {
   "cell_type": "code",
   "execution_count": 74,
   "metadata": {},
   "outputs": [
    {
     "name": "stdout",
     "output_type": "stream",
     "text": [
      "0-th column: [1 4] * [1]\n",
      "1-th column: [4 1] * [2]\n",
      "2-th column: [3 7] * [3]\n"
     ]
    },
    {
     "data": {
      "text/plain": [
       "array([18, 27])"
      ]
     },
     "execution_count": 74,
     "metadata": {},
     "output_type": "execute_result"
    }
   ],
   "source": [
    "# распишем произведение сумму векторов\n",
    "res = 0\n",
    "for i in range(n):\n",
    "    print(f'{i}-th column: {A[:, i]} * {x[i]}')\n",
    "    res += A[:, i] * x[i]\n",
    "res"
   ]
  },
  {
   "cell_type": "code",
   "execution_count": 76,
   "metadata": {},
   "outputs": [
    {
     "ename": "ValueError",
     "evalue": "operands could not be broadcast together with shapes (3,1) (2,3) ",
     "output_type": "error",
     "traceback": [
      "\u001b[0;31m---------------------------------------------------------------------------\u001b[0m",
      "\u001b[0;31mValueError\u001b[0m                                Traceback (most recent call last)",
      "\u001b[0;32m<ipython-input-76-19656724cb33>\u001b[0m in \u001b[0;36m<module>\u001b[0;34m()\u001b[0m\n\u001b[1;32m      1\u001b[0m \u001b[0;31m# не можем умножить слева, так как x это вектор столбец\u001b[0m\u001b[0;34m\u001b[0m\u001b[0;34m\u001b[0m\u001b[0m\n\u001b[0;32m----> 2\u001b[0;31m \u001b[0mx\u001b[0m \u001b[0;34m*\u001b[0m \u001b[0mA\u001b[0m\u001b[0;34m\u001b[0m\u001b[0m\n\u001b[0m",
      "\u001b[0;31mValueError\u001b[0m: operands could not be broadcast together with shapes (3,1) (2,3) "
     ]
    }
   ],
   "source": [
    "# не можем умножить слева, так как x это вектор столбец\n",
    "x * A"
   ]
  },
  {
   "cell_type": "code",
   "execution_count": 80,
   "metadata": {},
   "outputs": [
    {
     "data": {
      "text/plain": [
       "array([[18, 27]])"
      ]
     },
     "execution_count": 80,
     "metadata": {},
     "output_type": "execute_result"
    }
   ],
   "source": [
    "# зато можем умножить вектор строчку на матрицу\n",
    "x.T @ A.T"
   ]
  },
  {
   "cell_type": "code",
   "execution_count": 89,
   "metadata": {
    "collapsed": true
   },
   "outputs": [],
   "source": [
    "# рассмотрим векторизацию\n",
    "def matrix_vector_prod(A, x):\n",
    "    res = []\n",
    "    m, n = A.shape\n",
    "    for i in range(m):\n",
    "        val = 0\n",
    "        for k in range(n):\n",
    "            val += A[i, k] * x[k]\n",
    "        res.append(val)\n",
    "    return res"
   ]
  },
  {
   "cell_type": "code",
   "execution_count": 90,
   "metadata": {},
   "outputs": [
    {
     "name": "stdout",
     "output_type": "stream",
     "text": [
      "CPU times: user 5.16 s, sys: 0 ns, total: 5.16 s\n",
      "Wall time: 5.16 s\n",
      "CPU times: user 26.8 ms, sys: 0 ns, total: 26.8 ms\n",
      "Wall time: 6.57 ms\n"
     ]
    }
   ],
   "source": [
    "A = np.random.rand(1000, 20000)\n",
    "x = np.random.rand(20000)\n",
    "\n",
    "%time z1 = matrix_vector_prod(A, x)\n",
    "%time z2 = A @ x"
   ]
  },
  {
   "cell_type": "markdown",
   "metadata": {},
   "source": [
    "### Умножение матрицы на матрицу\n",
    "\n",
    "Определение:\n",
    "\n",
    "$A ∈ R^{m×n}$, B ∈ $R^{n×p}$\n",
    "\n",
    "$C = AB ∈ R^{m×p}$\n",
    "\n",
    "$C_{ij} = \\sum_{k=1}^n A_{ik} B_{kj}$\n",
    "\n",
    "\n",
    "\n",
    "Интерпретация:\n",
    "\n",
    "1) На основе скалярного произведения. i,j элемент скалярное произведение i - строчки A, j - столбца B\n",
    "\n",
    "2) На основе сложения столбцов матрицы A - представим, что это p умножений столбцов матрицы B на матрицу A\n",
    "\n",
    "3) На основе сложения строчек матрицы B - представим, что это m умножений строчек матрицы A на матрицу B"
   ]
  },
  {
   "cell_type": "code",
   "execution_count": 92,
   "metadata": {
    "collapsed": true
   },
   "outputs": [],
   "source": [
    "# рассмотрим векторизацию\n",
    "def matrix_matrix_prod(A, B):\n",
    "    assert A.shape[1] == B.shape[0]\n",
    "    m, n = A.shape\n",
    "    _, p = B.shape\n",
    "    res = np.zeros((m, p))\n",
    "    \n",
    "    for i in range(m):\n",
    "        for j in range(p):\n",
    "            for k in range(n):\n",
    "                res[i, j] += A[i, k] * B[k, j]\n",
    "    return res"
   ]
  },
  {
   "cell_type": "code",
   "execution_count": 101,
   "metadata": {},
   "outputs": [
    {
     "name": "stdout",
     "output_type": "stream",
     "text": [
      "CPU times: user 3.42 s, sys: 0 ns, total: 3.42 s\n",
      "Wall time: 3.42 s\n",
      "CPU times: user 586 µs, sys: 0 ns, total: 586 µs\n",
      "Wall time: 324 µs\n"
     ]
    },
    {
     "data": {
      "text/plain": [
       "(True, False)"
      ]
     },
     "execution_count": 101,
     "metadata": {},
     "output_type": "execute_result"
    }
   ],
   "source": [
    "A = np.random.rand(100, 200)\n",
    "B = np.random.rand(200, 400)\n",
    "\n",
    "%time z1 = matrix_matrix_prod(A, B)\n",
    "%time z2 = A @ B\n",
    "np.allclose(z1, z2), np.array_equal(z1, z2)"
   ]
  },
  {
   "cell_type": "markdown",
   "metadata": {},
   "source": [
    "умножение матриц не коммутативно\n",
    "AB != BA"
   ]
  },
  {
   "cell_type": "code",
   "execution_count": 102,
   "metadata": {
    "collapsed": true
   },
   "outputs": [],
   "source": [
    "A = np.random.rand(2, 2)\n",
    "B = np.random.rand(2, 2)"
   ]
  },
  {
   "cell_type": "code",
   "execution_count": 103,
   "metadata": {},
   "outputs": [
    {
     "data": {
      "text/plain": [
       "array([[0.17962924, 0.59269211],\n",
       "       [0.24782304, 0.97571854]])"
      ]
     },
     "execution_count": 103,
     "metadata": {},
     "output_type": "execute_result"
    }
   ],
   "source": [
    "A"
   ]
  },
  {
   "cell_type": "code",
   "execution_count": 104,
   "metadata": {},
   "outputs": [
    {
     "data": {
      "text/plain": [
       "array([[0.72598632, 0.77496002],\n",
       "       [0.28077828, 0.74434024]])"
      ]
     },
     "execution_count": 104,
     "metadata": {},
     "output_type": "execute_result"
    }
   ],
   "source": [
    "B"
   ]
  },
  {
   "cell_type": "code",
   "execution_count": 105,
   "metadata": {},
   "outputs": [
    {
     "data": {
      "text/plain": [
       "array([[0.29682344, 0.58037007],\n",
       "       [0.45387671, 0.91831953]])"
      ]
     },
     "execution_count": 105,
     "metadata": {},
     "output_type": "execute_result"
    }
   ],
   "source": [
    "A @ B"
   ]
  },
  {
   "cell_type": "code",
   "execution_count": 106,
   "metadata": {},
   "outputs": [
    {
     "data": {
      "text/plain": [
       "array([[0.32246132, 1.18642922],\n",
       "       [0.23490065, 0.89268165]])"
      ]
     },
     "execution_count": 106,
     "metadata": {},
     "output_type": "execute_result"
    }
   ],
   "source": [
    "B @ A"
   ]
  },
  {
   "cell_type": "markdown",
   "metadata": {},
   "source": [
    "умножение ассоциативно\n",
    "(AB)C = A(BC)"
   ]
  },
  {
   "cell_type": "code",
   "execution_count": 111,
   "metadata": {},
   "outputs": [
    {
     "name": "stdout",
     "output_type": "stream",
     "text": [
      "[[0.92143052 0.4316591 ]\n",
      " [1.07611873 0.51268173]]\n",
      "\n",
      "[[0.92143052 0.4316591 ]\n",
      " [1.07611873 0.51268173]]\n"
     ]
    }
   ],
   "source": [
    "A = np.random.rand(2, 2)\n",
    "B = np.random.rand(2, 2)\n",
    "C = np.random.rand(2, 2)\n",
    "\n",
    "print((A @ B) @ C)\n",
    "print()\n",
    "print(A @ (B @ C))"
   ]
  },
  {
   "cell_type": "markdown",
   "metadata": {},
   "source": [
    "умножение дистрибутивно\n",
    "A(B + C) = AB + AC"
   ]
  },
  {
   "cell_type": "code",
   "execution_count": 114,
   "metadata": {},
   "outputs": [
    {
     "name": "stdout",
     "output_type": "stream",
     "text": [
      "[[1.58231025 0.86327805]\n",
      " [1.81252331 0.90896226]]\n",
      "\n",
      "[[1.58231025 0.86327805]\n",
      " [1.81252331 0.90896226]]\n"
     ]
    }
   ],
   "source": [
    "print(A @ ( B + C))\n",
    "print()\n",
    "print(A @ B + A @ C)"
   ]
  },
  {
   "cell_type": "markdown",
   "metadata": {},
   "source": [
    "### Важные матрицы:\n",
    "единичная матрица -- квадратная матрица у которой на диагонали стоият единицы"
   ]
  },
  {
   "cell_type": "code",
   "execution_count": 115,
   "metadata": {},
   "outputs": [
    {
     "data": {
      "text/plain": [
       "array([[1., 0., 0., 0., 0., 0., 0., 0., 0., 0.],\n",
       "       [0., 1., 0., 0., 0., 0., 0., 0., 0., 0.],\n",
       "       [0., 0., 1., 0., 0., 0., 0., 0., 0., 0.],\n",
       "       [0., 0., 0., 1., 0., 0., 0., 0., 0., 0.],\n",
       "       [0., 0., 0., 0., 1., 0., 0., 0., 0., 0.],\n",
       "       [0., 0., 0., 0., 0., 1., 0., 0., 0., 0.],\n",
       "       [0., 0., 0., 0., 0., 0., 1., 0., 0., 0.],\n",
       "       [0., 0., 0., 0., 0., 0., 0., 1., 0., 0.],\n",
       "       [0., 0., 0., 0., 0., 0., 0., 0., 1., 0.],\n",
       "       [0., 0., 0., 0., 0., 0., 0., 0., 0., 1.]])"
      ]
     },
     "execution_count": 115,
     "metadata": {},
     "output_type": "execute_result"
    }
   ],
   "source": [
    "np.eye(10)"
   ]
  },
  {
   "cell_type": "markdown",
   "metadata": {},
   "source": [
    "диагональная матрица - это матрица у которой ненулевые элементы стоят только на главное диагонали"
   ]
  },
  {
   "cell_type": "code",
   "execution_count": 119,
   "metadata": {},
   "outputs": [
    {
     "data": {
      "text/plain": [
       "array([[1, 0, 0],\n",
       "       [0, 2, 0],\n",
       "       [0, 0, 3]])"
      ]
     },
     "execution_count": 119,
     "metadata": {},
     "output_type": "execute_result"
    }
   ],
   "source": [
    "np.diag([1,2,3])"
   ]
  },
  {
   "cell_type": "markdown",
   "metadata": {},
   "source": [
    "транспонированная матрица - матрица полеченная из исходной заменой строчек на столбцы:\n",
    "\n",
    "$(A^T)_{ij} = A_{ji}$"
   ]
  },
  {
   "cell_type": "code",
   "execution_count": 121,
   "metadata": {},
   "outputs": [
    {
     "name": "stdout",
     "output_type": "stream",
     "text": [
      "[[0 1]\n",
      " [2 3]\n",
      " [4 5]\n",
      " [6 7]\n",
      " [8 9]]\n",
      "\n",
      "[[0 2 4 6 8]\n",
      " [1 3 5 7 9]]\n"
     ]
    }
   ],
   "source": [
    "A = np.arange(10).reshape(5, 2)\n",
    "print(A)\n",
    "print()\n",
    "print(A.T)"
   ]
  },
  {
   "cell_type": "markdown",
   "metadata": {},
   "source": [
    "Симметричная матрица:\n",
    "\n",
    "$A = A^T$\n",
    "\n",
    "Антисимметричная матрица:\n",
    "\n",
    "$A = −A^T$\n",
    "\n",
    "Любую матрице можно представить как сумма симметричной и антисимметричной:\n",
    "\n",
    "$A = 0.5 (A + A^T) + 0.5 (A - A^T)$"
   ]
  },
  {
   "cell_type": "markdown",
   "metadata": {},
   "source": [
    "### Свойства матриц"
   ]
  },
  {
   "cell_type": "markdown",
   "metadata": {},
   "source": [
    "ранг матрицы - максимальное число линейно независимых столбцов в матрице.\n",
    "\n",
    "набор вектора называются линейно независимыми - если никакой вектор из этого набора не может быть выражен как линейная комбинация остальных векторов"
   ]
  },
  {
   "cell_type": "code",
   "execution_count": 178,
   "metadata": {},
   "outputs": [
    {
     "data": {
      "text/plain": [
       "array([ True,  True,  True])"
      ]
     },
     "execution_count": 178,
     "metadata": {},
     "output_type": "execute_result"
    }
   ],
   "source": [
    "\n",
    "x = np.array([1,2,3])\n",
    "y = np.array([3,2,3])\n",
    "z = np.array([7, 6, 9])\n",
    "(x + 2*y) == z"
   ]
  },
  {
   "cell_type": "code",
   "execution_count": 181,
   "metadata": {},
   "outputs": [
    {
     "name": "stdout",
     "output_type": "stream",
     "text": [
      "10\n",
      "2\n"
     ]
    }
   ],
   "source": [
    "A = np.random.rand(10, 10)\n",
    "print(la.matrix_rank(A))\n",
    "print(la.matrix_rank(np.array([x,y,z])))"
   ]
  },
  {
   "cell_type": "markdown",
   "metadata": {},
   "source": [
    "след матрицы (trace) - сумма диагональных элементов"
   ]
  },
  {
   "cell_type": "code",
   "execution_count": 125,
   "metadata": {
    "collapsed": true
   },
   "outputs": [],
   "source": [
    "A = np.random.rand(2, 2)"
   ]
  },
  {
   "cell_type": "code",
   "execution_count": 126,
   "metadata": {},
   "outputs": [
    {
     "data": {
      "text/plain": [
       "array([[0.13423334, 0.00836608],\n",
       "       [0.35763931, 0.25447095]])"
      ]
     },
     "execution_count": 126,
     "metadata": {},
     "output_type": "execute_result"
    }
   ],
   "source": [
    "A"
   ]
  },
  {
   "cell_type": "code",
   "execution_count": 127,
   "metadata": {},
   "outputs": [
    {
     "data": {
      "text/plain": [
       "0.3887042846020753"
      ]
     },
     "execution_count": 127,
     "metadata": {},
     "output_type": "execute_result"
    }
   ],
   "source": [
    "A.trace()"
   ]
  },
  {
   "cell_type": "markdown",
   "metadata": {},
   "source": [
    "норма фробениуса: корень квадратный из сумма квадратов всех элементов матрицы"
   ]
  },
  {
   "cell_type": "code",
   "execution_count": 132,
   "metadata": {},
   "outputs": [
    {
     "data": {
      "text/plain": [
       "(0.45907507242876316, 0.45907507242876316, 0.45907507242876316)"
      ]
     },
     "execution_count": 132,
     "metadata": {},
     "output_type": "execute_result"
    }
   ],
   "source": [
    "la.norm(A), np.sqrt((A ** 2).sum()), np.sqrt(np.trace(A @ A.T))"
   ]
  },
  {
   "cell_type": "markdown",
   "metadata": {},
   "source": [
    "### Обратная матрица"
   ]
  },
  {
   "cell_type": "markdown",
   "metadata": {},
   "source": [
    "применимо только для квадратных матриц (для не квадратных матриц псевдо обратные матрицы)\n",
    "\n",
    "$A^{−1}A = I = AA^{−1}$\n",
    "\n",
    "Обратная матрица существует тогда и только тогда, когда ранк матрицы nxn равен n (или матрица полного ранга).\n",
    "\n",
    "Свойства:\n",
    "- обратная матрица единственна\n",
    "- $(A^{−1})^{−1}=A $\n",
    "- При умножение матрицы на вектор мы как-то меняем координаты вектора в пространстве. Обратная матрица возвращает исходный вектор\n",
    "- $(AB)^{−1} = B^{−1}A^{−1}$\n",
    "-  $(A^{−1}){T} = (A{T}){−1}$\n"
   ]
  },
  {
   "cell_type": "markdown",
   "metadata": {},
   "source": [
    "### Сложность вычисления обратной матрицы\n",
    "\n",
    "|Алгоритм|Сложность|\n",
    "|---|---|\n",
    "|Gauss–Jordan elimination|$O(n^3)$|\n",
    "|Strassen algorithm|$O(n^{2.807})$|\n",
    "|Coppersmith–Winograd algorithm|$O(n^{2.376})$|\n",
    "|Optimized CW-like algorithms|$O(n^{2.373})$|\n"
   ]
  },
  {
   "cell_type": "code",
   "execution_count": 135,
   "metadata": {},
   "outputs": [
    {
     "data": {
      "text/plain": [
       "array([[1., 2.],\n",
       "       [3., 1.]])"
      ]
     },
     "execution_count": 135,
     "metadata": {},
     "output_type": "execute_result"
    }
   ],
   "source": [
    "A = np.array([[1.,2], [3, 1]])\n",
    "A"
   ]
  },
  {
   "cell_type": "code",
   "execution_count": 168,
   "metadata": {},
   "outputs": [
    {
     "name": "stdout",
     "output_type": "stream",
     "text": [
      "[[-0.2  0.4]\n",
      " [ 0.6 -0.2]]\n",
      "\n",
      "[[1. 2.]\n",
      " [3. 1.]]\n"
     ]
    }
   ],
   "source": [
    "A_inv = la.inv(A) \n",
    "print(A_inv)\n",
    "print()\n",
    "print(la.inv(A_inv))"
   ]
  },
  {
   "cell_type": "code",
   "execution_count": 146,
   "metadata": {},
   "outputs": [
    {
     "name": "stdout",
     "output_type": "stream",
     "text": [
      "[[1. 0.]\n",
      " [0. 1.]]\n",
      "\n",
      "[[1. 0.]\n",
      " [0. 1.]]\n"
     ]
    }
   ],
   "source": [
    "print(A @ A_inv)\n",
    "print()\n",
    "print(A_inv @ A)"
   ]
  },
  {
   "cell_type": "code",
   "execution_count": 147,
   "metadata": {
    "collapsed": true
   },
   "outputs": [],
   "source": [
    "x = [1, 2]"
   ]
  },
  {
   "cell_type": "code",
   "execution_count": 143,
   "metadata": {},
   "outputs": [
    {
     "data": {
      "text/plain": [
       "array([5., 5.])"
      ]
     },
     "execution_count": 143,
     "metadata": {},
     "output_type": "execute_result"
    }
   ],
   "source": [
    "x2 = A.dot(x)\n",
    "x2"
   ]
  },
  {
   "cell_type": "code",
   "execution_count": 149,
   "metadata": {},
   "outputs": [
    {
     "data": {
      "text/plain": [
       "array([1., 2.])"
      ]
     },
     "execution_count": 149,
     "metadata": {},
     "output_type": "execute_result"
    }
   ],
   "source": [
    "A_inv.dot(x2)"
   ]
  },
  {
   "cell_type": "markdown",
   "metadata": {},
   "source": [
    "Вектора ортогональны, если их скалярное произведение равно нулю. Вектора нормализированны, если их l2 норма равна единице.\n",
    "\n",
    "ортогональные/ортонормальная матрица\n",
    "Матрица у которой столбцы нормализированы и  скалярное произведение разных столбцов равно нулю\n",
    "\n",
    "$U^TU = I = UU^T$\n",
    "\n",
    "$U^T=U^{-1}$ для квадратных матриц"
   ]
  },
  {
   "cell_type": "code",
   "execution_count": 157,
   "metadata": {},
   "outputs": [
    {
     "data": {
      "text/plain": [
       "array([[ 0.54030231, -0.84147098],\n",
       "       [ 0.84147098,  0.54030231]])"
      ]
     },
     "execution_count": 157,
     "metadata": {},
     "output_type": "execute_result"
    }
   ],
   "source": [
    "ang = 1\n",
    "U = np.array([[np.cos(ang), -np.sin(ang)], [np.sin(ang), np.cos(ang)]])\n",
    "U"
   ]
  },
  {
   "cell_type": "code",
   "execution_count": 159,
   "metadata": {},
   "outputs": [
    {
     "data": {
      "text/plain": [
       "(1.0, 1.0)"
      ]
     },
     "execution_count": 159,
     "metadata": {},
     "output_type": "execute_result"
    }
   ],
   "source": [
    "la.norm(U[:, 0]), la.norm(U[:, 1])"
   ]
  },
  {
   "cell_type": "code",
   "execution_count": 161,
   "metadata": {},
   "outputs": [
    {
     "name": "stdout",
     "output_type": "stream",
     "text": [
      "[[ 0.54030231 -0.84147098]\n",
      " [ 0.84147098  0.54030231]]\n",
      "\n",
      "[[ 0.54030231  0.84147098]\n",
      " [-0.84147098  0.54030231]]\n",
      "\n",
      "[[ 0.54030231  0.84147098]\n",
      " [-0.84147098  0.54030231]]\n"
     ]
    }
   ],
   "source": [
    "print(U)\n",
    "print()\n",
    "print(U.T)\n",
    "print()\n",
    "print(la.inv(U))"
   ]
  },
  {
   "cell_type": "markdown",
   "metadata": {},
   "source": [
    "### Определитель матрицы\n",
    "\n",
    "Определитель квадратной матрицы. Выразим через рекурсивную формулу\n",
    "\n",
    "$$ \\Delta = \\sum_{j=1}^{n}(-1)^{1+j}a_{1j} |A_{\\1\\j}| $$\n",
    "\n",
    "где $|A_{\\1\\j}|$ - дополнительный минор к элементу $a_{1j}$\n",
    "\n",
    "Дополнительный минор - определитель матрицы, полученной вычеркиванием первой строки и $j$ столбца\n",
    "\n",
    "\n",
    "Пример:\n",
    "\n",
    "Найдем определитель матрицы размером $3 \\times 3$:\n",
    "\n",
    "$A = \\begin{bmatrix}\n",
    "  1 & 2 & 3 \\\\\n",
    "  4 & 5 & 6 \\\\\n",
    "  7 & 8 & 0\n",
    "\\end{bmatrix}$\n",
    "\n",
    "Применяем формулу:\n",
    "\n",
    "$det(A) = 1 \\times \\left | \\begin{bmatrix} 5 & 6 \\\\ 8 & 0 \\end{bmatrix} \\right |\n",
    "     - 2 \\times \\left | \\begin{bmatrix} 4 & 6 \\\\ 7 & 0 \\end{bmatrix} \\right |\n",
    "     + 3 \\times \\left | \\begin{bmatrix} 4 & 5 \\\\ 7 & 8 \\end{bmatrix} \\right |$\n",
    "\n",
    "Расчитаем определители каждой из этих матриц размером $2 \\times 2$  (**дополнительные миноры**):\n",
    "\n",
    "$\\left | \\begin{bmatrix} 5 & 6 \\\\ 8 & 0 \\end{bmatrix} \\right | = 5 \\times 0 - 6 \\times 8 = -48$\n",
    "\n",
    "$\\left | \\begin{bmatrix} 4 & 6 \\\\ 7 & 0 \\end{bmatrix} \\right | = 4 \\times 0 - 6 \\times 7 = -42$\n",
    "\n",
    "$\\left | \\begin{bmatrix} 4 & 5 \\\\ 7 & 8 \\end{bmatrix} \\right | = 4 \\times 8 - 5 \\times 7 = -3$\n",
    "\n",
    "Подсчитаем результат:\n",
    "\n",
    "$det(A) = 1 \\times (-48) - 2 \\times (-42) + 3 \\times (-3) = 27$"
   ]
  },
  {
   "cell_type": "markdown",
   "metadata": {},
   "source": [
    "Определим присоединенную матрицу к матрице A:\n",
    "\n",
    "$adj(A)_{ij} = (−1)^{i+j} |A_{\\j,\\i}$|\n",
    "\n",
    "Тогда обратная матрица будет равна:\n",
    "$$A^{-1}=\\frac{1}{detA}adj(A)$$\n"
   ]
  },
  {
   "cell_type": "markdown",
   "metadata": {},
   "source": [
    "Свойства определителя:\n",
    "- $|A| = |A^T|$\n",
    "- $|AB| = |A||B|$ для квадратных AB\n",
    "- |A| = 0 тогда и только тогда, когда  A сингулярна (нет обратной матрицы).\n",
    "- $|A^{−1}| = 1/|A|$ (для обратимой матрицы A)"
   ]
  },
  {
   "cell_type": "code",
   "execution_count": 169,
   "metadata": {},
   "outputs": [
    {
     "data": {
      "text/plain": [
       "27.0"
      ]
     },
     "execution_count": 169,
     "metadata": {},
     "output_type": "execute_result"
    }
   ],
   "source": [
    "m = np.array([\n",
    "        [1, 2, 3],\n",
    "        [4, 5, 6],\n",
    "        [7, 8, 0]\n",
    "    ])\n",
    "la.det(m)"
   ]
  },
  {
   "cell_type": "markdown",
   "metadata": {},
   "source": [
    "### Сложность вычисления определителя матрицы\n",
    "\n",
    "|Алгоритм|Сложность|\n",
    "|---|---|\n",
    "|Laplace expansion|$O(n!)$|\n",
    "|Division-free algorithm|$O(n^4)$|\n",
    "|LU decomposition|$O(n^3)$|\n",
    "|Bareiss algorithm|$O(n^3)$|\n",
    "|Fast matrix multiplication|$O(n^{2.373})$|\n",
    "\n"
   ]
  },
  {
   "cell_type": "markdown",
   "metadata": {},
   "source": [
    "Вопрос:\n",
    "- Геометрическая интерпретация определителя?"
   ]
  },
  {
   "cell_type": "markdown",
   "metadata": {},
   "source": [
    "## Квадратичные формы и положительно полуопределенные матрицы"
   ]
  },
  {
   "cell_type": "markdown",
   "metadata": {},
   "source": [
    "#### Квадратичная форма для квадратной матрицы:\n",
    "$x^TAx= \\sum_{i=1}^{n}\\sum_{j=1}^{n} A_{ij}x_ix_j$\n",
    "\n",
    "$x^TAx = (x^TAx)^T = x^TA^Tx = x^T(0.5A + 0.5A^T)x$ -- в квадратичную форму вносит вклад только симметричная часть матрицы\n",
    "\n",
    "Вопос, почему возможен первый переход в равенстве выше?\n",
    "\n",
    "\n",
    "Симметричная матрица A:\n",
    "- положительно определена, если для любого ненулевого x, квадратичная форма больше нуля\n",
    "- положительно полуопределена, если для любого ненулевого x, квадратичная форма больше либо равна нулю\n",
    "- отрицательно определена, если для любого ненулевого x, квадратичная форма больше нуля\n",
    "- отрицательно полуопределена, если для любого ненулевого x, квадратичная форма меньше либо равно нулю\n",
    "- в остальных случаях матрица неопределена"
   ]
  },
  {
   "cell_type": "markdown",
   "metadata": {},
   "source": [
    "## Собственные числа и собственные векторы"
   ]
  },
  {
   "cell_type": "markdown",
   "metadata": {},
   "source": [
    "Ненулевой вектор $x$ в линейном пространстве $\\mathcal{L}$ называют **собственным вектором линейного оператора** $A: \\mathcal{L} \\to\\mathcal{L}$, если для некоторого действительного числа $\\lambda$ выполняется соотношение $Ax=\\lambda x$. При этом число $\\lambda$ называют **собственным значением (собственным числом)** оператора $A$."
   ]
  },
  {
   "cell_type": "markdown",
   "metadata": {},
   "source": [
    "Рассмотрим матрицу\n",
    "\n",
    "$$A= \\begin{bmatrix} -1 & -6 \\\\ 2 & 6 \\end{bmatrix} $$\n",
    "\n",
    "Умножим на матрицу\n",
    "\n",
    "$$\\begin{bmatrix} 2 \\\\ -1 \\end{bmatrix}$$\n",
    "\n",
    "$$\\begin{bmatrix} -1 & -6 \\\\ 2 & 6 \\end{bmatrix} \\times \\begin{bmatrix} 2 \\\\ -1 \\end{bmatrix} = \n",
    "\\begin{bmatrix} -1 \\cdot 2 + 6\\cdot 1  \\\\ 2 \\cdot 2 - 6 \\cdot 1 \\end{bmatrix} = \n",
    "\\begin{bmatrix} 4  \\\\ -2  \\end{bmatrix} = 2\\begin{bmatrix} 2  \\\\ -1  \\end{bmatrix}$$"
   ]
  },
  {
   "cell_type": "markdown",
   "metadata": {},
   "source": [
    "Смысл этих понятий следующий:\n",
    "\n",
    "Матрица является оператором, делающим преобразование в пространстве - поворот, сдвиг и пр. \n",
    "Для оператора мы вычисляем вектора и числа такие, что при применении к вектору оператора получаем масштабирование вектора."
   ]
  },
  {
   "cell_type": "markdown",
   "metadata": {},
   "source": [
    "Свойства:\n",
    "- След матрицы равен сумме собсвенных числел\n",
    "- Определитель равен произведению собственных чисел\n",
    "- Ранг матрицы (максимальное количество линейно независимых элементов) равен количеству ненулевых собственных чисел\n",
    "- Если матрица несингулярна, то собсвенные числа обратной матрицы равны 1 / $\\lambda$ \n",
    "- Собственные числа диагональной матрицы это диагональные элементы"
   ]
  },
  {
   "cell_type": "markdown",
   "metadata": {},
   "source": [
    "Вопрос:\n",
    "- чему равны равны собсвенные вектора диагональной матрицы?"
   ]
  },
  {
   "cell_type": "code",
   "execution_count": 172,
   "metadata": {},
   "outputs": [
    {
     "name": "stdout",
     "output_type": "stream",
     "text": [
      "(array([2., 3.]), array([[-0.89442719,  0.83205029],\n",
      "       [ 0.4472136 , -0.5547002 ]]))\n",
      "[ 0.89442719 -0.4472136 ]\n"
     ]
    }
   ],
   "source": [
    "m = np.array([-1, -6, 2, 6]).reshape(2, 2)\n",
    "print(la.eig(m))\n",
    "v = np.array([2, -1])\n",
    "print(v / la.norm(v))"
   ]
  },
  {
   "cell_type": "markdown",
   "metadata": {},
   "source": [
    "Мы можем расписать уравнение на поиск собсвенных значений как:\n",
    "AX = XΛ\n",
    "где X - матрица в которой столбцы это собсвенные вектора A, Λ -- диагональная матрица с собсвенными числами на диагонали\n",
    "\n",
    "Если собственные числа линейно независимы, то мы можем разложить матрицу следующим образом:\n",
    "\n",
    "$A = XΛX^{−1}$"
   ]
  },
  {
   "cell_type": "markdown",
   "metadata": {},
   "source": [
    "### Сингулярное разложение (SVD -- singular value decomposition)"
   ]
  },
  {
   "cell_type": "markdown",
   "metadata": {
    "collapsed": true
   },
   "source": [
    "Любая матрица $m \\times n$ matrix $A$ может быть разложена на матричное произведение 3 матриц:\n",
    "* матрица поворота $U$ ($m \\times m$ ортогональная матрица)\n",
    "* диагональная матрица с неотрицательными элементами (scaling & projecting matrix) $\\Sigma$ ($m \\times n$)\n",
    "* матрица поворота $V^T$ ($n \\times n$ ортогональная матрица)\n",
    "\n",
    "$A = U \\cdot \\Sigma \\cdot V^{T}$\n",
    "\n",
    "Таким образом мы раскладываем преобразование данной матрицы на 3 компоненты:\n",
    "- поворот\n",
    "- масштабирование \n",
    "- еще один поворот"
   ]
  },
  {
   "cell_type": "code",
   "execution_count": 193,
   "metadata": {},
   "outputs": [
    {
     "data": {
      "text/plain": [
       "array([[ 0.89442719, -0.4472136 ],\n",
       "       [ 0.4472136 ,  0.89442719]])"
      ]
     },
     "execution_count": 193,
     "metadata": {},
     "output_type": "execute_result"
    }
   ],
   "source": [
    "A = np.array([\n",
    "    [1, 1.5],\n",
    "    [0, 1]\n",
    "])\n",
    "U, S_diag, V_T = la.svd(A)\n",
    "U"
   ]
  },
  {
   "cell_type": "code",
   "execution_count": 194,
   "metadata": {},
   "outputs": [
    {
     "data": {
      "text/plain": [
       "array([2. , 0.5])"
      ]
     },
     "execution_count": 194,
     "metadata": {},
     "output_type": "execute_result"
    }
   ],
   "source": [
    "S_diag"
   ]
  },
  {
   "cell_type": "code",
   "execution_count": 195,
   "metadata": {},
   "outputs": [
    {
     "data": {
      "text/plain": [
       "array([[ 0.4472136 ,  0.89442719],\n",
       "       [-0.89442719,  0.4472136 ]])"
      ]
     },
     "execution_count": 195,
     "metadata": {},
     "output_type": "execute_result"
    }
   ],
   "source": [
    "V_T"
   ]
  },
  {
   "cell_type": "markdown",
   "metadata": {},
   "source": [
    "## Производная"
   ]
  },
  {
   "cell_type": "markdown",
   "metadata": {},
   "source": [
    "Точку $b \\in \\mathbb R$ называют пределом функции $f(x)$ в точке $a \\in \\mathbb R$, если, каково бы ни было положительное число $\\epsilon$, найдется положительное число $\\delta$, такое, что для всех точек проколотой $\\delta$-окрестности точки $a$ значения функции принадлежат $\\epsilon$-окрестности точки $b$"
   ]
  },
  {
   "cell_type": "markdown",
   "metadata": {},
   "source": [
    "<img src=\"limit.png\" width=250>"
   ]
  },
  {
   "cell_type": "markdown",
   "metadata": {},
   "source": [
    "Для произвольной функции $y=f(x)$ с отношение приращений называется **разностным отношением**\n",
    "\n",
    "$$ \\frac{\\Delta y}{\\Delta x} = \\frac{\\Delta f(a)}{\\Delta x}=\\frac{f(a+\\Delta x) - f(a)}{\\Delta x} = \\varphi (\\Delta x)$$"
   ]
  },
  {
   "cell_type": "markdown",
   "metadata": {},
   "source": [
    "Пусть функция $y=f(X)$ определена в точке $x=a$ и некоторой её окрестности.\n",
    "\n",
    "**Производной** $f'(a)$ **функции** $f(x)$ в фиксированной точке $x=a$ называют предел при $\\Delta x \\rightarrow 0$ разностного отношения (при условии, что этот предел существует), т.е.\n",
    "\n",
    "$$ f'(x) = \\lim_{\\Delta x \\rightarrow 0} \\frac{\\Delta f(a)}{\\Delta x}=\\lim_{\\Delta x \\rightarrow 0} \\frac{f(a+\\Delta x) - f(a)}{\\Delta x}$$"
   ]
  },
  {
   "cell_type": "markdown",
   "metadata": {},
   "source": [
    "Пусть функции $u(x)$ и $v(x)$ дифференцируемы в точке $x$. Тогда в этой точке дифференцируемы их сумма (разность), произведение и частное (последнее при условии $v(x) \\neq 0$), причем (опуская в обозначениях аргумент $x$) справедливы равенства:\n",
    "\n",
    "\n",
    "1. $(u+v)'=u'+v'$\n",
    "1. $(uv)'=u'v+uv'$\n",
    "1. $(\\frac{u}{v})'=\\frac{u'v-uv'}{v^2}$"
   ]
  },
  {
   "cell_type": "markdown",
   "metadata": {},
   "source": [
    "Производная сложной функции $F(x) = y(u(x))$ по независимому переменному $x$ равна произведению производной функции  $y(u)$ по промежуточному аргементу $u$ и промежуточного аргумента $u(x)$ по $x$, т.е. \n",
    "\n",
    "$$F'(x) = y'_u\\rvert _{u=u(x)}u'(x)$$"
   ]
  },
  {
   "cell_type": "markdown",
   "metadata": {},
   "source": [
    "Основные правила дифференцирования\n",
    "\n",
    "1. $y=Cu\\quad (C=const) \\hspace{50pt} y'=Cu'$\n",
    "1. $y=u\\pm v  \\hspace{93pt} y'=u'\\pm v'$\n",
    "1. $y=uv \\hspace{103pt} y'=u'v+uv'$\n",
    "1. $y=\\frac{u}{v}\\quad (v\\neq 0) \\hspace{69pt} y'=\\frac{u'v-uv'}{v^2}$\n",
    "1. $y=f(u),\\quad u=u(x)\\hspace{52pt} y'_x=f'_uu'$\n",
    "1. $y=f(x),\\quad x=f^{-1}(y) \\hspace{45pt} x'_y=\\frac{1}{y'_x} \\quad (y'_x \\neq 0)$\n",
    "1. $y= \\begin{cases} y=y(t), \\\\ x=x(t) \\end{cases} \\hspace{65pt} \\begin{cases} y'_x=\\frac{y'_t}{x'_t} & (x'_t \\neq 0) \\\\ x=x(t) \\end{cases}$"
   ]
  },
  {
   "cell_type": "markdown",
   "metadata": {},
   "source": [
    "**Производные элементарных функций**\n",
    "\n",
    "1. $(C)'=0 \\quad (C=const)$\n",
    "2. $(u^s)' = su^{s-1}\\cdot u'$  \n",
    "при $s=1/2 \\quad (\\sqrt{u})'=\\frac{1}{2\\sqrt{u}}\\cdot u'$  \n",
    "при $s=-1 \\quad (\\frac{1}{u})'=-\\frac{1}{u^2}\\cdot u'$\n",
    "3. $(a^u)'=a^ulna\\cdot u' \\quad (a>0, a\\neq1),$  \n",
    "$(e^u)'=e^u\\cdot u'$\n",
    "4. $(\\log_au)'=\\frac{1}{u\\ln a}\\cdot u' \\quad (a>0, a \\neq 1)$  \n",
    "$(\\ln u)'=\\frac{1}{u}\\cdot u'$\n",
    "5. $(\\sin u)'=\\cos u \\cdot u'$\n",
    "6. $(\\cos u)'=-\\sin u \\cdot u'$\n",
    "7. $(tg u)'=\\frac{1}{\\cos^2u} \\cdot u'$\n",
    "8. $(ctg u)'=-\\frac{1}{\\sin^2u} \\cdot u'$\n",
    "9. $(\\arcsin u)'=\\frac{1}{\\sqrt{1-u^2}} \\cdot u'$\n",
    "10. $(\\arccos u)'=-\\frac{1}{\\sqrt{1-u^2}} \\cdot u'$\n",
    "11. $(arctg u)'=\\frac{1}{1+u^2} \\cdot u'$\n",
    "12. $(arcctg u)'=-\\frac{1}{1+u^2} \\cdot u'$\n",
    "13. $(sh u)'=ch u \\cdot u'$\n",
    "14. $(ch u)'=sh u \\cdot u'$\n",
    "15. $(th u)'=\\frac{1}{ch^2 u} \\cdot u'$\n",
    "16. $(cth u)'=-\\frac{1}{sh^2 u} \\cdot u'$"
   ]
  },
  {
   "cell_type": "markdown",
   "metadata": {},
   "source": [
    "Вопросы:\n",
    "- Как в математике используют производные?"
   ]
  },
  {
   "cell_type": "markdown",
   "metadata": {},
   "source": [
    "## Неопределенный интеграл\n",
    "\n",
    "функцию $F(x)$ называют первообразной функции $f(x)$ в промежутке $X$, если $F(x)$ дифференцируема в этом промежутке и для любого $x \\in X$ значение производной $F'(x)$ совпадает со значением функции $f(x)$.\n",
    "\n",
    "Множество всех первообразных функции $f(x)$ в некотором промежутке называют неопределенным интегралом от этой функции в данном промежутке и обозначают $\\int f(x)dx$. При этом символ $\\int$ именуют знаком интеграла, $f(x)$ - подынтегральной функцией, $f(x)dx$ - подынтегральным выражением, а $x$ - переменным интегрирования.\n",
    "\n",
    "$$\\int f(x)dx=F(x) + C$$\n",
    "\n",
    "**Свойства**\n",
    "\n",
    "1. $$\\left(\\int{f(x)dx}\\right)' = (F(x)+C)' = f(x)$$\n",
    "2. $$\\int{F'(x)dx} = F(x)+C$$\n",
    "3. Если $\\lambda \\in \\mathbb R \\backslash \\{0\\}$, то\n",
    "$$\\int \\lambda f(x)dx=\\lambda \\int f(x)dx$$\n",
    "4. $$\\int (\\lambda_1 f_1(x)+\\lambda_2 f_2(x))dx=\\lambda_1 \\int f_1(x)dx + \\lambda_2 \\int f_2(x)dx$$\n",
    "\n",
    "\n"
   ]
  },
  {
   "cell_type": "markdown",
   "metadata": {},
   "source": [
    "**Основные неопределенные интегралы**\n",
    "\n",
    "1. $\\int u^sdu=\\frac{u^{s+1}}{s+1} \\quad s \\neq -1$\n",
    "2. $\\int \\frac{du}{u}=ln|u|+C$\n",
    "3. $\\int a^udu=\\frac{a^u}{\\ln a}+C, a > 0, a \\neq 1$\n",
    "4. $\\int e^u du = e^u+C$\n",
    "5. $ \\int \\sin u du = -\\cos u + C$\n",
    "6. $\\int \\cos udu = \\sin u + C$\n",
    "7. $\\int \\frac{du}{\\cos^2u}=tg u + C$\n",
    "8. $\\int \\frac{du}{\\sin^2u}=-ctgu + C$\n",
    "9. $\\int shudu=chu+c$\n",
    "10. $\\int ch udu=shu+C$\n",
    "11. $\\int \\frac{du}{ch^2u}=thu+C$\n",
    "12. $\\int \\frac{du}{sh^2u}=-cthu+C$\n",
    "13. $\\int \\frac{du}{u^2+a^2}=\\frac{1}{a}arctg \\frac{u}{a}+C=-\\frac{1}{a}arcctg \\frac{u}{a}+C_1, a \\neq 0$\n",
    "14. $\\int \\frac{du}{u^2-a^2}=\\frac{1}{2a}\\ln |\\frac{u-a}{u+a}|+C$\n",
    "15. $\\int \\frac{du}{\\sqrt{a^2-u^2}}=arcsin \\frac{u}{a}+C=-arccos \\frac{u}{a}+C_1, a \\neq 0$\n",
    "16. $\\int \\frac{du}{\\sqrt{u^2+A}}=\\ln|{u+\\sqrt{u^2+A}}| + C$"
   ]
  },
  {
   "cell_type": "markdown",
   "metadata": {},
   "source": [
    "# Определенный интеграл"
   ]
  },
  {
   "cell_type": "markdown",
   "metadata": {},
   "source": [
    "### Функция одной переменной\n",
    "площадь под кривой\n",
    "$I = \\sum_{i=0}^n f(x_{i}) \\Delta x_{i}$  \n",
    "\n",
    "$\\Delta x_{i}$ -> 0\n",
    "<img src=\"integral.png\" width=500>\n",
    "\n",
    "### Функция двух переменных\n",
    "объем под поверхностью\n",
    "<img src=\"integral2.png\" width=500>"
   ]
  },
  {
   "cell_type": "markdown",
   "metadata": {},
   "source": [
    "# Градиент\n",
    "обощение производной\n",
    "## Градиент относительно вектора\n",
    "Пусть функция f выглядит следующим образом (переводит вектор в скаляр):\n",
    "\n",
    "$f : R^{n} → R$\n",
    "\n",
    "Например: $f(x) = x_1^2 + 3*x_2^3$\n",
    "\n",
    "\n",
    "$ \\nabla_x f(x) = \\begin{bmatrix} \\frac{\\delta f(x)}{\\delta x_1} \\\\ ...\\\\ \\frac{\\delta f(x)}{\\delta x_n} \\end{bmatrix}$\n",
    "\n",
    "$ \\nabla_x f(x) = \\begin{bmatrix} 2x_1 \\\\ 9x_2^2 \\end{bmatrix}$\n",
    "\n",
    "## Градиент относительно матрицы\n",
    "$f : R^{m x n} → R$\n",
    "\n",
    "$ \\nabla_A f(A) = \\begin{bmatrix} \\frac{\\delta f(A)}{\\delta A_{11}} & ...& \\frac{\\delta f(A)}{\\delta A_{1n}}  \\\\ &...&\\\\ \\frac{\\delta f(A)}{\\delta A_{m1}} & ... &  \\frac{\\delta f(A)}{\\delta A_{mn}}\\end{bmatrix}$"
   ]
  },
  {
   "cell_type": "markdown",
   "metadata": {},
   "source": [
    "# Гессиан \n",
    "матрица вторых производных\n",
    "$ \\nabla_x^2 f(x) = \\begin{bmatrix} \\frac{\\delta^2 f(x)}{\\delta x_1^2} & \\frac{\\delta^2 f(x)}{\\delta x_1 \\delta x_2}& ...\n",
    " \\frac{\\delta^2 f(x)}{\\delta x_1 \\delta x_n}  \\\\ &...&\\\\ \\frac{\\delta^2 f(x)}{\\delta x_n^2} & \\frac{\\delta^2 f(x)}{\\delta x_n \\delta x_2}& ...\n",
    " \\frac{\\delta^2 f(x)}{\\delta x_n^2}\\end{bmatrix}$\n",
    " \n",
    " пример:\n",
    " \n",
    "$f(x) = x_1^2 + 3*x_2^3 + 10x_1 x_2$\n",
    "\n",
    "$ \\nabla_x^2 f(x) = \\begin{bmatrix} 2 & 10 \\\\ 10 & 18x_2\\end{bmatrix}$\n",
    "\n",
    "\n",
    "Гессиан всегда симметричен"
   ]
  }
 ],
 "metadata": {
  "kernelspec": {
   "display_name": "Python [conda env:otus-ds]",
   "language": "python",
   "name": "conda-env-otus-ds-py"
  },
  "language_info": {
   "codemirror_mode": {
    "name": "ipython",
    "version": 3
   },
   "file_extension": ".py",
   "mimetype": "text/x-python",
   "name": "python",
   "nbconvert_exporter": "python",
   "pygments_lexer": "ipython3",
   "version": "3.6.5"
  }
 },
 "nbformat": 4,
 "nbformat_minor": 1
}
