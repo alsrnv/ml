{
 "cells": [
  {
   "cell_type": "code",
   "execution_count": 1,
   "metadata": {},
   "outputs": [],
   "source": [
    "import configparser\n",
    "from vkstatsbot.vk_api import VKApiConnector\n",
    "import pickle\n",
    "import pandas as pd\n",
    "\n",
    "#reading config\n",
    "config = configparser.ConfigParser()\n",
    "config.read('vkstatsbot/vkstat.cfg')\n",
    "vk_api_v = config.get('VKApi', \"v\")\n",
    "vk_api_token = config.get('VKApi', 'token')\n",
    "client_id = config.get('VKApi', 'client_id')\n",
    "\n",
    "VKApiConnector.config(vk_api_v, client_id, vk_api_token)"
   ]
  },
  {
   "cell_type": "code",
   "execution_count": null,
   "metadata": {},
   "outputs": [],
   "source": [
    "https://oauth.vk.com/authorize?client_id=6933695&display=page&redirect_uri=https://oauth.vk.com/blank.html&scope=offline,wall,friends&response_type=token&v=5.52"
   ]
  },
  {
   "cell_type": "code",
   "execution_count": null,
   "metadata": {},
   "outputs": [],
   "source": [
    "https://oauth.vk.com/blank.html#\n",
    "    access_token=c2c771bc01618a6cc828785aee9c97d976664c116b64041318cd922961e6df6038fbf3aa67b900f3372fd&expires_in=0&user_id=3377490"
   ]
  },
  {
   "cell_type": "markdown",
   "metadata": {},
   "source": [
    "Соберем посты пользователей и их основную информацию <br> \n",
    "Ограничимся глубиной равной 1 - возьмем только друзей моих друзей"
   ]
  },
  {
   "cell_type": "code",
   "execution_count": null,
   "metadata": {},
   "outputs": [],
   "source": [
    "# PERSON_LIST = []\n",
    "# my_friend_list = VKApiConnector.get_user_friends_list(3377490)['items']\n",
    "# PERSON_LIST.append(my_friend_list)\n",
    "# for person in my_friend_list:\n",
    "#     fr_list = VKApiConnector.get_user_friends_list(person)\n",
    "#     if fr_list:\n",
    "#         fr_list = fr_list['items']\n",
    "#         PERSON_LIST.append(fr_list)\n",
    "#     else:\n",
    "#         continue    "
   ]
  },
  {
   "cell_type": "code",
   "execution_count": null,
   "metadata": {},
   "outputs": [],
   "source": [
    "# PERSON_LIST_UNIQUE = [i for lst in PERSON_LIST for i in lst]\n",
    "# PERSON_LIST_UNIQUE = list(set(PERSON_LIST_UNIQUE))\n",
    "# print('cnt users', len(PERSON_LIST_UNIQUE))\n",
    "\n",
    "# with open('data/PERSON_LIST_UNIQUE.pickle', 'wb') as handle:\n",
    "#     pickle.dump(PERSON_LIST_UNIQUE, handle, protocol=pickle.HIGHEST_PROTOCOL)\n",
    "\n",
    "with open('data/PERSON_LIST_UNIQUE.pickle', 'rb') as handle:\n",
    "    PERSON_LIST_UNIQUE = pickle.load(handle)"
   ]
  },
  {
   "cell_type": "markdown",
   "metadata": {},
   "source": [
    "Теперь для каждого пользователя выгрузим следующую информацию: name, surname, sex, posts. <br>\n",
    "Попробуем найти зависимость между постами и полом человека"
   ]
  },
  {
   "cell_type": "code",
   "execution_count": null,
   "metadata": {},
   "outputs": [],
   "source": [
    "VKApiConnector.get_user_info('20804, 34129, 410244251')"
   ]
  },
  {
   "cell_type": "code",
   "execution_count": null,
   "metadata": {},
   "outputs": [],
   "source": [
    "# main_df = pd.DataFrame()\n",
    "# def divide_chunks(l, n):       \n",
    "#     # looping till length l \n",
    "#     for i in range(0, len(l), n):  \n",
    "#         yield l[i:i + n]\n",
    "# persons_chunks = list(divide_chunks(PERSON_LIST_UNIQUE, 999))\n",
    "\n",
    "# for chunk in persons_chunks:\n",
    "#     owners = ','.join(map(str,chunk))\n",
    "#     owners_info = VKApiConnector.get_user_info(owners)\n",
    "#     for person in owners_info:\n",
    "#         if 'deactivated' in person.keys():\n",
    "#             continue\n",
    "#         if person['sex'] == 0:\n",
    "#             continue\n",
    "#         main_df = pd.concat([main_df, pd.DataFrame({'vk_id':[person['id']],\n",
    "#                                                     'first_name':[person['first_name']],\n",
    "#                                                     'last_name':[person['last_name']],\n",
    "#                                                     'sex':[person['sex']]                                                   \n",
    "#                                                    })])\n",
    "# with open('data/main_df.pickle', 'wb') as handle:\n",
    "#     pickle.dump(main_df, handle, protocol=pickle.HIGHEST_PROTOCOL)\n",
    "    \n",
    "with open('data/main_df.pickle', 'rb') as handle:\n",
    "    main_df = pickle.load(handle)\n",
    "          "
   ]
  },
  {
   "cell_type": "code",
   "execution_count": null,
   "metadata": {},
   "outputs": [],
   "source": [
    "main_df.head()"
   ]
  },
  {
   "cell_type": "code",
   "execution_count": null,
   "metadata": {},
   "outputs": [],
   "source": [
    "N = main_df.shape[0]\n",
    "N"
   ]
  },
  {
   "cell_type": "code",
   "execution_count": null,
   "metadata": {},
   "outputs": [],
   "source": [
    "cnt = 0\n",
    "user_post_df = pd.DataFrame()\n",
    "\n",
    "for user_id in main_df['vk_id'].unique()[:200]:\n",
    "    cnt +=1\n",
    "    if cnt%100 == 0:\n",
    "        print('Processing', cnt)\n",
    "    response_wall = VKApiConnector.get_wall(user_id)\n",
    "    if response_wall:\n",
    "        print(user_id)\n",
    "        count = response_wall['count']\n",
    "        posts = response_wall['items']\n",
    "        all_text = ''\n",
    "        for item in posts:\n",
    "            all_text += ' '+item['text']\n",
    "        user_post_df = pd.concat([user_post_df, pd.DataFrame({'vk_id': [user_id],\n",
    "                                                              'post_count': [count],\n",
    "                                                              'post_text': [all_text]\n",
    "                                                             })])\n"
   ]
  },
  {
   "cell_type": "code",
   "execution_count": null,
   "metadata": {},
   "outputs": [],
   "source": [
    "main_df['vk_id'].unique()[:200]"
   ]
  },
  {
   "cell_type": "code",
   "execution_count": 6,
   "metadata": {},
   "outputs": [
    {
     "name": "stdout",
     "output_type": "stream",
     "text": [
      "<Response [200]>\n"
     ]
    }
   ],
   "source": [
    "#1835557\n",
    "response = VKApiConnector.get_wall(1835557)"
   ]
  },
  {
   "cell_type": "code",
   "execution_count": 7,
   "metadata": {},
   "outputs": [
    {
     "data": {
      "text/plain": [
       "{'error': {'error_code': 6,\n",
       "  'error_msg': 'Too many requests per second',\n",
       "  'request_params': [{'key': 'oauth', 'value': '1'},\n",
       "   {'key': 'method', 'value': 'wall.get'},\n",
       "   {'key': 'v', 'value': '5.68'},\n",
       "   {'key': 'client_id', 'value': '6931114'},\n",
       "   {'key': 'owner_id', 'value': '1835557'},\n",
       "   {'key': 'count', 'value': '100'},\n",
       "   {'key': 'filter', 'value': 'owner'}]}}"
      ]
     },
     "execution_count": 7,
     "metadata": {},
     "output_type": "execute_result"
    }
   ],
   "source": [
    "response.json()"
   ]
  },
  {
   "cell_type": "code",
   "execution_count": null,
   "metadata": {},
   "outputs": [],
   "source": [
    "with open('data/user_post_df.pickle', 'wb') as handle:\n",
    "    pickle.dump(user_post_df, handle, protocol=pickle.HIGHEST_PROTOCOL)"
   ]
  },
  {
   "cell_type": "code",
   "execution_count": null,
   "metadata": {},
   "outputs": [],
   "source": []
  }
 ],
 "metadata": {
  "kernelspec": {
   "display_name": "Python 3",
   "language": "python",
   "name": "python3"
  },
  "language_info": {
   "codemirror_mode": {
    "name": "ipython",
    "version": 3
   },
   "file_extension": ".py",
   "mimetype": "text/x-python",
   "name": "python",
   "nbconvert_exporter": "python",
   "pygments_lexer": "ipython3",
   "version": "3.7.1"
  }
 },
 "nbformat": 4,
 "nbformat_minor": 2
}
