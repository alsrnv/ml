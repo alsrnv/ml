{
 "cells": [
  {
   "cell_type": "markdown",
   "metadata": {
    "collapsed": true
   },
   "source": [
    "<img src=\"pics/otus.png\">"
   ]
  },
  {
   "cell_type": "code",
   "execution_count": 11,
   "metadata": {},
   "outputs": [],
   "source": [
    "import numpy as np\n",
    "import matplotlib\n",
    "import matplotlib.pyplot as plt\n",
    "import pandas as pd\n",
    "from sklearn import datasets\n",
    "from sklearn.preprocessing import StandardScaler\n",
    "from sklearn.linear_model import LinearRegression\n",
    "from pandas.tools.plotting import table\n",
    "from sklearn import datasets\n",
    "\n",
    "%matplotlib inline\n",
    "plt.rcParams[\"figure.figsize\"] = [12, 8]\n",
    "\n",
    "np.random.seed(42)\n"
   ]
  },
  {
   "cell_type": "markdown",
   "metadata": {},
   "source": [
    "# Логистическая регрессия"
   ]
  },
  {
   "cell_type": "markdown",
   "metadata": {},
   "source": [
    "## Как принимается решение\n",
    "\n",
    "Простой вариант - узнать, с какой стороны от гиперплоскости находится точка\n",
    "\n",
    "$$\\hat{y} = sign(x\\theta)$$\n",
    "\n",
    "Уравнение прямой\n",
    "      $$Ax+By+C=0$$\n",
    "\n",
    "Расстояние от точки $(x0, y0)$ до прямой $Ax+By+C=0$ это $$\\frac{|Ax0 + By0 + C|}{\\sqrt{(A^2 + B^2)}}$$"
   ]
  },
  {
   "cell_type": "markdown",
   "metadata": {},
   "source": [
    "## Упражнение 1"
   ]
  },
  {
   "cell_type": "code",
   "execution_count": 7,
   "metadata": {},
   "outputs": [
    {
     "name": "stdout",
     "output_type": "stream",
     "text": [
      "(10, 3)\n",
      "(10,)\n"
     ]
    }
   ],
   "source": [
    "w = np.array([7, -1, 1]) # Ax + By + C = 0\n",
    "     \n",
    "# Замечание: расстояние от точки (x0, y0) до прямой Ax + By + C это abs(Ax0 + By0 + C) / sqrt(A^2 + B^2)\n",
    "    \n",
    "def predict(x, w):\n",
    "    \n",
    "    # todo: your code here       \n",
    "    return np.sign(x.dot(w))\n",
    "\n",
    "x_pred = np.hstack([np.random.rand(10, 2) * 4 - 2, np.ones(10).reshape(-1, 1)])\n",
    "y_pred = predict(x_pred, w)\n",
    "\n",
    "print (x_pred.shape)\n",
    "print (y_pred.shape)"
   ]
  },
  {
   "cell_type": "code",
   "execution_count": 12,
   "metadata": {},
   "outputs": [
    {
     "data": {
      "image/png": "[encoded data removed]",
      "text/plain": [
       "<Figure size 864x576 with 1 Axes>"
      ]
     },
     "metadata": {
      "needs_background": "light"
     },
     "output_type": "display_data"
    }
   ],
   "source": [
    "x_naive = np.arange(-0.5, 0.5, 0.1)\n",
    "y_naive = 7 * x_naive + 1\n",
    "\n",
    "plt.scatter(x_pred[:, 0], x_pred[:, 1], c=['yellow' if y_i > 0 else 'green' for y_i in y_pred])\n",
    "plt.title(\"Classification problem \\n What is the color for the new (x1, x2) pair?\")\n",
    "plt.xlabel(\"x1 (feature)\")\n",
    "plt.ylabel(\"x2 (feature)\")\n",
    "plt.plot(x_naive, y_naive, c='red', label='descision boundary naive')\n",
    "plt.legend()\n",
    "plt.savefig('pics/classification_random_line.pdf')"
   ]
  },
  {
   "cell_type": "markdown",
   "metadata": {},
   "source": [
    "# Градиентный спуск\n",
    "\n"
   ]
  },
  {
   "cell_type": "markdown",
   "metadata": {},
   "source": [
    "Посчитаем, чему равен градиент функции потерь $RSS(\\theta)$\n",
    "\n",
    "$$ RSS = \\mathcal{L}(\\theta) = (\\hat{y} - y)^2 $$\n",
    "\n",
    "$$ \\frac{\\partial L}{\\partial \\theta_i} = 2(\\hat{y} - y)\\frac{\\partial L}{\\partial \\theta_i}(\\hat{y} - y) = 2(\\hat{y} - y)\\frac{\\partial L}{\\partial \\theta_i}(\\theta_0x_0 + ... + \\theta_1x_1 - y) = 2(\\hat{y} - y)\\cdot x_i$$\n",
    "\n",
    "$$ \\theta_i:= \\theta_i - \\alpha(\\hat{y} - y)\\cdot x_i$$\n",
    "\n",
    "Или:\n",
    "$$ \\frac{\\partial RSS(\\theta)}{\\partial \\theta_i} = 2\\sum_{i=1}^{n}(\\theta^T\\cdot x_i - y_i)x_i$$\n",
    "\n",
    "$$\\nabla_\\theta RSS(\\theta) = \\left( \\begin{matrix} \\frac{\\partial L}{\\partial \\theta_0} \\\\ \\frac{\\partial L}{\\partial \\theta_1} \\\\ ... \\\\ \\frac{\\partial L}{\\partial \\theta_p} \\end{matrix} \\right) = x^\\top(x\\theta - y)$$\n",
    "\n",
    "\n",
    "Для MSE:\n",
    "$$ \\frac{\\partial L}{\\partial \\theta} = \\frac{1}{n} X^\\top(X\\theta - y)$$"
   ]
  },
  {
   "cell_type": "code",
   "execution_count": 14,
   "metadata": {},
   "outputs": [],
   "source": [
    "np.random.seed(42)\n",
    "X = 2 * np.random.rand(100, 1)\n",
    "y = 4 + 3 * X + np.random.randn(100, 1)"
   ]
  },
  {
   "cell_type": "code",
   "execution_count": 15,
   "metadata": {},
   "outputs": [
    {
     "data": {
      "text/plain": [
       "(array([4.21509616]), array([[2.77011339]]))"
      ]
     },
     "execution_count": 15,
     "metadata": {},
     "output_type": "execute_result"
    }
   ],
   "source": [
    "lin_reg = LinearRegression()\n",
    "lin_reg.fit(X, y)\n",
    "lin_reg.intercept_, lin_reg.coef_"
   ]
  },
  {
   "cell_type": "code",
   "execution_count": 16,
   "metadata": {},
   "outputs": [],
   "source": [
    "theta_best = np.vstack([lin_reg.intercept_, lin_reg.coef_.ravel()])"
   ]
  },
  {
   "cell_type": "code",
   "execution_count": 17,
   "metadata": {},
   "outputs": [
    {
     "data": {
      "text/plain": [
       "array([[4.21509616],\n",
       "       [9.75532293]])"
      ]
     },
     "execution_count": 17,
     "metadata": {},
     "output_type": "execute_result"
    }
   ],
   "source": [
    "X_new = np.array([[0], [2]])\n",
    "X_new_b = np.c_[np.ones((2, 1)), X_new]  # add x0 = 1 to each instance\n",
    "y_predict = X_new_b.dot(theta_best)\n",
    "y_predict"
   ]
  },
  {
   "cell_type": "markdown",
   "metadata": {},
   "source": [
    "## Псевдокод алгоритма\n",
    "\n",
    "```{python}\n",
    "1.function gd(X, alpha, epsilon):\n",
    "2.    initialise theta \n",
    "3.    do: \n",
    "4.        theta = new_theta\n",
    "5.        new_theta = theta - alpha * grad(X, theta)\n",
    "6.    until dist(new_theta, theta) < epsilon\n",
    "7.    return theta\n",
    "```"
   ]
  },
  {
   "cell_type": "markdown",
   "metadata": {},
   "source": [
    "## Упражнение 2"
   ]
  },
  {
   "cell_type": "code",
   "execution_count": null,
   "metadata": {},
   "outputs": [],
   "source": [
    "X_b = np.c_[np.ones((100, 1)), X]\n",
    "\n",
    "alpha = 0.1\n",
    "n_iterations = 1000\n",
    "m = 100\n",
    "theta = np.random.randn(2,1)\n",
    "eps = 0.0001\n",
    "for iteration in range(n_iterations):\n",
    "    # your code here\n",
    "        \n",
    "print iteration, dist"
   ]
  },
  {
   "cell_type": "code",
   "execution_count": null,
   "metadata": {},
   "outputs": [],
   "source": [
    "theta"
   ]
  },
  {
   "cell_type": "markdown",
   "metadata": {},
   "source": [
    "## Стохастический градиентный спуск\n"
   ]
  },
  {
   "cell_type": "markdown",
   "metadata": {},
   "source": [
    "Проблема - используется вся обучающая выборка на каждом шаге алгоритма  \n",
    "Решение - использовать один случайный элемент выборки"
   ]
  },
  {
   "cell_type": "markdown",
   "metadata": {},
   "source": [
    "### Градиентный спуск\n",
    "\n",
    "```{python}\n",
    "1.function gd(X, alpha, epsilon):\n",
    "2.    initialise theta \n",
    "3.    do: \n",
    "4.        theta = new_theta\n",
    "5.        new_theta = theta - alpha * grad(X, theta)\n",
    "6.    until dist(new_theta, theta) < epsilon\n",
    "7.    return theta\n",
    "```\n",
    "\n",
    "### Стохастический градиентный спуск\n",
    "\n",
    "```{python}\n",
    "1.function sgd(X, alpha, epsilon):\n",
    "2. \tinitialise theta \n",
    "3. \tdo: \n",
    "4.        X = shuffle(X)\n",
    "5.        for x in X:\n",
    "6.            theta = new_theta\n",
    "7.            new_theta = theta - alpha * grad(x, theta)\n",
    "8.\tuntil dist(new_theta, theta) < epsilon\n",
    "9.\treturn theta\n",
    "```"
   ]
  },
  {
   "cell_type": "code",
   "execution_count": null,
   "metadata": {},
   "outputs": [],
   "source": [
    "m = len(X_b)\n",
    "alpha = 0.01\n",
    "n_epochs = 100\n",
    "t0, t1 = 5., 50  # learning schedule hyperparameters\n",
    "\n",
    "theta = np.random.randn(2,1)  # random initialization\n",
    "\n",
    "for epoch in range(n_epochs):\n",
    "    \n",
    "    # your code here\n",
    "        \n",
    "print theta"
   ]
  }
 ],
 "metadata": {
  "kernelspec": {
   "display_name": "Python 3",
   "language": "python",
   "name": "python3"
  },
  "language_info": {
   "codemirror_mode": {
    "name": "ipython",
    "version": 3
   },
   "file_extension": ".py",
   "mimetype": "text/x-python",
   "name": "python",
   "nbconvert_exporter": "python",
   "pygments_lexer": "ipython3",
   "version": "3.7.1"
  }
 },
 "nbformat": 4,
 "nbformat_minor": 2
}
