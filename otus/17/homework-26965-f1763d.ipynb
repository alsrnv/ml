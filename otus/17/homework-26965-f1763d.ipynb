{
 "cells": [
  {
   "cell_type": "markdown",
   "metadata": {},
   "source": [
    "# https://www.kaggle.com/c/mercari-price-suggestion-challenge \n",
    "# https://www.kaggle.com/c/home-credit-default-risk\n",
    "\n",
    "Выбрать одно из двух соревнований. Выбирайте по данным, с которыми вам интереснее работать."
   ]
  },
  {
   "cell_type": "code",
   "execution_count": 72,
   "metadata": {},
   "outputs": [],
   "source": [
    "import time\n",
    "import re\n",
    "from collections import defaultdict\n",
    "\n",
    "import pandas as pd\n",
    "import numpy as np\n",
    "import matplotlib\n",
    "import matplotlib.pyplot as plt\n",
    "import matplotlib.cm as cm\n",
    "import seaborn as sns\n",
    "\n",
    "from sklearn.base import BaseEstimator, TransformerMixin\n",
    "from sklearn.pipeline import make_union, make_pipeline\n",
    "from sklearn.preprocessing import FunctionTransformer, StandardScaler, LabelEncoder, MinMaxScaler,  Imputer, LabelBinarizer, OneHotEncoder\n",
    "from sklearn.feature_extraction import DictVectorizer\n",
    "from sklearn.linear_model import LogisticRegressionCV, LinearRegression\n",
    "from sklearn.metrics import accuracy_score, mean_squared_error\n",
    "from sklearn.model_selection import RandomizedSearchCV\n",
    "from sklearn.metrics import mean_squared_error\n",
    "from sklearn.linear_model import SGDRegressor, Ridge\n",
    "from sklearn.model_selection import KFold\n",
    "from sklearn.model_selection import train_test_split\n",
    "import gc\n",
    "from sklearn.feature_extraction.text import CountVectorizer, TfidfVectorizer\n",
    "from scipy.sparse import csr_matrix, hstack\n",
    "# Ансамбли\n",
    "\n",
    "import xgboost as xgb\n",
    "import lightgbm as lgb\n",
    "\n",
    "%matplotlib inline\n",
    "plt.rcParams[\"figure.figsize\"] = (15, 8)\n",
    "pd.options.display.float_format = '{:.2f}'.format"
   ]
  },
  {
   "cell_type": "markdown",
   "metadata": {},
   "source": [
    "# Задание\n",
    "1. Сделать baseline submission\n",
    "  * Исследовать признак price. \n",
    "  * Исследовать признак price в зависимости от brand_name или других признаков\n",
    "2. Реализовать цикл анализа\n",
    "  * признаки -> модель -> настройка параметров -> лучшая модель и ее значение метрики качества на кросс-валидации\n",
    "3. Провести простые преобразования признаков и добавление простых признаков\n",
    "  * разделить category_name на уровни\n",
    "  * посмотреть на наличие числовых значений в описании и имени\n",
    "4. Составить план по применению нескольких моделей на разных признаках\n",
    "  * спроектируйте эксперимент. Нужно заранее спланировать порядок перебора признаков и моделей. Потом только писать код. Обратный порядок вызывает необходимость переписывать существующий код, это трата времени\n",
    "5. Просмотреть 1-5 kernel на kaggle. (только в таком порядке. сначала работаем самостоятельно, потом смотрим идеи других. при появлении опыта можно сразу начинать с них)\n",
    "6. Построить модель, выбрать лучшую\n",
    "7. Построить ансамбль, настрить парамертры. Сравнить с другими моделями.\n",
    "8. Оценить качество на CV."
   ]
  },
  {
   "cell_type": "code",
   "execution_count": 5,
   "metadata": {},
   "outputs": [
    {
     "name": "stdout",
     "output_type": "stream",
     "text": [
      "(1482535, 8) (693359, 7)\n"
     ]
    },
    {
     "data": {
      "text/html": [
       "<div>\n",
       "<style scoped>\n",
       "    .dataframe tbody tr th:only-of-type {\n",
       "        vertical-align: middle;\n",
       "    }\n",
       "\n",
       "    .dataframe tbody tr th {\n",
       "        vertical-align: top;\n",
       "    }\n",
       "\n",
       "    .dataframe thead th {\n",
       "        text-align: right;\n",
       "    }\n",
       "</style>\n",
       "<table border=\"1\" class=\"dataframe\">\n",
       "  <thead>\n",
       "    <tr style=\"text-align: right;\">\n",
       "      <th></th>\n",
       "      <th>train_id</th>\n",
       "      <th>name</th>\n",
       "      <th>item_condition_id</th>\n",
       "      <th>category_name</th>\n",
       "      <th>brand_name</th>\n",
       "      <th>price</th>\n",
       "      <th>shipping</th>\n",
       "      <th>item_description</th>\n",
       "    </tr>\n",
       "  </thead>\n",
       "  <tbody>\n",
       "    <tr>\n",
       "      <th>0</th>\n",
       "      <td>0</td>\n",
       "      <td>MLB Cincinnati Reds T Shirt Size XL</td>\n",
       "      <td>3</td>\n",
       "      <td>Men/Tops/T-shirts</td>\n",
       "      <td>NaN</td>\n",
       "      <td>10.00</td>\n",
       "      <td>1</td>\n",
       "      <td>No description yet</td>\n",
       "    </tr>\n",
       "    <tr>\n",
       "      <th>1</th>\n",
       "      <td>1</td>\n",
       "      <td>Razer BlackWidow Chroma Keyboard</td>\n",
       "      <td>3</td>\n",
       "      <td>Electronics/Computers &amp; Tablets/Components &amp; P...</td>\n",
       "      <td>Razer</td>\n",
       "      <td>52.00</td>\n",
       "      <td>0</td>\n",
       "      <td>This keyboard is in great condition and works ...</td>\n",
       "    </tr>\n",
       "    <tr>\n",
       "      <th>2</th>\n",
       "      <td>2</td>\n",
       "      <td>AVA-VIV Blouse</td>\n",
       "      <td>1</td>\n",
       "      <td>Women/Tops &amp; Blouses/Blouse</td>\n",
       "      <td>Target</td>\n",
       "      <td>10.00</td>\n",
       "      <td>1</td>\n",
       "      <td>Adorable top with a hint of lace and a key hol...</td>\n",
       "    </tr>\n",
       "    <tr>\n",
       "      <th>3</th>\n",
       "      <td>3</td>\n",
       "      <td>Leather Horse Statues</td>\n",
       "      <td>1</td>\n",
       "      <td>Home/Home Décor/Home Décor Accents</td>\n",
       "      <td>NaN</td>\n",
       "      <td>35.00</td>\n",
       "      <td>1</td>\n",
       "      <td>New with tags. Leather horses. Retail for [rm]...</td>\n",
       "    </tr>\n",
       "    <tr>\n",
       "      <th>4</th>\n",
       "      <td>4</td>\n",
       "      <td>24K GOLD plated rose</td>\n",
       "      <td>1</td>\n",
       "      <td>Women/Jewelry/Necklaces</td>\n",
       "      <td>NaN</td>\n",
       "      <td>44.00</td>\n",
       "      <td>0</td>\n",
       "      <td>Complete with certificate of authenticity</td>\n",
       "    </tr>\n",
       "  </tbody>\n",
       "</table>\n",
       "</div>"
      ],
      "text/plain": [
       "   train_id                                 name  item_condition_id  \\\n",
       "0         0  MLB Cincinnati Reds T Shirt Size XL                  3   \n",
       "1         1     Razer BlackWidow Chroma Keyboard                  3   \n",
       "2         2                       AVA-VIV Blouse                  1   \n",
       "3         3                Leather Horse Statues                  1   \n",
       "4         4                 24K GOLD plated rose                  1   \n",
       "\n",
       "                                       category_name brand_name  price  \\\n",
       "0                                  Men/Tops/T-shirts        NaN  10.00   \n",
       "1  Electronics/Computers & Tablets/Components & P...      Razer  52.00   \n",
       "2                        Women/Tops & Blouses/Blouse     Target  10.00   \n",
       "3                 Home/Home Décor/Home Décor Accents        NaN  35.00   \n",
       "4                            Women/Jewelry/Necklaces        NaN  44.00   \n",
       "\n",
       "   shipping                                   item_description  \n",
       "0         1                                 No description yet  \n",
       "1         0  This keyboard is in great condition and works ...  \n",
       "2         1  Adorable top with a hint of lace and a key hol...  \n",
       "3         1  New with tags. Leather horses. Retail for [rm]...  \n",
       "4         0          Complete with certificate of authenticity  "
      ]
     },
     "execution_count": 5,
     "metadata": {},
     "output_type": "execute_result"
    }
   ],
   "source": [
    "\n",
    "train = pd.read_csv('data/train.tsv', sep='\\t')\n",
    "test = pd.read_csv('data/test.tsv', sep = '\\t')\n",
    "print(train.shape, test.shape)\n",
    "train.head()"
   ]
  },
  {
   "cell_type": "markdown",
   "metadata": {},
   "source": [
    "**Посмотрим на распределение признака price**"
   ]
  },
  {
   "cell_type": "code",
   "execution_count": 6,
   "metadata": {},
   "outputs": [
    {
     "data": {
      "image/png": "[encoded data removed]",
      "text/plain": [
       "<Figure size 720x360 with 1 Axes>"
      ]
     },
     "metadata": {
      "needs_background": "light"
     },
     "output_type": "display_data"
    }
   ],
   "source": [
    "plt.figure(figsize = (10,5))\n",
    "sns.distplot(train.query(\"\"\"price <=250\"\"\")['price'], hist=True, kde=False, bins=50, \n",
    "             color = 'blue', hist_kws={'edgecolor':'black'});"
   ]
  },
  {
   "cell_type": "markdown",
   "metadata": {},
   "source": [
    "Мы имеем ненормальное распределение с вытянутым хвостом. Популярные значение цены - около 20. Есть выбросы \n",
    "<br> Сделаем лог преобразование"
   ]
  },
  {
   "cell_type": "code",
   "execution_count": 7,
   "metadata": {},
   "outputs": [
    {
     "data": {
      "image/png": "[encoded data removed]",
      "text/plain": [
       "<Figure size 864x432 with 2 Axes>"
      ]
     },
     "metadata": {
      "needs_background": "light"
     },
     "output_type": "display_data"
    }
   ],
   "source": [
    "plt.subplot(1, 2, 1)\n",
    "(train['price']).plot.hist(bins=50, figsize=(12, 6), edgecolor = 'white', range = [0, 250])\n",
    "plt.xlabel('price', fontsize=12)\n",
    "plt.title('Price Distribution', fontsize=12);\n",
    "plt.subplot(1, 2, 2)\n",
    "np.log(train['price']+1).plot.hist(bins=50, figsize=(12,6), edgecolor='white')\n",
    "plt.xlabel('log(price+1)', fontsize=12)\n",
    "plt.title('Price Distribution', fontsize=12);"
   ]
  },
  {
   "cell_type": "markdown",
   "metadata": {},
   "source": [
    "**В 55% заказов доставка была оплачена покупателем**"
   ]
  },
  {
   "cell_type": "code",
   "execution_count": 8,
   "metadata": {},
   "outputs": [
    {
     "data": {
      "text/plain": [
       "0   0.55\n",
       "1   0.45\n",
       "Name: shipping, dtype: float64"
      ]
     },
     "execution_count": 8,
     "metadata": {},
     "output_type": "execute_result"
    }
   ],
   "source": [
    "train['shipping'].value_counts() / len(train)"
   ]
  },
  {
   "cell_type": "markdown",
   "metadata": {},
   "source": [
    "**В среднем цена выше где покупатель сам платит за доставку**"
   ]
  },
  {
   "cell_type": "code",
   "execution_count": 9,
   "metadata": {},
   "outputs": [
    {
     "data": {
      "image/png": "[encoded data removed]",
      "text/plain": [
       "<Figure size 1296x576 with 1 Axes>"
      ]
     },
     "metadata": {
      "needs_background": "light"
     },
     "output_type": "display_data"
    }
   ],
   "source": [
    "shipping_fee_by_buyer = train.loc[train['shipping'] == 0, 'price']\n",
    "shipping_fee_by_seller = train.loc[train['shipping'] == 1, 'price']\n",
    "fig, ax = plt.subplots(figsize=(18,8))\n",
    "ax.hist(shipping_fee_by_seller, color='#8CB4E1', alpha=1.0, bins=50, range = [0, 100],\n",
    "       label='Price when Seller pays Shipping')\n",
    "ax.hist(shipping_fee_by_buyer, color='#007D00', alpha=0.7, bins=50, range = [0, 100],\n",
    "       label='Price when Buyer pays Shipping')\n",
    "plt.xlabel('price', fontsize=12)\n",
    "plt.ylabel('frequency', fontsize=12)\n",
    "plt.title('Price Distribution by Shipping Type', fontsize=15)\n",
    "plt.tick_params(labelsize=12)\n",
    "plt.legend()\n",
    "plt.show()"
   ]
  },
  {
   "cell_type": "code",
   "execution_count": 10,
   "metadata": {},
   "outputs": [
    {
     "data": {
      "text/plain": [
       "Women/Athletic Apparel/Pants, Tights, Leggings                 60177\n",
       "Women/Tops & Blouses/T-Shirts                                  46380\n",
       "Beauty/Makeup/Face                                             34335\n",
       "Beauty/Makeup/Lips                                             29910\n",
       "Electronics/Video Games & Consoles/Games                       26557\n",
       "Beauty/Makeup/Eyes                                             25215\n",
       "Electronics/Cell Phones & Accessories/Cases, Covers & Skins    24676\n",
       "Women/Underwear/Bras                                           21274\n",
       "Women/Tops & Blouses/Blouse                                    20284\n",
       "Women/Tops & Blouses/Tank, Cami                                20284\n",
       "Name: category_name, dtype: int64"
      ]
     },
     "execution_count": 10,
     "metadata": {},
     "output_type": "execute_result"
    }
   ],
   "source": [
    "# топ 10 популярных категории\n",
    "train['category_name'].value_counts()[:10]"
   ]
  },
  {
   "cell_type": "code",
   "execution_count": 11,
   "metadata": {},
   "outputs": [
    {
     "data": {
      "image/png": "[encoded data removed]",
      "text/plain": [
       "<Figure size 1080x576 with 1 Axes>"
      ]
     },
     "metadata": {
      "needs_background": "light"
     },
     "output_type": "display_data"
    }
   ],
   "source": [
    "# Распределение цен по item_condition_id\n",
    "sns.boxplot(x = 'item_condition_id', y = np.log(train['price']+1), \n",
    "            data = train, palette = sns.color_palette('RdBu',5));"
   ]
  },
  {
   "cell_type": "markdown",
   "metadata": {},
   "source": [
    "### FE"
   ]
  },
  {
   "cell_type": "code",
   "execution_count": 12,
   "metadata": {},
   "outputs": [],
   "source": [
    "#constrains\n",
    "NUM_BRANDS = 4000\n",
    "NUM_CATEGORIES = 1000\n",
    "NAME_MIN_DF = 10\n",
    "MAX_FEATURES_ITEM_DESCRIPTION = 10000"
   ]
  },
  {
   "cell_type": "code",
   "execution_count": 13,
   "metadata": {},
   "outputs": [
    {
     "data": {
      "text/plain": [
       "3946"
      ]
     },
     "execution_count": 13,
     "metadata": {},
     "output_type": "execute_result"
    }
   ],
   "source": [
    "Y_TRAIN = np.log1p(train['price'])\n",
    "tr_ids = train['train_id'].values.astype(np.int32)\n",
    "train.drop(['price', 'train_id'], axis=1, inplace=True)\n",
    "te_ids = test['test_id'].values.astype(np.int32)\n",
    "test.drop(['test_id'], axis=1, inplace=True)\n",
    "\n",
    "df = pd.concat([train, test])\n",
    "nrow_train = train.shape[0]\n",
    "del train, test\n",
    "gc.collect()"
   ]
  },
  {
   "cell_type": "code",
   "execution_count": 14,
   "metadata": {},
   "outputs": [],
   "source": [
    "#helper functions\n",
    "def handle_missing_inplace(dataset): \n",
    "    dataset['category_name'].fillna(value='missing', inplace=True) \n",
    "    dataset['brand_name'].fillna(value='missing', inplace=True) \n",
    "    dataset['item_description'].replace('No description yet,''missing', inplace=True) \n",
    "    dataset['item_description'].fillna(value='missing', inplace=True)\n",
    "def cutting(dataset):\n",
    "    pop_brand = dataset['brand_name'].value_counts().loc[lambda x: x.index != 'missing'].index[:NUM_BRANDS]\n",
    "    dataset.loc[~dataset['brand_name'].isin(pop_brand), 'brand_name'] = 'missing'\n",
    "    pop_category = dataset['category_name'].value_counts().loc[lambda x: x.index != 'missing'].index[:NUM_CATEGORIES]\n",
    "def to_categorical(dataset):\n",
    "    dataset['category_name'] = dataset['category_name'].astype('category')\n",
    "    #dataset['brand_name'] = dataset['brand_name'].astype('category')\n",
    "    dataset['item_condition_id'] = dataset['item_condition_id'].astype('category')\n",
    "\n",
    "# Сделаем преобразование\n",
    "handle_missing_inplace(df)\n",
    "cutting(df)\n",
    "to_categorical(df)"
   ]
  },
  {
   "cell_type": "code",
   "execution_count": 15,
   "metadata": {},
   "outputs": [
    {
     "data": {
      "text/html": [
       "<div>\n",
       "<style scoped>\n",
       "    .dataframe tbody tr th:only-of-type {\n",
       "        vertical-align: middle;\n",
       "    }\n",
       "\n",
       "    .dataframe tbody tr th {\n",
       "        vertical-align: top;\n",
       "    }\n",
       "\n",
       "    .dataframe thead th {\n",
       "        text-align: right;\n",
       "    }\n",
       "</style>\n",
       "<table border=\"1\" class=\"dataframe\">\n",
       "  <thead>\n",
       "    <tr style=\"text-align: right;\">\n",
       "      <th></th>\n",
       "      <th>name</th>\n",
       "      <th>item_condition_id</th>\n",
       "      <th>category_name</th>\n",
       "      <th>brand_name</th>\n",
       "      <th>shipping</th>\n",
       "      <th>item_description</th>\n",
       "    </tr>\n",
       "  </thead>\n",
       "  <tbody>\n",
       "    <tr>\n",
       "      <th>0</th>\n",
       "      <td>MLB Cincinnati Reds T Shirt Size XL</td>\n",
       "      <td>3</td>\n",
       "      <td>Men/Tops/T-shirts</td>\n",
       "      <td>missing</td>\n",
       "      <td>1</td>\n",
       "      <td>No description yet</td>\n",
       "    </tr>\n",
       "    <tr>\n",
       "      <th>1</th>\n",
       "      <td>Razer BlackWidow Chroma Keyboard</td>\n",
       "      <td>3</td>\n",
       "      <td>Electronics/Computers &amp; Tablets/Components &amp; P...</td>\n",
       "      <td>Razer</td>\n",
       "      <td>0</td>\n",
       "      <td>This keyboard is in great condition and works ...</td>\n",
       "    </tr>\n",
       "    <tr>\n",
       "      <th>2</th>\n",
       "      <td>AVA-VIV Blouse</td>\n",
       "      <td>1</td>\n",
       "      <td>Women/Tops &amp; Blouses/Blouse</td>\n",
       "      <td>Target</td>\n",
       "      <td>1</td>\n",
       "      <td>Adorable top with a hint of lace and a key hol...</td>\n",
       "    </tr>\n",
       "    <tr>\n",
       "      <th>3</th>\n",
       "      <td>Leather Horse Statues</td>\n",
       "      <td>1</td>\n",
       "      <td>Home/Home Décor/Home Décor Accents</td>\n",
       "      <td>missing</td>\n",
       "      <td>1</td>\n",
       "      <td>New with tags. Leather horses. Retail for [rm]...</td>\n",
       "    </tr>\n",
       "    <tr>\n",
       "      <th>4</th>\n",
       "      <td>24K GOLD plated rose</td>\n",
       "      <td>1</td>\n",
       "      <td>Women/Jewelry/Necklaces</td>\n",
       "      <td>missing</td>\n",
       "      <td>0</td>\n",
       "      <td>Complete with certificate of authenticity</td>\n",
       "    </tr>\n",
       "  </tbody>\n",
       "</table>\n",
       "</div>"
      ],
      "text/plain": [
       "                                  name item_condition_id  \\\n",
       "0  MLB Cincinnati Reds T Shirt Size XL                 3   \n",
       "1     Razer BlackWidow Chroma Keyboard                 3   \n",
       "2                       AVA-VIV Blouse                 1   \n",
       "3                Leather Horse Statues                 1   \n",
       "4                 24K GOLD plated rose                 1   \n",
       "\n",
       "                                       category_name brand_name  shipping  \\\n",
       "0                                  Men/Tops/T-shirts    missing         1   \n",
       "1  Electronics/Computers & Tablets/Components & P...      Razer         0   \n",
       "2                        Women/Tops & Blouses/Blouse     Target         1   \n",
       "3                 Home/Home Décor/Home Décor Accents    missing         1   \n",
       "4                            Women/Jewelry/Necklaces    missing         0   \n",
       "\n",
       "                                    item_description  \n",
       "0                                 No description yet  \n",
       "1  This keyboard is in great condition and works ...  \n",
       "2  Adorable top with a hint of lace and a key hol...  \n",
       "3  New with tags. Leather horses. Retail for [rm]...  \n",
       "4          Complete with certificate of authenticity  "
      ]
     },
     "execution_count": 15,
     "metadata": {},
     "output_type": "execute_result"
    }
   ],
   "source": [
    "df.head()"
   ]
  },
  {
   "cell_type": "markdown",
   "metadata": {},
   "source": [
    "**Обработаем текстовые фичи**"
   ]
  },
  {
   "cell_type": "code",
   "execution_count": 16,
   "metadata": {},
   "outputs": [
    {
     "name": "stdout",
     "output_type": "stream",
     "text": [
      "pass xname\n",
      "pass cv\n",
      "pass tv\n",
      "pass xbrand\n",
      "pass x dummies\n",
      "CPU times: user 8min 59s, sys: 44.5 s, total: 9min 44s\n",
      "Wall time: 10min 11s\n"
     ]
    }
   ],
   "source": [
    "%%time\n",
    "cv = CountVectorizer(min_df=NAME_MIN_DF)\n",
    "X_name = cv.fit_transform(df['name'])\n",
    "print('pass xname')\n",
    "cv = CountVectorizer()\n",
    "X_category = cv.fit_transform(df['category_name'])\n",
    "print('pass cv')\n",
    "tv = TfidfVectorizer(max_features=MAX_FEATURES_ITEM_DESCRIPTION, ngram_range=(1, 3), stop_words='english')\n",
    "X_description = tv.fit_transform(df['item_description'])\n",
    "print('pass tv')\n",
    "\n",
    "lb = LabelBinarizer(sparse_output = True)\n",
    "X_brand = lb.fit_transform(df['brand_name'])\n",
    "print('pass xbrand')\n",
    "\n",
    "X_dummies = csr_matrix(pd.get_dummies(df[['item_condition_id', 'shipping']], sparse=True).values)\n",
    "print('pass x dummies')\n",
    "\n",
    "sparse_df = hstack((X_dummies, X_description, X_brand, X_category, X_name)).tocsr()\n"
   ]
  },
  {
   "cell_type": "code",
   "execution_count": 17,
   "metadata": {},
   "outputs": [
    {
     "data": {
      "text/plain": [
       "<2175894x36286 sparse matrix of type '<class 'numpy.float64'>'\n",
       "\twith 61436360 stored elements in Compressed Sparse Row format>"
      ]
     },
     "execution_count": 17,
     "metadata": {},
     "output_type": "execute_result"
    }
   ],
   "source": [
    "sparse_df"
   ]
  },
  {
   "cell_type": "markdown",
   "metadata": {},
   "source": [
    "**Применим несколько моделей на CV и выберем лучшую**"
   ]
  },
  {
   "cell_type": "code",
   "execution_count": 18,
   "metadata": {},
   "outputs": [],
   "source": [
    "#Вспомогательные функции обертки\n",
    "        \n",
    "class LightGBMWrapper():\n",
    "    def __init__(self, seed=0, params=None):\n",
    "        self.params = params\n",
    "        self.params['seed'] = seed\n",
    "        self.verbose = params.pop('verbose', 50)\n",
    "\n",
    "    def train(self, x_train, y_train):\n",
    "        self.model = lgb.LGBMModel(**self.params)\n",
    "        self.model.fit(x_train, y_train, eval_set = [(x_train, y_train)], verbose = self.verbose)\n",
    "    def predict(self, x):\n",
    "        return self.model.predict(x)\n",
    "\n",
    "\n",
    "class XgbWrapper(object):\n",
    "    def __init__(self, seed=0, params=None):\n",
    "        self.param = params\n",
    "        self.param['seed'] = seed\n",
    "        self.nrounds = params.pop('nrounds', 250)\n",
    "\n",
    "    def train(self, x_train, y_train):\n",
    "        dtrain = xgb.DMatrix(x_train, label=y_train)\n",
    "        self.model = xgb.train(self.param, dtrain, self.nrounds)\n",
    "\n",
    "    def predict(self, x):\n",
    "        return self.model.predict(xgb.DMatrix(x))\n",
    "\n",
    "class SklearnWrapper(object):\n",
    "    def __init__(self, clf, seed=0, params=None):\n",
    "        params['random_state'] = seed\n",
    "        self.clf = clf(**params)\n",
    "\n",
    "    def train(self, x_train, y_train):\n",
    "        self.clf.fit(x_train, y_train)\n",
    "\n",
    "    def predict(self, x):\n",
    "        return self.clf.predict(x)\n",
    "    \n"
   ]
  },
  {
   "cell_type": "code",
   "execution_count": 19,
   "metadata": {},
   "outputs": [],
   "source": [
    "#df_main = pd.DataFrame(sparse_df.todense())"
   ]
  },
  {
   "cell_type": "code",
   "execution_count": 67,
   "metadata": {},
   "outputs": [
    {
     "name": "stdout",
     "output_type": "stream",
     "text": [
      "Train ridge\n"
     ]
    },
    {
     "name": "stderr",
     "output_type": "stream",
     "text": [
      "/anaconda3/lib/python3.7/site-packages/sklearn/linear_model/ridge.py:332: UserWarning: In Ridge, only 'sag' solver can currently fit the intercept when X is sparse. Solver has been automatically changed into 'sag'.\n",
      "  warnings.warn(\"In Ridge, only 'sag' solver can currently fit the \"\n",
      "/anaconda3/lib/python3.7/site-packages/sklearn/linear_model/ridge.py:332: UserWarning: In Ridge, only 'sag' solver can currently fit the intercept when X is sparse. Solver has been automatically changed into 'sag'.\n",
      "  warnings.warn(\"In Ridge, only 'sag' solver can currently fit the \"\n",
      "/anaconda3/lib/python3.7/site-packages/sklearn/linear_model/ridge.py:332: UserWarning: In Ridge, only 'sag' solver can currently fit the intercept when X is sparse. Solver has been automatically changed into 'sag'.\n",
      "  warnings.warn(\"In Ridge, only 'sag' solver can currently fit the \"\n"
     ]
    },
    {
     "name": "stdout",
     "output_type": "stream",
     "text": [
      "Train LightGBM\n",
      "[50]\ttraining's rmse: 0.566617\n",
      "[100]\ttraining's rmse: 0.540772\n",
      "[50]\ttraining's rmse: 0.565674\n",
      "[100]\ttraining's rmse: 0.540063\n",
      "[50]\ttraining's rmse: 0.565794\n",
      "[100]\ttraining's rmse: 0.540531\n",
      "----------------------------------------------------------------\n"
     ]
    }
   ],
   "source": [
    "\n",
    "X_TRAIN = sparse_df[:nrow_train]\n",
    "X_TEST = sparse_df[nrow_train:]\n",
    "NTRAIN = X_TRAIN.shape[0]\n",
    "NTEST = X_TEST.shape[0]\n",
    "\n",
    "NFOLDS = 3\n",
    "SEED = 0\n",
    "kf = KFold(n_splits = NFOLDS, shuffle=True, random_state=SEED)\n",
    "\n",
    "xgb_params = {\n",
    "    'objective': 'reg:linear',\n",
    "    'eval_metric':'rmse', \n",
    "    'verbosity': 0\n",
    "}\n",
    "lightgbm_params = {\n",
    "        'boosting_type': 'gbdt',\n",
    "        'learning_rate': 0.75,\n",
    "        'max_depth': 3,\n",
    "        'objective': 'regression',\n",
    "        'metric': 'rmse',\n",
    "        'verbose': 50,\n",
    "    }\n",
    "ridge_params = {\n",
    "    'solver':\"lsqr\"\n",
    "}\n",
    "\n",
    "#out of fold \n",
    "def get_oof(clf):\n",
    "    oof_train = np.zeros((NTRAIN,))\n",
    "    oof_test = np.zeros((NTEST,))\n",
    "    oof_test_skf = np.empty((NFOLDS, NTEST))\n",
    "\n",
    "    for i, (train_index, test_index) in enumerate(kf.split(X_TRAIN)):\n",
    "        x_tr = X_TRAIN[train_index]\n",
    "        y_tr = Y_TRAIN[train_index]\n",
    "        x_te = X_TRAIN[test_index]\n",
    "        clf.train(x_tr, y_tr)\n",
    "        oof_train[test_index] = clf.predict(x_te)\n",
    "        oof_test_skf[i, :] = clf.predict(X_TEST)\n",
    "\n",
    "\n",
    "    oof_test[:] = oof_test_skf.mean(axis=0)\n",
    "    return oof_train.reshape(-1, 1), oof_test.reshape(-1, 1)\n",
    "\n",
    "\n",
    "#xg = XgbWrapper(seed=SEED, params=xgb_params)\n",
    "rg = SklearnWrapper(clf = Ridge, seed = SEED, params = ridge_params)\n",
    "lg = LightGBMWrapper(seed = SEED, params = lightgbm_params)\n",
    "\n",
    "print('Train ridge')\n",
    "rg_oof_train, rg_oof_test = get_oof(rg)\n",
    "print('Train LightGBM')\n",
    "lg_oof_train, lg_oof_test  = get_oof(lg)\n",
    "\n",
    "# print('Train xgboost')\n",
    "# xg_oof_train = get_oof(xg)\n",
    "\n",
    "\n",
    "print('----------------------------------------------------------------')\n",
    "\n",
    "ridge_oof_RMSLE = np.sqrt(mean_squared_error(Y_TRAIN, rg_oof_train))\n",
    "lgb_oof_RMSLE = np.sqrt(mean_squared_error(Y_TRAIN, lg_oof_train))\n",
    "#xgb_oof_RMSLE = np.sqrt(mean_squared_error(Y_TRAIN, xg_oof_train))\n",
    "\n"
   ]
  },
  {
   "cell_type": "code",
   "execution_count": 70,
   "metadata": {},
   "outputs": [
    {
     "name": "stdout",
     "output_type": "stream",
     "text": [
      "ridge cv score 0.4756708394741647\n",
      "lgb cv score 0.5423646336091389\n"
     ]
    }
   ],
   "source": [
    "print('ridge cv score', ridge_oof_RMSLE)\n",
    "print('lgb cv score', lgb_oof_RMSLE)\n",
    "#print('xgb cv score', xgb_oof_RMSLE)"
   ]
  },
  {
   "cell_type": "code",
   "execution_count": null,
   "metadata": {},
   "outputs": [],
   "source": [
    "#Сделаем финальный сабмишн\n",
    "model = Ridge()\n",
    "model.fit(X_TRAIN, Y_TRAIN)\n",
    "preds = np.expm1(model.predict(X_TEST))\n",
    "preds.to_csv('submission.csv', index = False)"
   ]
  },
  {
   "cell_type": "markdown",
   "metadata": {},
   "source": [
    "### Попробуем комбинацию моделей"
   ]
  },
  {
   "cell_type": "code",
   "execution_count": 77,
   "metadata": {},
   "outputs": [
    {
     "name": "stderr",
     "output_type": "stream",
     "text": [
      "/anaconda3/lib/python3.7/site-packages/sklearn/linear_model/ridge.py:332: UserWarning: In Ridge, only 'sag' solver can currently fit the intercept when X is sparse. Solver has been automatically changed into 'sag'.\n",
      "  warnings.warn(\"In Ridge, only 'sag' solver can currently fit the \"\n"
     ]
    },
    {
     "name": "stdout",
     "output_type": "stream",
     "text": [
      "[50]\ttraining's rmse: 0.566761\n",
      "[100]\ttraining's rmse: 0.541469\n",
      "score stacked  0.47448752726369786\n",
      "score LightGbm  0.5439689231602463\n",
      "score Ridge  0.4774583451675049\n"
     ]
    }
   ],
   "source": [
    "X_train, X_test, y_train, y_test = train_test_split(X_TRAIN, Y_TRAIN, random_state=42)\n",
    "\n",
    "X_in, X_out, y_in, y_out = train_test_split(X_train, y_train, random_state=42) # hold-out - blending. \n",
    "\n",
    "rg.train(X_in, y_in)\n",
    "lg.train(X_in, y_in)\n",
    "\n",
    "rg_y = rg.predict(X_out)\n",
    "lg_y = lg.predict(X_out)\n",
    "\n",
    "\n",
    "lr = LinearRegression()\n",
    "lr.fit(np.c_[rg_y, lg_y], y_out)\n",
    "\n",
    "y_stack = lr.predict(np.c_[rg.predict(X_test), lg.predict(X_test)])\n",
    "\n",
    "print('score stacked ', np.sqrt(mean_squared_error(y_test, y_stack)))\n",
    "print('score LightGbm ', np.sqrt(mean_squared_error(y_test, lg.predict(X_test))))\n",
    "print('score Ridge ', np.sqrt(mean_squared_error(y_test, rg.predict(X_test))))"
   ]
  },
  {
   "cell_type": "markdown",
   "metadata": {},
   "source": [
    "**качество немного выросло по сравнению с Ridge**"
   ]
  },
  {
   "cell_type": "code",
   "execution_count": 78,
   "metadata": {},
   "outputs": [
    {
     "data": {
      "text/plain": [
       "array([ 9.38942884, 71.16364696, 10.64414701, ..., 20.25815266,\n",
       "       12.25641814, 34.30097752])"
      ]
     },
     "execution_count": 78,
     "metadata": {},
     "output_type": "execute_result"
    }
   ],
   "source": [
    "#самбишн\n",
    "np.expm1(lr.predict(np.c_[rg.predict(X_TRAIN), lg.predict(X_TRAIN)]))"
   ]
  },
  {
   "cell_type": "code",
   "execution_count": null,
   "metadata": {},
   "outputs": [],
   "source": []
  },
  {
   "cell_type": "code",
   "execution_count": null,
   "metadata": {},
   "outputs": [],
   "source": []
  }
 ],
 "metadata": {
  "kernelspec": {
   "display_name": "Python 3",
   "language": "python",
   "name": "python3"
  },
  "language_info": {
   "codemirror_mode": {
    "name": "ipython",
    "version": 3
   },
   "file_extension": ".py",
   "mimetype": "text/x-python",
   "name": "python",
   "nbconvert_exporter": "python",
   "pygments_lexer": "ipython3",
   "version": "3.7.1"
  }
 },
 "nbformat": 4,
 "nbformat_minor": 2
}
